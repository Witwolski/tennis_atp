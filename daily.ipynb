{
 "cells": [
  {
   "cell_type": "code",
   "execution_count": 8,
   "metadata": {},
   "outputs": [
    {
     "data": {
      "text/html": [
       "<div>\n",
       "<style scoped>\n",
       "    .dataframe tbody tr th:only-of-type {\n",
       "        vertical-align: middle;\n",
       "    }\n",
       "\n",
       "    .dataframe tbody tr th {\n",
       "        vertical-align: top;\n",
       "    }\n",
       "\n",
       "    .dataframe thead th {\n",
       "        text-align: right;\n",
       "    }\n",
       "</style>\n",
       "<table border=\"1\" class=\"dataframe\">\n",
       "  <thead>\n",
       "    <tr style=\"text-align: right;\">\n",
       "      <th></th>\n",
       "      <th>Elo_Fav</th>\n",
       "      <th>Table2.WinsLosses</th>\n",
       "    </tr>\n",
       "  </thead>\n",
       "  <tbody>\n",
       "    <tr>\n",
       "      <th>286</th>\n",
       "      <td>Sebastian Baez</td>\n",
       "      <td>80</td>\n",
       "    </tr>\n",
       "    <tr>\n",
       "      <th>56</th>\n",
       "      <td>Carlos Alcaraz</td>\n",
       "      <td>80</td>\n",
       "    </tr>\n",
       "    <tr>\n",
       "      <th>285</th>\n",
       "      <td>Sebastian Baez</td>\n",
       "      <td>70</td>\n",
       "    </tr>\n",
       "    <tr>\n",
       "      <th>55</th>\n",
       "      <td>Carlos Alcaraz</td>\n",
       "      <td>70</td>\n",
       "    </tr>\n",
       "    <tr>\n",
       "      <th>208</th>\n",
       "      <td>Lorenzo Giustino</td>\n",
       "      <td>60</td>\n",
       "    </tr>\n",
       "    <tr>\n",
       "      <th>...</th>\n",
       "      <td>...</td>\n",
       "      <td>...</td>\n",
       "    </tr>\n",
       "    <tr>\n",
       "      <th>61</th>\n",
       "      <td>Clement Tabur</td>\n",
       "      <td>20</td>\n",
       "    </tr>\n",
       "    <tr>\n",
       "      <th>150</th>\n",
       "      <td>Gerald Melzer</td>\n",
       "      <td>20</td>\n",
       "    </tr>\n",
       "    <tr>\n",
       "      <th>238</th>\n",
       "      <td>Nikoloz Basilashvili</td>\n",
       "      <td>20</td>\n",
       "    </tr>\n",
       "    <tr>\n",
       "      <th>57</th>\n",
       "      <td>Caroline Garcia</td>\n",
       "      <td>20</td>\n",
       "    </tr>\n",
       "    <tr>\n",
       "      <th>0</th>\n",
       "      <td>Adrian Menendez Maceiras</td>\n",
       "      <td>20</td>\n",
       "    </tr>\n",
       "  </tbody>\n",
       "</table>\n",
       "<p>137 rows × 2 columns</p>\n",
       "</div>"
      ],
      "text/plain": [
       "                      Elo_Fav  Table2.WinsLosses\n",
       "286            Sebastian Baez                 80\n",
       "56             Carlos Alcaraz                 80\n",
       "285            Sebastian Baez                 70\n",
       "55             Carlos Alcaraz                 70\n",
       "208          Lorenzo Giustino                 60\n",
       "..                        ...                ...\n",
       "61              Clement Tabur                 20\n",
       "150             Gerald Melzer                 20\n",
       "238      Nikoloz Basilashvili                 20\n",
       "57            Caroline Garcia                 20\n",
       "0    Adrian Menendez Maceiras                 20\n",
       "\n",
       "[137 rows x 2 columns]"
      ]
     },
     "execution_count": 8,
     "metadata": {},
     "output_type": "execute_result"
    }
   ],
   "source": [
    "import pandas as pd\n"
   ]
  },
  {
   "cell_type": "code",
   "execution_count": 58,
   "metadata": {},
   "outputs": [],
   "source": [
    "todays_matches=pd.read_excel(\"Bets_Today.xlsx\")\n",
    "todays_matches=todays_matches.round({'Thresh': 1})\n",
    "\n",
    "prev_analysis=pd.read_excel(\"analysis.xlsx\")\n",
    "prev_analysis=prev_analysis[prev_analysis['FavDog']=='Fav']\n",
    "\n",
    "combine_data=pd.merge(todays_matches,prev_analysis,how='inner',left_on=['Sex','Thresh','Higher'],right_on=['Sex','Thresh','HigherLower'],suffixes=['','_y'])\n",
    "combine_data['Filter']=combine_data.apply(lambda x: True if x['WinsLosses_y'] <= x['WinsLosses'] else False,axis=1)\n",
    "\n",
    "filtered_data=combine_data[combine_data['Filter']==True]\n",
    "filtered_data.sort_values(by='WinsLosses_y',ascending=False,inplace=True)\n",
    "\n",
    "output_data=filtered_data[[\"Sex\",\"Elo_Fav\",\"Elo_Dog\",\"Elo_Fav_Odds\",\"Elo_Fav_Est_Odds\",'WinsLosses','WinsLosses_y','WinPercent','Games','Profit','Games_y','Profit_y']]\n",
    "output_data.drop_duplicates(subset='Elo_Fav').to_excel('DailyFiltered.xlsx',index=False)"
   ]
  }
 ],
 "metadata": {
  "kernelspec": {
   "display_name": "Python 3.9.7 ('base')",
   "language": "python",
   "name": "python3"
  },
  "language_info": {
   "codemirror_mode": {
    "name": "ipython",
    "version": 3
   },
   "file_extension": ".py",
   "mimetype": "text/x-python",
   "name": "python",
   "nbconvert_exporter": "python",
   "pygments_lexer": "ipython3",
   "version": "3.9.7"
  },
  "orig_nbformat": 4,
  "vscode": {
   "interpreter": {
    "hash": "fb833273add3e7c60eb33c0608260b79a61e072ade6f02cc8d07b0a26eef8ab8"
   }
  }
 },
 "nbformat": 4,
 "nbformat_minor": 2
}
