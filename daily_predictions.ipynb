{
 "cells": [
  {
   "cell_type": "code",
   "execution_count": 3,
   "metadata": {},
   "outputs": [],
   "source": [
    "import pandas as pd\n",
    "from sqlalchemy import create_engine\n",
    "import pandas as pd\n",
    "import numpy as np\n",
    "import datetime\n",
    "devengine = create_engine(\"sqlite:///C:/Git/tennis_atp/database/bets_sqllite.db\")\n",
    "time_now = datetime.datetime.now()\n",
    "time_now_formatted = time_now.strftime(\"%Y-%m-%d\")\n",
    "clay_today=pd.read_pickle('.\\Clay_Today')\n",
    "clay_today=clay_today[clay_today['Resulted']=='False']\n"
   ]
  },
  {
   "cell_type": "code",
   "execution_count": 4,
   "metadata": {},
   "outputs": [
    {
     "data": {
      "text/html": [
       "<div>\n",
       "<style scoped>\n",
       "    .dataframe tbody tr th:only-of-type {\n",
       "        vertical-align: middle;\n",
       "    }\n",
       "\n",
       "    .dataframe tbody tr th {\n",
       "        vertical-align: top;\n",
       "    }\n",
       "\n",
       "    .dataframe thead th {\n",
       "        text-align: right;\n",
       "    }\n",
       "</style>\n",
       "<table border=\"1\" class=\"dataframe\">\n",
       "  <thead>\n",
       "    <tr style=\"text-align: right;\">\n",
       "      <th></th>\n",
       "      <th>Time</th>\n",
       "      <th>Fav_Top100</th>\n",
       "      <th>Dog_Top100</th>\n",
       "      <th>Fav</th>\n",
       "      <th>Fav_Odds</th>\n",
       "      <th>dog_percent</th>\n",
       "      <th>dog_last_five_win_perc</th>\n",
       "      <th>fav_percent</th>\n",
       "      <th>fav_last_five_win_perc</th>\n",
       "    </tr>\n",
       "  </thead>\n",
       "  <tbody>\n",
       "  </tbody>\n",
       "</table>\n",
       "</div>"
      ],
      "text/plain": [
       "Empty DataFrame\n",
       "Columns: [Time, Fav_Top100, Dog_Top100, Fav, Fav_Odds, dog_percent, dog_last_five_win_perc, fav_percent, fav_last_five_win_perc]\n",
       "Index: []"
      ]
     },
     "execution_count": 4,
     "metadata": {},
     "output_type": "execute_result"
    }
   ],
   "source": [
    "clay_today[['Time','Fav_Top100','Dog_Top100','Fav','Fav_Odds','dog_percent','dog_last_five_win_perc','fav_percent','fav_last_five_win_perc']][((clay_today['fav_percent']>0.8)|(clay_today['dog_percent']>0.4)\n",
    "                                                            )&(clay_today['Fav_Odds']<12)&(clay_today['Fav_Odds']>12)&((clay_today['fav_last_five_win_perc']>0.5)|(clay_today['dog_last_five_win_perc']>0.5))]"
   ]
  },
  {
   "cell_type": "code",
   "execution_count": 5,
   "metadata": {},
   "outputs": [
    {
     "data": {
      "text/html": [
       "<div>\n",
       "<style scoped>\n",
       "    .dataframe tbody tr th:only-of-type {\n",
       "        vertical-align: middle;\n",
       "    }\n",
       "\n",
       "    .dataframe tbody tr th {\n",
       "        vertical-align: top;\n",
       "    }\n",
       "\n",
       "    .dataframe thead th {\n",
       "        text-align: right;\n",
       "    }\n",
       "</style>\n",
       "<table border=\"1\" class=\"dataframe\">\n",
       "  <thead>\n",
       "    <tr style=\"text-align: right;\">\n",
       "      <th></th>\n",
       "      <th>Time</th>\n",
       "      <th>Fav</th>\n",
       "      <th>Dog</th>\n",
       "      <th>fav_percent</th>\n",
       "      <th>dog_percent</th>\n",
       "      <th>Fav_Odds</th>\n",
       "      <th>fav_last_five_win_perc</th>\n",
       "      <th>dog_last_five_win_perc</th>\n",
       "      <th>Fav_Top100</th>\n",
       "      <th>Dog_Top100</th>\n",
       "    </tr>\n",
       "  </thead>\n",
       "  <tbody>\n",
       "  </tbody>\n",
       "</table>\n",
       "</div>"
      ],
      "text/plain": [
       "Empty DataFrame\n",
       "Columns: [Time, Fav, Dog, fav_percent, dog_percent, Fav_Odds, fav_last_five_win_perc, dog_last_five_win_perc, Fav_Top100, Dog_Top100]\n",
       "Index: []"
      ]
     },
     "execution_count": 5,
     "metadata": {},
     "output_type": "execute_result"
    }
   ],
   "source": [
    "clay_today[['Time','Fav','Dog','fav_percent','dog_percent','Fav_Odds','fav_last_five_win_perc','dog_last_five_win_perc','Fav_Top100','Dog_Top100']][(clay_today['dog_percent']<0.4)&(clay_today['fav_percent']>=0.7)].sort_values(by='fav_percent',ascending=False).head(5)"
   ]
  },
  {
   "cell_type": "code",
   "execution_count": 6,
   "metadata": {},
   "outputs": [
    {
     "data": {
      "text/html": [
       "<div>\n",
       "<style scoped>\n",
       "    .dataframe tbody tr th:only-of-type {\n",
       "        vertical-align: middle;\n",
       "    }\n",
       "\n",
       "    .dataframe tbody tr th {\n",
       "        vertical-align: top;\n",
       "    }\n",
       "\n",
       "    .dataframe thead th {\n",
       "        text-align: right;\n",
       "    }\n",
       "</style>\n",
       "<table border=\"1\" class=\"dataframe\">\n",
       "  <thead>\n",
       "    <tr style=\"text-align: right;\">\n",
       "      <th></th>\n",
       "      <th>Time</th>\n",
       "      <th>Dog</th>\n",
       "      <th>dog_percent</th>\n",
       "      <th>fav_percent</th>\n",
       "      <th>Dog_Odds</th>\n",
       "      <th>dog_last_five_win_perc</th>\n",
       "      <th>fav_last_five_win_perc</th>\n",
       "      <th>Dog_Top100</th>\n",
       "      <th>Fav_Top100</th>\n",
       "    </tr>\n",
       "  </thead>\n",
       "  <tbody>\n",
       "  </tbody>\n",
       "</table>\n",
       "</div>"
      ],
      "text/plain": [
       "Empty DataFrame\n",
       "Columns: [Time, Dog, dog_percent, fav_percent, Dog_Odds, dog_last_five_win_perc, fav_last_five_win_perc, Dog_Top100, Fav_Top100]\n",
       "Index: []"
      ]
     },
     "execution_count": 6,
     "metadata": {},
     "output_type": "execute_result"
    }
   ],
   "source": [
    "clay_today[['Time','Dog','dog_percent','fav_percent','Dog_Odds','dog_last_five_win_perc','fav_last_five_win_perc','Dog_Top100','Fav_Top100']][(clay_today['fav_percent']<0.4)&(clay_today['dog_percent']>=0.5)].sort_values(by='dog_percent',ascending=False).head(5)"
   ]
  },
  {
   "cell_type": "code",
   "execution_count": 7,
   "metadata": {},
   "outputs": [],
   "source": [
    "import pandas as pd\n",
    "from sqlalchemy import create_engine\n",
    "import pandas as pd\n",
    "import numpy as np\n",
    "import datetime\n",
    "devengine = create_engine(\"sqlite:///C:/Git/tennis_atp/database/bets_sqllite.db\")\n",
    "time_now = datetime.datetime.now()\n",
    "time_now_formatted = time_now.strftime(\"%Y-%m-%d\")\n",
    "clay_today=pd.read_pickle('.\\Hard_Today')\n",
    "clay_today=clay_today[clay_today['Resulted']=='False']"
   ]
  },
  {
   "cell_type": "code",
   "execution_count": 8,
   "metadata": {},
   "outputs": [
    {
     "data": {
      "text/html": [
       "<div>\n",
       "<style scoped>\n",
       "    .dataframe tbody tr th:only-of-type {\n",
       "        vertical-align: middle;\n",
       "    }\n",
       "\n",
       "    .dataframe tbody tr th {\n",
       "        vertical-align: top;\n",
       "    }\n",
       "\n",
       "    .dataframe thead th {\n",
       "        text-align: right;\n",
       "    }\n",
       "</style>\n",
       "<table border=\"1\" class=\"dataframe\">\n",
       "  <thead>\n",
       "    <tr style=\"text-align: right;\">\n",
       "      <th></th>\n",
       "      <th>Time</th>\n",
       "      <th>Fav_Top100</th>\n",
       "      <th>Dog_Top100</th>\n",
       "      <th>Fav</th>\n",
       "      <th>Fav_Odds</th>\n",
       "      <th>dog_percent</th>\n",
       "      <th>fav_percent</th>\n",
       "      <th>fav_last_five_win_perc</th>\n",
       "      <th>dog_last_five_win_perc</th>\n",
       "    </tr>\n",
       "  </thead>\n",
       "  <tbody>\n",
       "  </tbody>\n",
       "</table>\n",
       "</div>"
      ],
      "text/plain": [
       "Empty DataFrame\n",
       "Columns: [Time, Fav_Top100, Dog_Top100, Fav, Fav_Odds, dog_percent, fav_percent, fav_last_five_win_perc, dog_last_five_win_perc]\n",
       "Index: []"
      ]
     },
     "execution_count": 8,
     "metadata": {},
     "output_type": "execute_result"
    }
   ],
   "source": [
    "clay_today[['Time','Fav_Top100','Dog_Top100','Fav','Fav_Odds','dog_percent','fav_percent','fav_last_five_win_perc','dog_last_five_win_perc']][((clay_today['fav_percent']>0.7)|(clay_today['dog_percent']<0.4)\n",
    "                                                            )&(clay_today['Fav_Odds']<12)&(clay_today['Fav_Odds']>18)]"
   ]
  },
  {
   "cell_type": "code",
   "execution_count": 9,
   "metadata": {},
   "outputs": [
    {
     "data": {
      "text/html": [
       "<div>\n",
       "<style scoped>\n",
       "    .dataframe tbody tr th:only-of-type {\n",
       "        vertical-align: middle;\n",
       "    }\n",
       "\n",
       "    .dataframe tbody tr th {\n",
       "        vertical-align: top;\n",
       "    }\n",
       "\n",
       "    .dataframe thead th {\n",
       "        text-align: right;\n",
       "    }\n",
       "</style>\n",
       "<table border=\"1\" class=\"dataframe\">\n",
       "  <thead>\n",
       "    <tr style=\"text-align: right;\">\n",
       "      <th></th>\n",
       "      <th>Time</th>\n",
       "      <th>Fav</th>\n",
       "      <th>fav_percent</th>\n",
       "      <th>dog_percent</th>\n",
       "      <th>Fav_Odds</th>\n",
       "      <th>fav_last_five_win_perc</th>\n",
       "      <th>dog_last_five_win_perc</th>\n",
       "      <th>Fav_Top100</th>\n",
       "      <th>Dog_Top100</th>\n",
       "    </tr>\n",
       "  </thead>\n",
       "  <tbody>\n",
       "  </tbody>\n",
       "</table>\n",
       "</div>"
      ],
      "text/plain": [
       "Empty DataFrame\n",
       "Columns: [Time, Fav, fav_percent, dog_percent, Fav_Odds, fav_last_five_win_perc, dog_last_five_win_perc, Fav_Top100, Dog_Top100]\n",
       "Index: []"
      ]
     },
     "execution_count": 9,
     "metadata": {},
     "output_type": "execute_result"
    }
   ],
   "source": [
    "clay_today[['Time','Fav','fav_percent','dog_percent','Fav_Odds','fav_last_five_win_perc','dog_last_five_win_perc','Fav_Top100','Dog_Top100']][(clay_today['dog_percent']<0.3)&(clay_today['fav_percent']>0.69)].sort_values(by='fav_percent',ascending=False).head(5)"
   ]
  },
  {
   "cell_type": "code",
   "execution_count": 10,
   "metadata": {},
   "outputs": [
    {
     "data": {
      "text/html": [
       "<div>\n",
       "<style scoped>\n",
       "    .dataframe tbody tr th:only-of-type {\n",
       "        vertical-align: middle;\n",
       "    }\n",
       "\n",
       "    .dataframe tbody tr th {\n",
       "        vertical-align: top;\n",
       "    }\n",
       "\n",
       "    .dataframe thead th {\n",
       "        text-align: right;\n",
       "    }\n",
       "</style>\n",
       "<table border=\"1\" class=\"dataframe\">\n",
       "  <thead>\n",
       "    <tr style=\"text-align: right;\">\n",
       "      <th></th>\n",
       "      <th>Time</th>\n",
       "      <th>Dog</th>\n",
       "      <th>dog_percent</th>\n",
       "      <th>fav_percent</th>\n",
       "      <th>Dog_Odds</th>\n",
       "      <th>dog_last_five_win_perc</th>\n",
       "      <th>fav_last_five_win_perc</th>\n",
       "      <th>Dog_Top100</th>\n",
       "      <th>Fav_Top100</th>\n",
       "    </tr>\n",
       "  </thead>\n",
       "  <tbody>\n",
       "    <tr>\n",
       "      <th>13</th>\n",
       "      <td>18:15</td>\n",
       "      <td>Marc Polmans</td>\n",
       "      <td>0.666667</td>\n",
       "      <td>0.363636</td>\n",
       "      <td>1.88</td>\n",
       "      <td>0.4</td>\n",
       "      <td>0.8</td>\n",
       "      <td>0.0</td>\n",
       "      <td>0.0</td>\n",
       "    </tr>\n",
       "  </tbody>\n",
       "</table>\n",
       "</div>"
      ],
      "text/plain": [
       "     Time           Dog  dog_percent  fav_percent  Dog_Odds  \\\n",
       "13  18:15  Marc Polmans     0.666667     0.363636      1.88   \n",
       "\n",
       "    dog_last_five_win_perc  fav_last_five_win_perc  Dog_Top100  Fav_Top100  \n",
       "13                     0.4                     0.8         0.0         0.0  "
      ]
     },
     "execution_count": 10,
     "metadata": {},
     "output_type": "execute_result"
    }
   ],
   "source": [
    "clay_today[['Time','Dog','dog_percent','fav_percent','Dog_Odds','dog_last_five_win_perc','fav_last_five_win_perc','Dog_Top100','Fav_Top100']][(clay_today['fav_percent']<0.4)&(clay_today['dog_percent']>=0.5)].sort_values(by='dog_percent',ascending=False).head(5)"
   ]
  }
 ],
 "metadata": {
  "kernelspec": {
   "display_name": "Python 3",
   "language": "python",
   "name": "python3"
  },
  "language_info": {
   "codemirror_mode": {
    "name": "ipython",
    "version": 3
   },
   "file_extension": ".py",
   "mimetype": "text/x-python",
   "name": "python",
   "nbconvert_exporter": "python",
   "pygments_lexer": "ipython3",
   "version": "3.9.5"
  },
  "orig_nbformat": 4
 },
 "nbformat": 4,
 "nbformat_minor": 2
}
