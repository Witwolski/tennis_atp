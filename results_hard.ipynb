{
 "cells": [
  {
   "cell_type": "code",
   "execution_count": 302,
   "metadata": {},
   "outputs": [],
   "source": [
    "import pandas as pd\n",
    "from sqlalchemy import create_engine\n",
    "import pandas as pd\n",
    "import numpy as np\n",
    "import datetime\n",
    "devengine = create_engine(\"sqlite:///C:/Git/tennis_atp/database/bets_sqllite.db\")\n",
    "time_now = datetime.datetime.now()\n",
    "time_now_formatted = time_now.strftime(\"%Y-%m-%d\")"
   ]
  },
  {
   "cell_type": "code",
   "execution_count": 327,
   "metadata": {},
   "outputs": [
    {
     "ename": "ZeroDivisionError",
     "evalue": "division by zero",
     "output_type": "error",
     "traceback": [
      "\u001b[1;31m---------------------------------------------------------------------------\u001b[0m",
      "\u001b[1;31mZeroDivisionError\u001b[0m                         Traceback (most recent call last)",
      "\u001b[1;32mc:\\Git\\tennis_atp\\results_hard.ipynb Cell 2\u001b[0m in \u001b[0;36m<cell line: 6>\u001b[1;34m()\u001b[0m\n\u001b[0;32m      <a href='vscode-notebook-cell:/c%3A/Git/tennis_atp/results_hard.ipynb#W1sZmlsZQ%3D%3D?line=3'>4</a>\u001b[0m data[\u001b[39m'\u001b[39m\u001b[39mFav_Odds\u001b[39m\u001b[39m'\u001b[39m]\u001b[39m=\u001b[39mdata[\u001b[39m'\u001b[39m\u001b[39mFav_Odds\u001b[39m\u001b[39m'\u001b[39m]\u001b[39m.\u001b[39mastype(\u001b[39mfloat\u001b[39m)\n\u001b[0;32m      <a href='vscode-notebook-cell:/c%3A/Git/tennis_atp/results_hard.ipynb#W1sZmlsZQ%3D%3D?line=4'>5</a>\u001b[0m data[\u001b[39m'\u001b[39m\u001b[39mWinx\u001b[39m\u001b[39m'\u001b[39m]\u001b[39m=\u001b[39mdata\u001b[39m.\u001b[39mapply(\u001b[39mlambda\u001b[39;00m x: \u001b[39m'\u001b[39m\u001b[39mDog\u001b[39m\u001b[39m'\u001b[39m \u001b[39mif\u001b[39;00m x[\u001b[39m'\u001b[39m\u001b[39mWinner\u001b[39m\u001b[39m'\u001b[39m]\u001b[39m==\u001b[39mx[\u001b[39m'\u001b[39m\u001b[39mDog\u001b[39m\u001b[39m'\u001b[39m] \u001b[39melse\u001b[39;00m \u001b[39m'\u001b[39m\u001b[39mFav\u001b[39m\u001b[39m'\u001b[39m, axis\u001b[39m=\u001b[39m\u001b[39m1\u001b[39m)\n\u001b[1;32m----> <a href='vscode-notebook-cell:/c%3A/Git/tennis_atp/results_hard.ipynb#W1sZmlsZQ%3D%3D?line=5'>6</a>\u001b[0m \u001b[39mprint\u001b[39m(\u001b[39mlen\u001b[39;49m(data[(data[\u001b[39m'\u001b[39;49m\u001b[39mWinner\u001b[39;49m\u001b[39m'\u001b[39;49m]\u001b[39m==\u001b[39;49mdata[\u001b[39m'\u001b[39;49m\u001b[39mFav\u001b[39;49m\u001b[39m'\u001b[39;49m])\u001b[39m&\u001b[39;49m(data[\u001b[39m'\u001b[39;49m\u001b[39mFav_Odds\u001b[39;49m\u001b[39m'\u001b[39;49m]\u001b[39m>\u001b[39;49m\u001b[39m1.9\u001b[39;49m)])\u001b[39m/\u001b[39;49m\u001b[39mlen\u001b[39;49m(data[data[\u001b[39m'\u001b[39;49m\u001b[39mFav_Odds\u001b[39;49m\u001b[39m'\u001b[39;49m]\u001b[39m>\u001b[39;49m\u001b[39m1.9\u001b[39;49m]))\n",
      "\u001b[1;31mZeroDivisionError\u001b[0m: division by zero"
     ]
    }
   ],
   "source": [
    "data=pd.read_sql_query(\n",
    "    f\"Select DISTINCT Winner,Dog,Dog_Record,Winner_Odds,Fav_Record,percent,percent2,Fav_Games,Dog_Games,Fav_Odds,Fav,sex From results_hard where sex like 'Mens' --where Date > '2023-01-01' and Date not like '{time_now_formatted}'\",\n",
    "    con=devengine,)\n",
    "data['Fav_Odds']=data['Fav_Odds'].astype(float)\n",
    "data['Winx']=data.apply(lambda x: 'Dog' if x['Winner']==x['Dog'] else 'Fav', axis=1)\n",
    "#print(len(data[(data['Winner']==data['Fav'])&(data['Fav_Odds']>1.9)])/len(data[data['Fav_Odds']>1.9]))\n",
    "#data[data['Fav_Odds']>1.8].to_csv('test.csv')\n",
    "#data=data[data['Fav_Odds']>1.19]\n",
    "#data=data[data['percent']>0.3]\n",
    "#data=data[data['percent2']>0.1]"
   ]
  },
  {
   "cell_type": "code",
   "execution_count": 304,
   "metadata": {},
   "outputs": [],
   "source": [
    "mensserving=pd.read_csv('mensserving.csv')\n",
    "combine = pd.merge(data, mensserving, how=\"left\", left_on=\"Fav\", right_on=\"Name\")\n",
    "combine2 = pd.merge(combine, mensserving, how=\"left\", left_on=\"Dog\", right_on=\"Name\")\n",
    "combine2[[\"Service Games Won_x\", \"Service Games Won_y\"]] = combine2[\n",
    "        [\"Service Games Won_x\", \"Service Games Won_y\"]\n",
    "    ].astype(float)\n",
    "combine2.rename(\n",
    "        columns={\n",
    "            \"Service Games Won_x\": \"Fav_Serve%\",\n",
    "            \"Service Games Won_y\": \"Dog_Serve%\",\n",
    "            \"Return Games Won_x\": \"Fav_Return%\",\n",
    "            \"Return Games Won_y\": \"Dog_Return%\",\n",
    "        },\n",
    "        inplace=True,\n",
    "    )\n",
    "mens = combine2[\n",
    "    [   \"Winner\",\"Dog\",\"Winner_Odds\",\"percent\",\"percent2\",\"Fav_Games\",\"Dog_Games\",\"Fav_Odds\",\n",
    "        \"Fav\",\n",
    "        # \"Player_1_Odds\",\n",
    "        \"Fav_Serve%\",\n",
    "        \"Dog_Return%\",\n",
    "       \n",
    "        # \"Player_2_Odds\",\n",
    "        \"Dog_Serve%\",\n",
    "        \"Fav_Return%\",\n",
    "    ]]"
   ]
  },
  {
   "cell_type": "code",
   "execution_count": 305,
   "metadata": {},
   "outputs": [
    {
     "name": "stdout",
     "output_type": "stream",
     "text": [
      "0.7857142857142857\n",
      "28\n"
     ]
    }
   ],
   "source": [
    "mensfilter=mens[(mens['percent2']>0)&(mens['percent']>0.5)&(mens['Fav_Serve%']>70)&(mens['Dog_Serve%']>0.0)&(mens['Dog_Serve%']<70.0)&(mens['Dog_Return%']>0)]#&(combine3['Fav_Odds']>1.8)]\n",
    "print(len(mensfilter[mensfilter['Winner']!=mensfilter['Dog']])/len(mensfilter))\n",
    "print(len(mensfilter))"
   ]
  },
  {
   "cell_type": "code",
   "execution_count": 306,
   "metadata": {},
   "outputs": [
    {
     "name": "stdout",
     "output_type": "stream",
     "text": [
      "><\n",
      "0.0 0.30000000000000004\n",
      "0.5161290322580645\n",
      "31\n",
      "0.1 0.30000000000000004\n",
      "0.5161290322580645\n",
      "31\n",
      "0.2 0.30000000000000004\n",
      "0.5769230769230769\n",
      "26\n",
      "0.30000000000000004 0.30000000000000004\n",
      "0.5416666666666666\n",
      "24\n",
      "0.4 0.30000000000000004\n",
      "0.5384615384615384\n",
      "13\n",
      "<<\n",
      ">>\n",
      "<>\n"
     ]
    }
   ],
   "source": [
    "import numpy as np\n",
    "\n",
    "print(\"><\")\n",
    "for x in np.arange(0,1,0.1):\n",
    "    for y in np.arange(0,1,0.1):\n",
    "   \n",
    "        mensfilter=mens[(mens['percent2']>x)&(mens['percent']<y)]\n",
    "        \n",
    "        if len(mensfilter)>5 and len(mensfilter[mensfilter['Winner']==mensfilter['Dog']])/len(mensfilter) > 0.5:\n",
    "\n",
    "            print(x,y)\n",
    "            print(len(mensfilter[mensfilter['Winner']==mensfilter['Dog']])/len(mensfilter))\n",
    "            print(len(mensfilter))\n",
    "print(\"<<\")            \n",
    "for x in np.arange(0,1,0.1):\n",
    "    for y in np.arange(0,1,0.1):\n",
    "   \n",
    "        mensfilter=mens[(mens['percent2']<x)&(mens['percent']<y)]\n",
    "        \n",
    "        if len(mensfilter)>10 and len(mensfilter[mensfilter['Winner']==mensfilter['Dog']])/len(mensfilter) > 0.5:\n",
    "            \n",
    "            print(x,y)\n",
    "            print(len(mensfilter[mensfilter['Winner']==mensfilter['Dog']])/len(mensfilter))\n",
    "            print(len(mensfilter))      \n",
    "print(\">>\")\n",
    "for x in np.arange(0,1,0.1):\n",
    "    for y in np.arange(0,1,0.1):\n",
    "        \n",
    "   \n",
    "        mensfilter=mens[(mens['percent2']>x)&(mens['percent']>y)]\n",
    "        if len(mensfilter)>10 and len(mensfilter[mensfilter['Winner']==mensfilter['Dog']])/len(mensfilter) > 0.5:\n",
    "            print(x,y)\n",
    "            print(len(mensfilter[mensfilter['Winner']==mensfilter['Dog']])/len(mensfilter))\n",
    "            print(len(mensfilter))       \n",
    "print(\"<>\")\n",
    "for x in np.arange(0,1,0.1):\n",
    "    for y in np.arange(0,1,0.1):\n",
    "        \n",
    "   \n",
    "        mensfilter=mens[(mens['percent2']<x)&(mens['percent']>y)]\n",
    "        if len(mensfilter)>10 and len(mensfilter[mensfilter['Winner']==mensfilter['Dog']])/len(mensfilter) > 0.5:\n",
    "            print(x,y)\n",
    "            print(len(mensfilter[mensfilter['Winner']==mensfilter['Dog']])/len(mensfilter))\n",
    "            print(len(mensfilter))    "
   ]
  },
  {
   "cell_type": "code",
   "execution_count": 328,
   "metadata": {},
   "outputs": [
    {
     "name": "stdout",
     "output_type": "stream",
     "text": [
      "><\n",
      "<<\n",
      ">>\n",
      "0.0 0.8\n",
      "0.9375\n",
      "16\n",
      "0.1 0.8\n",
      "0.9375\n",
      "16\n",
      "0.2 0.8\n",
      "1.0\n",
      "13\n",
      "0.30000000000000004 0.8\n",
      "1.0\n",
      "13\n",
      "0.4 0.8\n",
      "1.0\n",
      "11\n",
      "<>\n",
      "0.6000000000000001 0.8\n",
      "0.9090909090909091\n",
      "11\n",
      "0.7000000000000001 0.8\n",
      "0.9230769230769231\n",
      "13\n",
      "0.8 0.8\n",
      "0.9230769230769231\n",
      "13\n",
      "0.9 0.8\n",
      "0.9333333333333333\n",
      "15\n"
     ]
    }
   ],
   "source": [
    "import numpy as np\n",
    "\n",
    "print(\"><\")\n",
    "for x in np.arange(0,1,0.1):\n",
    "    for y in np.arange(0,1,0.1):\n",
    "   \n",
    "        mensfilter=mens[(mens['percent2']>x)&(mens['percent']<y)&(mens['Fav_Odds']>1.19)&(mens['Fav_Odds']<1.3)]\n",
    "        \n",
    "        if len(mensfilter)>10 and len(mensfilter[mensfilter['Winner']!=mensfilter['Dog']])/len(mensfilter) > 0.9:\n",
    "\n",
    "            print(x,y)\n",
    "            print(len(mensfilter[mensfilter['Winner']!=mensfilter['Dog']])/len(mensfilter))\n",
    "            print(len(mensfilter))\n",
    "print(\"<<\")            \n",
    "for x in np.arange(0,1,0.1):\n",
    "    for y in np.arange(0,1,0.1):\n",
    "   \n",
    "        mensfilter=mens[(mens['percent2']<x)&(mens['percent']<y)&(mens['Fav_Odds']>1.19)&(mens['Fav_Odds']<1.3)]\n",
    "        \n",
    "        if len(mensfilter)>10 and len(mensfilter[mensfilter['Winner']!=mensfilter['Dog']])/len(mensfilter) > 0.9:\n",
    "            \n",
    "            print(x,y)\n",
    "            print(len(mensfilter[mensfilter['Winner']!=mensfilter['Dog']])/len(mensfilter))\n",
    "            print(len(mensfilter))      \n",
    "print(\">>\")\n",
    "for x in np.arange(0,1,0.1):\n",
    "    for y in np.arange(0,1,0.1):\n",
    "        \n",
    "   \n",
    "        mensfilter=mens[(mens['percent2']>x)&(mens['percent']>y)&(mens['Fav_Odds']>1.19)&(mens['Fav_Odds']<1.3)]\n",
    "        if len(mensfilter)>10 and len(mensfilter[mensfilter['Winner']!=mensfilter['Dog']])/len(mensfilter) > 0.9:\n",
    "            print(x,y)\n",
    "            print(len(mensfilter[mensfilter['Winner']!=mensfilter['Dog']])/len(mensfilter))\n",
    "            print(len(mensfilter))       \n",
    "print(\"<>\")\n",
    "for x in np.arange(0,1,0.1):\n",
    "    for y in np.arange(0,1,0.1):\n",
    "        \n",
    "   \n",
    "        mensfilter=mens[(mens['percent2']<x)&(mens['percent']>y)&(mens['Fav_Odds']>1.19)&(mens['Fav_Odds']<1.3)]\n",
    "        if len(mensfilter)>10 and len(mensfilter[mensfilter['Winner']!=mensfilter['Dog']])/len(mensfilter) > 0.9:\n",
    "            print(x,y)\n",
    "            print(len(mensfilter[mensfilter['Winner']!=mensfilter['Dog']])/len(mensfilter))\n",
    "            print(len(mensfilter))    "
   ]
  },
  {
   "cell_type": "code",
   "execution_count": 324,
   "metadata": {},
   "outputs": [
    {
     "name": "stdout",
     "output_type": "stream",
     "text": [
      "0.6274509803921569\n",
      "51\n"
     ]
    }
   ],
   "source": [
    "mensfilter=mens[(mens['Fav_Odds']>1.8)]\n",
    "print(len(mensfilter[mensfilter['Winner']!=mensfilter['Dog']])/len(mensfilter))\n",
    "print(len(mensfilter))"
   ]
  },
  {
   "cell_type": "code",
   "execution_count": 310,
   "metadata": {},
   "outputs": [],
   "source": [
    "data=pd.read_sql_query(\n",
    "    f\"Select DISTINCT Winner,Dog,Dog_Record,Winner_Odds,Fav_Record,percent,percent2,Fav_Games,Dog_Games,Fav_Odds,Fav,sex From results_hard where sex like 'Womens' --where Date > '2023-01-01' and Date not like '{time_now_formatted}'\",\n",
    "    con=devengine,)\n",
    "data['Fav_Odds']=data['Fav_Odds'].astype(float)\n",
    "data['Winx']=data.apply(lambda x: 'Dog' if x['Winner']==x['Dog'] else 'Fav', axis=1)"
   ]
  },
  {
   "cell_type": "code",
   "execution_count": 311,
   "metadata": {},
   "outputs": [],
   "source": [
    "womensserving=pd.read_csv('womensserving.csv')\n",
    "combine = pd.merge(data, womensserving, how=\"left\", left_on=\"Fav\", right_on=\"Name\")\n",
    "combine2 = pd.merge(combine, womensserving, how=\"left\", left_on=\"Dog\", right_on=\"Name\")\n",
    "combine2[[\"Service Games Won_x\", \"Service Games Won_y\"]] = combine2[\n",
    "        [\"Service Games Won_x\", \"Service Games Won_y\"]\n",
    "    ].astype(float)\n",
    "combine2.rename(\n",
    "        columns={\n",
    "            \"Service Games Won_x\": \"Fav_Serve%\",\n",
    "            \"Service Games Won_y\": \"Dog_Serve%\",\n",
    "            \"Return Games Won_x\": \"Fav_Return%\",\n",
    "            \"Return Games Won_y\": \"Dog_Return%\",\n",
    "        },\n",
    "        inplace=True,\n",
    "    )\n",
    "womens = combine2[\n",
    "    [   \"Winner\",\"Dog\",\"Winner_Odds\",\"percent\",\"percent2\",\"Fav_Games\",\"Dog_Games\",\"Fav_Odds\",\n",
    "        \"Fav\",\n",
    "        # \"Player_1_Odds\",\n",
    "        \"Fav_Serve%\",\n",
    "        \"Dog_Return%\",\n",
    "       \n",
    "        # \"Player_2_Odds\",\n",
    "        \"Dog_Serve%\",\n",
    "        \"Fav_Return%\",\n",
    "    ]]"
   ]
  },
  {
   "cell_type": "code",
   "execution_count": 312,
   "metadata": {},
   "outputs": [
    {
     "data": {
      "text/plain": [
       "0.0"
      ]
     },
     "execution_count": 312,
     "metadata": {},
     "output_type": "execute_result"
    }
   ],
   "source": [
    "womensfilter=womens[(womens['percent2']>0)&(womens['percent']>0.5)&(womens['Fav_Serve%']>70)&(womens['Dog_Serve%']>0.0)&(womens['Dog_Serve%']<70.0)&(womens['Dog_Return%']>0)&(womens['Fav_Odds']>1.8)]\n",
    "len(womensfilter[womensfilter['Winner']!=womensfilter['Dog']])/len(womensfilter)"
   ]
  },
  {
   "cell_type": "code",
   "execution_count": 313,
   "metadata": {},
   "outputs": [
    {
     "data": {
      "text/plain": [
       "1"
      ]
     },
     "execution_count": 313,
     "metadata": {},
     "output_type": "execute_result"
    }
   ],
   "source": [
    "len(womensfilter)"
   ]
  },
  {
   "cell_type": "code",
   "execution_count": 314,
   "metadata": {},
   "outputs": [
    {
     "data": {
      "text/plain": [
       "1.0"
      ]
     },
     "execution_count": 314,
     "metadata": {},
     "output_type": "execute_result"
    }
   ],
   "source": [
    "data3=womens[(womens['Fav_Odds']>1.19)&(womens['Fav_Odds']<1.3)&(womens['percent2']<0.3)&(womens['percent']>0.6)&(womens['Dog_Games']>8)]\n",
    "len(data3[data3['Winner']==data3['Fav']])/len(data3)"
   ]
  },
  {
   "cell_type": "code",
   "execution_count": 315,
   "metadata": {},
   "outputs": [
    {
     "data": {
      "text/plain": [
       "4"
      ]
     },
     "execution_count": 315,
     "metadata": {},
     "output_type": "execute_result"
    }
   ],
   "source": [
    "len(data3)"
   ]
  },
  {
   "cell_type": "code",
   "execution_count": 316,
   "metadata": {},
   "outputs": [
    {
     "data": {
      "text/html": [
       "<div>\n",
       "<style scoped>\n",
       "    .dataframe tbody tr th:only-of-type {\n",
       "        vertical-align: middle;\n",
       "    }\n",
       "\n",
       "    .dataframe tbody tr th {\n",
       "        vertical-align: top;\n",
       "    }\n",
       "\n",
       "    .dataframe thead th {\n",
       "        text-align: right;\n",
       "    }\n",
       "</style>\n",
       "<table border=\"1\" class=\"dataframe\">\n",
       "  <thead>\n",
       "    <tr style=\"text-align: right;\">\n",
       "      <th></th>\n",
       "      <th>Winner</th>\n",
       "      <th>Dog</th>\n",
       "      <th>Winner_Odds</th>\n",
       "      <th>percent</th>\n",
       "      <th>percent2</th>\n",
       "      <th>Fav_Games</th>\n",
       "      <th>Dog_Games</th>\n",
       "      <th>Fav_Odds</th>\n",
       "      <th>Fav</th>\n",
       "      <th>Fav_Serve%</th>\n",
       "      <th>Dog_Return%</th>\n",
       "      <th>Dog_Serve%</th>\n",
       "      <th>Fav_Return%</th>\n",
       "    </tr>\n",
       "  </thead>\n",
       "  <tbody>\n",
       "    <tr>\n",
       "      <th>91</th>\n",
       "      <td>Cori Gauff</td>\n",
       "      <td>Emma Raducanu</td>\n",
       "      <td>1.29</td>\n",
       "      <td>0.827586</td>\n",
       "      <td>0.100000</td>\n",
       "      <td>29</td>\n",
       "      <td>10</td>\n",
       "      <td>1.29</td>\n",
       "      <td>Cori Gauff</td>\n",
       "      <td>NaN</td>\n",
       "      <td>38.9</td>\n",
       "      <td>68.5</td>\n",
       "      <td>NaN</td>\n",
       "    </tr>\n",
       "    <tr>\n",
       "      <th>127</th>\n",
       "      <td>Petra Kvitova</td>\n",
       "      <td>Alison Van Uytvanck</td>\n",
       "      <td>1.24</td>\n",
       "      <td>0.647059</td>\n",
       "      <td>0.111111</td>\n",
       "      <td>34</td>\n",
       "      <td>9</td>\n",
       "      <td>1.24</td>\n",
       "      <td>Petra Kvitova</td>\n",
       "      <td>74.3</td>\n",
       "      <td>32.2</td>\n",
       "      <td>71.5</td>\n",
       "      <td>29.9</td>\n",
       "    </tr>\n",
       "    <tr>\n",
       "      <th>287</th>\n",
       "      <td>Kaia Kanepi</td>\n",
       "      <td>Anna Bondar</td>\n",
       "      <td>1.28</td>\n",
       "      <td>0.650000</td>\n",
       "      <td>0.214286</td>\n",
       "      <td>20</td>\n",
       "      <td>14</td>\n",
       "      <td>1.28</td>\n",
       "      <td>Kaia Kanepi</td>\n",
       "      <td>71.7</td>\n",
       "      <td>30.3</td>\n",
       "      <td>70.3</td>\n",
       "      <td>31.8</td>\n",
       "    </tr>\n",
       "    <tr>\n",
       "      <th>324</th>\n",
       "      <td>Cori Gauff</td>\n",
       "      <td>Sofia Kenin</td>\n",
       "      <td>1.21</td>\n",
       "      <td>0.818182</td>\n",
       "      <td>0.272727</td>\n",
       "      <td>11</td>\n",
       "      <td>11</td>\n",
       "      <td>1.21</td>\n",
       "      <td>Cori Gauff</td>\n",
       "      <td>NaN</td>\n",
       "      <td>23.3</td>\n",
       "      <td>63.5</td>\n",
       "      <td>NaN</td>\n",
       "    </tr>\n",
       "  </tbody>\n",
       "</table>\n",
       "</div>"
      ],
      "text/plain": [
       "            Winner                  Dog Winner_Odds   percent  percent2  \\\n",
       "91      Cori Gauff        Emma Raducanu        1.29  0.827586  0.100000   \n",
       "127  Petra Kvitova  Alison Van Uytvanck        1.24  0.647059  0.111111   \n",
       "287    Kaia Kanepi          Anna Bondar        1.28  0.650000  0.214286   \n",
       "324     Cori Gauff          Sofia Kenin        1.21  0.818182  0.272727   \n",
       "\n",
       "     Fav_Games  Dog_Games  Fav_Odds            Fav  Fav_Serve%  Dog_Return%  \\\n",
       "91          29         10      1.29     Cori Gauff         NaN         38.9   \n",
       "127         34          9      1.24  Petra Kvitova        74.3         32.2   \n",
       "287         20         14      1.28    Kaia Kanepi        71.7         30.3   \n",
       "324         11         11      1.21     Cori Gauff         NaN         23.3   \n",
       "\n",
       "     Dog_Serve%  Fav_Return%  \n",
       "91         68.5          NaN  \n",
       "127        71.5         29.9  \n",
       "287        70.3         31.8  \n",
       "324        63.5          NaN  "
      ]
     },
     "execution_count": 316,
     "metadata": {},
     "output_type": "execute_result"
    }
   ],
   "source": [
    "data3"
   ]
  },
  {
   "cell_type": "code",
   "execution_count": 329,
   "metadata": {},
   "outputs": [
    {
     "name": "stdout",
     "output_type": "stream",
     "text": [
      "><\n",
      "0.2 0.7000000000000001\n",
      "0.9130434782608695\n",
      "23\n",
      "0.30000000000000004 0.7000000000000001\n",
      "0.9047619047619048\n",
      "21\n",
      "<<\n",
      ">>\n",
      "<>\n",
      "0.4 0.6000000000000001\n",
      "0.9230769230769231\n",
      "13\n"
     ]
    }
   ],
   "source": [
    "import numpy as np\n",
    "\n",
    "print(\"><\")\n",
    "for x in np.arange(0,1,0.1):\n",
    "    for y in np.arange(0,1,0.1):\n",
    "   \n",
    "        womensfilter=womens[(womens['percent2']>x)&(womens['percent']<y)&(womens['Fav_Odds']>1.19)&(womens['Fav_Odds']<1.3)]\n",
    "        \n",
    "        if len(womensfilter)>10 and len(womensfilter[womensfilter['Winner']!=womensfilter['Dog']])/len(womensfilter) > 0.9:\n",
    "\n",
    "            print(x,y)\n",
    "            print(len(womensfilter[womensfilter['Winner']!=womensfilter['Dog']])/len(womensfilter))\n",
    "            print(len(womensfilter))\n",
    "print(\"<<\")            \n",
    "for x in np.arange(0,1,0.1):\n",
    "    for y in np.arange(0,1,0.1):\n",
    "   \n",
    "        womensfilter=womens[(womens['percent2']<x)&(womens['percent']<y)&(womens['Fav_Odds']>1.19)&(womens['Fav_Odds']<1.3)]\n",
    "        \n",
    "        if len(womensfilter)>10 and len(womensfilter[womensfilter['Winner']!=womensfilter['Dog']])/len(womensfilter) > 0.9:\n",
    "            \n",
    "            print(x,y)\n",
    "            print(len(womensfilter[womensfilter['Winner']!=womensfilter['Dog']])/len(womensfilter))\n",
    "            print(len(womensfilter))      \n",
    "print(\">>\")\n",
    "for x in np.arange(0,1,0.1):\n",
    "    for y in np.arange(0,1,0.1):\n",
    "        \n",
    "   \n",
    "        womensfilter=womens[(womens['percent2']>x)&(womens['percent']>y)&(womens['Fav_Odds']>1.19)&(womens['Fav_Odds']<1.3)]\n",
    "        if len(womensfilter)>10 and len(womensfilter[womensfilter['Winner']!=womensfilter['Dog']])/len(womensfilter) > 0.9:\n",
    "            print(x,y)\n",
    "            print(len(womensfilter[womensfilter['Winner']!=womensfilter['Dog']])/len(womensfilter))\n",
    "            print(len(womensfilter))       \n",
    "print(\"<>\")\n",
    "for x in np.arange(0,1,0.1):\n",
    "    for y in np.arange(0,1,0.1):\n",
    "        \n",
    "   \n",
    "        womensfilter=womens[(womens['percent2']<x)&(womens['percent']>y)&(womens['Fav_Odds']>1.19)&(womens['Fav_Odds']<1.3)]\n",
    "        if len(womensfilter)>10 and len(womensfilter[womensfilter['Winner']!=womensfilter['Dog']])/len(womensfilter) > 0.9:\n",
    "            print(x,y)\n",
    "            print(len(womensfilter[womensfilter['Winner']!=womensfilter['Dog']])/len(womensfilter))\n",
    "            print(len(womensfilter))    "
   ]
  },
  {
   "cell_type": "code",
   "execution_count": 330,
   "metadata": {},
   "outputs": [
    {
     "name": "stdout",
     "output_type": "stream",
     "text": [
      "><\n",
      "<<\n",
      ">>\n",
      "0.5 0.7000000000000001\n",
      "0.5333333333333333\n",
      "15\n",
      "0.6000000000000001 0.6000000000000001\n",
      "0.5294117647058824\n",
      "17\n",
      "<>\n"
     ]
    }
   ],
   "source": [
    "import numpy as np\n",
    "\n",
    "print(\"><\")\n",
    "for x in np.arange(0,1,0.1):\n",
    "    for y in np.arange(0,1,0.1):\n",
    "   \n",
    "        womensfilter=womens[(womens['percent2']>x)&(womens['percent']<y)]\n",
    "        \n",
    "        if len(womensfilter)>5 and len(womensfilter[womensfilter['Winner']==womensfilter['Dog']])/len(womensfilter) > 0.5:\n",
    "\n",
    "            print(x,y)\n",
    "            print(len(womensfilter[womensfilter['Winner']==womensfilter['Dog']])/len(womensfilter))\n",
    "            print(len(womensfilter))\n",
    "print(\"<<\")            \n",
    "for x in np.arange(0,1,0.1):\n",
    "    for y in np.arange(0,1,0.1):\n",
    "   \n",
    "        womensfilter=womens[(womens['percent2']<x)&(womens['percent']<y)]\n",
    "        \n",
    "        if len(womensfilter)>10 and len(womensfilter[womensfilter['Winner']==womensfilter['Dog']])/len(womensfilter) > 0.5:\n",
    "            \n",
    "            print(x,y)\n",
    "            print(len(womensfilter[womensfilter['Winner']==womensfilter['Dog']])/len(womensfilter))\n",
    "            print(len(womensfilter))      \n",
    "print(\">>\")\n",
    "for x in np.arange(0,1,0.1):\n",
    "    for y in np.arange(0,1,0.1):\n",
    "        \n",
    "   \n",
    "        womensfilter=womens[(womens['percent2']>x)&(womens['percent']>y)]\n",
    "        if len(womensfilter)>10 and len(womensfilter[womensfilter['Winner']==womensfilter['Dog']])/len(womensfilter) > 0.5:\n",
    "            print(x,y)\n",
    "            print(len(womensfilter[womensfilter['Winner']==womensfilter['Dog']])/len(womensfilter))\n",
    "            print(len(womensfilter))       \n",
    "print(\"<>\")\n",
    "for x in np.arange(0,1,0.1):\n",
    "    for y in np.arange(0,1,0.1):\n",
    "        \n",
    "   \n",
    "        womensfilter=womens[(womens['percent2']<x)&(womens['percent']>y)]\n",
    "        if len(womensfilter)>10 and len(womensfilter[womensfilter['Winner']==womensfilter['Dog']])/len(womensfilter) > 0.5:\n",
    "            print(x,y)\n",
    "            print(len(womensfilter[womensfilter['Winner']==womensfilter['Dog']])/len(womensfilter))\n",
    "            print(len(womensfilter))    "
   ]
  },
  {
   "cell_type": "code",
   "execution_count": 332,
   "metadata": {},
   "outputs": [
    {
     "data": {
      "text/plain": [
       "0.10526315789473684"
      ]
     },
     "execution_count": 332,
     "metadata": {},
     "output_type": "execute_result"
    }
   ],
   "source": [
    "womensfilter=womens[(womens['percent2']>0.2)&(womens['percent']<0.7)&(womens['Fav_Odds']>1.19)&(womens['Fav_Odds']<1.3)]\n",
    "len(womensfilter[womensfilter['Winner']==womensfilter['Dog']])/len(womensfilter)\n"
   ]
  }
 ],
 "metadata": {
  "kernelspec": {
   "display_name": "Python 3",
   "language": "python",
   "name": "python3"
  },
  "language_info": {
   "codemirror_mode": {
    "name": "ipython",
    "version": 3
   },
   "file_extension": ".py",
   "mimetype": "text/x-python",
   "name": "python",
   "nbconvert_exporter": "python",
   "pygments_lexer": "ipython3",
   "version": "3.9.13"
  },
  "orig_nbformat": 4,
  "vscode": {
   "interpreter": {
    "hash": "6fff98fc3b3d81bd655c2cc48858186e4d9e2db7b515bf1c3221888f12a62f87"
   }
  }
 },
 "nbformat": 4,
 "nbformat_minor": 2
}
