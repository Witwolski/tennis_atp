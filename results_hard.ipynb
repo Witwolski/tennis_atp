{
 "cells": [
  {
   "cell_type": "code",
   "execution_count": 1,
   "metadata": {},
   "outputs": [],
   "source": [
    "import pandas as pd\n",
    "from sqlalchemy import create_engine\n",
    "import pandas as pd\n",
    "import numpy as np\n",
    "import datetime\n",
    "devengine = create_engine(\"sqlite:///C:/Git/tennis_atp/database/bets_sqllite.db\")\n",
    "time_now = datetime.datetime.now()\n",
    "time_now_formatted = time_now.strftime(\"%Y-%m-%d\")"
   ]
  },
  {
   "cell_type": "code",
   "execution_count": 6,
   "metadata": {},
   "outputs": [],
   "source": [
    "data=pd.read_sql_query(\n",
    "    f\"Select DISTINCT Winner,Dog,Dog_Record,Winner_Odds,Fav_Record,percent,percent2,Fav_Games,Dog_Games,Fav_Odds,Fav,sex From results_hard --where Date > '2023-01-01' and Date not like '{time_now_formatted}'\",\n",
    "    con=devengine,)\n",
    "data['Fav_Odds']=data['Fav_Odds'].astype(float)\n",
    "data['Winx']=data.apply(lambda x: 'Dog' if x['Winner']==x['Dog'] else 'Fav', axis=1)\n",
    "#data=data[data['Fav_Odds']>1.19]\n",
    "#data=data[data['percent']>0.3]\n",
    "#data=data[data['percent2']>0.1]"
   ]
  },
  {
   "cell_type": "code",
   "execution_count": null,
   "metadata": {},
   "outputs": [],
   "source": [
    "data.to_csv('results.hard.csv')"
   ]
  },
  {
   "cell_type": "code",
   "execution_count": null,
   "metadata": {},
   "outputs": [],
   "source": [
    "combine = pd.merge(todays_matches, data, how=\"left\", left_on=\"Fav\", right_on=\"Name\")\n",
    "    combine2 = pd.merge(combine, data, how=\"left\", left_on=\"Dog\", right_on=\"Name\")\n",
    "    combine2[[\"Service Games Won_x\", \"Service Games Won_y\"]] = combine2[\n",
    "        [\"Service Games Won_x\", \"Service Games Won_y\"]\n",
    "    ].astype(float)\n",
    "    combine2.rename(\n",
    "        columns={\n",
    "            \"Service Games Won_x\": \"Fav_Serve%\",\n",
    "            \"Service Games Won_y\": \"Dog_Serve%\",\n",
    "            \"Return Games Won_x\": \"Fav_Return%\",\n",
    "            \"Return Games Won_y\": \"Dog_Return%\",\n",
    "        },\n",
    "        inplace=True,\n",
    "    )"
   ]
  },
  {
   "cell_type": "code",
   "execution_count": null,
   "metadata": {},
   "outputs": [
    {
     "data": {
      "text/plain": [
       "0.29786036036036034"
      ]
     },
     "execution_count": 239,
     "metadata": {},
     "output_type": "execute_result"
    }
   ],
   "source": [
    "data1=data[(data['percent2']<0.6)&(data['percent']>0.6)&(data['Sex']=='Mens')]\n",
    "len(data1[data1['Winner']==data1['Dog']])/len(data1)"
   ]
  },
  {
   "cell_type": "code",
   "execution_count": null,
   "metadata": {},
   "outputs": [
    {
     "name": "stdout",
     "output_type": "stream",
     "text": [
      "1776\n"
     ]
    }
   ],
   "source": [
    "print(len(data1))"
   ]
  },
  {
   "cell_type": "code",
   "execution_count": null,
   "metadata": {},
   "outputs": [
    {
     "data": {
      "text/plain": [
       "0.9642857142857143"
      ]
     },
     "execution_count": 241,
     "metadata": {},
     "output_type": "execute_result"
    }
   ],
   "source": [
    "data3=data[(data['Fav_Odds']>1.19)&(data['Fav_Odds']<1.3)&(data['percent2']<0.3)&(data['percent']>0.6)&(data['Sex']=='Mens')&(data['Dog_Games']>8)]\n",
    "len(data3[data3['Winner']==data3['Fav']])/len(data3)"
   ]
  },
  {
   "cell_type": "code",
   "execution_count": null,
   "metadata": {},
   "outputs": [
    {
     "data": {
      "text/plain": [
       "28"
      ]
     },
     "execution_count": 242,
     "metadata": {},
     "output_type": "execute_result"
    }
   ],
   "source": [
    "len(data3)"
   ]
  },
  {
   "cell_type": "code",
   "execution_count": null,
   "metadata": {},
   "outputs": [
    {
     "data": {
      "text/html": [
       "<div>\n",
       "<style scoped>\n",
       "    .dataframe tbody tr th:only-of-type {\n",
       "        vertical-align: middle;\n",
       "    }\n",
       "\n",
       "    .dataframe tbody tr th {\n",
       "        vertical-align: top;\n",
       "    }\n",
       "\n",
       "    .dataframe thead th {\n",
       "        text-align: right;\n",
       "    }\n",
       "</style>\n",
       "<table border=\"1\" class=\"dataframe\">\n",
       "  <thead>\n",
       "    <tr style=\"text-align: right;\">\n",
       "      <th></th>\n",
       "      <th>Winner</th>\n",
       "      <th>Dog</th>\n",
       "      <th>Dog_Record</th>\n",
       "      <th>Winner_Odds</th>\n",
       "      <th>Fav_Record</th>\n",
       "      <th>percent</th>\n",
       "      <th>percent2</th>\n",
       "      <th>Fav_Games</th>\n",
       "      <th>Dog_Games</th>\n",
       "      <th>Fav_Odds</th>\n",
       "      <th>Fav</th>\n",
       "      <th>Sex</th>\n",
       "      <th>Winx</th>\n",
       "    </tr>\n",
       "  </thead>\n",
       "  <tbody>\n",
       "    <tr>\n",
       "      <th>3026</th>\n",
       "      <td>Liam Broady</td>\n",
       "      <td>Liam Broady</td>\n",
       "      <td>27%</td>\n",
       "      <td>4.39</td>\n",
       "      <td>80%</td>\n",
       "      <td>0.8</td>\n",
       "      <td>0.272727</td>\n",
       "      <td>10</td>\n",
       "      <td>11</td>\n",
       "      <td>1.21</td>\n",
       "      <td>Botic Van De Zandschulp</td>\n",
       "      <td>Mens</td>\n",
       "      <td>Dog</td>\n",
       "    </tr>\n",
       "  </tbody>\n",
       "</table>\n",
       "</div>"
      ],
      "text/plain": [
       "           Winner          Dog Dog_Record Winner_Odds Fav_Record  percent  \\\n",
       "3026  Liam Broady  Liam Broady        27%        4.39        80%      0.8   \n",
       "\n",
       "      percent2  Fav_Games  Dog_Games  Fav_Odds                      Fav   Sex  \\\n",
       "3026  0.272727         10         11      1.21  Botic Van De Zandschulp  Mens   \n",
       "\n",
       "     Winx  \n",
       "3026  Dog  "
      ]
     },
     "execution_count": 243,
     "metadata": {},
     "output_type": "execute_result"
    }
   ],
   "source": [
    "data3[data3['Winner']!=data3['Fav']]"
   ]
  }
 ],
 "metadata": {
  "kernelspec": {
   "display_name": "Python 3",
   "language": "python",
   "name": "python3"
  },
  "language_info": {
   "codemirror_mode": {
    "name": "ipython",
    "version": 3
   },
   "file_extension": ".py",
   "mimetype": "text/x-python",
   "name": "python",
   "nbconvert_exporter": "python",
   "pygments_lexer": "ipython3",
   "version": "3.9.13"
  },
  "orig_nbformat": 4,
  "vscode": {
   "interpreter": {
    "hash": "6fff98fc3b3d81bd655c2cc48858186e4d9e2db7b515bf1c3221888f12a62f87"
   }
  }
 },
 "nbformat": 4,
 "nbformat_minor": 2
}
