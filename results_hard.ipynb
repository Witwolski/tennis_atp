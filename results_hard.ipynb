{
 "cells": [
  {
   "cell_type": "code",
   "execution_count": 1,
   "metadata": {},
   "outputs": [],
   "source": [
    "import pandas as pd\n",
    "from sqlalchemy import create_engine\n",
    "import pandas as pd\n",
    "import numpy as np\n",
    "import datetime\n",
    "devengine = create_engine(\"sqlite:///C:/Git/tennis_atp/database/bets_sqllite.db\")\n",
    "time_now = datetime.datetime.now()\n",
    "time_now_formatted = time_now.strftime(\"%Y-%m-%d\")"
   ]
  },
  {
   "cell_type": "code",
   "execution_count": 7,
   "metadata": {},
   "outputs": [],
   "source": [
    "df=pd.read_sql_query(\n",
    "        f\"Select DISTINCT * From Elo_AllMatches_Hard\",\n",
    "        con=devengine,\n",
    "    )"
   ]
  },
  {
   "cell_type": "code",
   "execution_count": 8,
   "metadata": {},
   "outputs": [
    {
     "data": {
      "text/plain": [
       "'Novak Djokovic'"
      ]
     },
     "execution_count": 8,
     "metadata": {},
     "output_type": "execute_result"
    }
   ],
   "source": [
    "df[df[\"Elo_Fav_Elo\"] == df[\"Elo_Fav_Elo\"].max()][\"Fav\"].values[0]\n"
   ]
  },
  {
   "cell_type": "code",
   "execution_count": 287,
   "metadata": {},
   "outputs": [],
   "source": [
    "data=pd.read_sql_query(\n",
    "    f\"Select DISTINCT Winner,Dog,Dog_Record,Winner_Odds,Fav_Record,percent,percent2,Fav_Games,Dog_Games,Fav_Odds,Fav,sex From results_hard \\\n",
    "    where sex like 'Mens' --and Date > '2023-01-01'\",\n",
    "    con=devengine,)\n",
    "data['Fav_Odds']=data['Fav_Odds'].astype(float)\n",
    "data['Winx']=data.apply(lambda x: 'Dog' if x['Winner']==x['Dog'] else 'Fav', axis=1)\n",
    "#print(len(data[(data['Winner']==data['Fav'])&(data['Fav_Odds']>1.9)])/len(data[data['Fav_Odds']>1.9]))\n",
    "#data[data['Fav_Odds']>1.8].to_csv('test.csv')\n",
    "#data=data[data['Fav_Odds']>1.19]\n",
    "#data=data[data['percent']>0.3]\n",
    "#data=data[data['percent2']>0.1]"
   ]
  },
  {
   "cell_type": "code",
   "execution_count": 288,
   "metadata": {},
   "outputs": [],
   "source": [
    "mensserving=pd.read_csv('mensserving.csv')\n",
    "combine = pd.merge(data, mensserving, how=\"left\", left_on=\"Fav\", right_on=\"Name\")\n",
    "combine2 = pd.merge(combine, mensserving, how=\"left\", left_on=\"Dog\", right_on=\"Name\")\n",
    "combine2[[\"Service Games Won_x\", \"Service Games Won_y\"]] = combine2[\n",
    "        [\"Service Games Won_x\", \"Service Games Won_y\"]\n",
    "    ].astype(float)\n",
    "combine2.rename(\n",
    "        columns={\n",
    "            \"Service Games Won_x\": \"Fav_Serve%\",\n",
    "            \"Service Games Won_y\": \"Dog_Serve%\",\n",
    "            \"Return Games Won_x\": \"Fav_Return%\",\n",
    "            \"Return Games Won_y\": \"Dog_Return%\",\n",
    "        },\n",
    "        inplace=True,\n",
    "    )\n",
    "mens = combine2[\n",
    "    [   \"Winner\",\"Dog\",\"Winner_Odds\",\"percent\",\"percent2\",\"Fav_Games\",\"Dog_Games\",\"Fav_Odds\",\n",
    "        \"Fav\",\n",
    "        # \"Player_1_Odds\",\n",
    "        \"Fav_Serve%\",\n",
    "        \"Dog_Return%\",\n",
    "       \n",
    "        # \"Player_2_Odds\",\n",
    "        \"Dog_Serve%\",\n",
    "        \"Fav_Return%\",\n",
    "    ]]"
   ]
  },
  {
   "cell_type": "code",
   "execution_count": 289,
   "metadata": {},
   "outputs": [
    {
     "name": "stdout",
     "output_type": "stream",
     "text": [
      "0.7647058823529411\n",
      "34\n"
     ]
    }
   ],
   "source": [
    "mensfilter=mens[(mens['percent2']>0)&(mens['percent']>0.5)&(mens['Fav_Serve%']>70)&(mens['Dog_Serve%']>0.0)&(mens['Dog_Serve%']<70.0)&(mens['Dog_Return%']>0)]#&(combine3['Fav_Odds']>1.8)]\n",
    "print(len(mensfilter[mensfilter['Winner']!=mensfilter['Dog']])/len(mensfilter))\n",
    "print(len(mensfilter))"
   ]
  },
  {
   "cell_type": "code",
   "execution_count": 290,
   "metadata": {},
   "outputs": [
    {
     "name": "stdout",
     "output_type": "stream",
     "text": [
      "><\n",
      "print(result_hard['Dog'][(result_hard['percent2']>0.2)&(result_hard['percent2']<0.3)&(result_hard['percent']<0.3)&(result_hard['percent']>0.2)])\n",
      "0.6666666666666666\n",
      "3\n",
      "print(result_hard['Dog'][(result_hard['percent2']>0.5)&(result_hard['percent2']<0.6)&(result_hard['percent']<0.8)&(result_hard['percent']>0.7)])\n",
      "0.625\n",
      "8\n",
      "print(result_hard['Dog'][(result_hard['percent2']>0.6)&(result_hard['percent2']<0.7)&(result_hard['percent']<0.2)&(result_hard['percent']>0.1)])\n",
      "1.0\n",
      "2\n",
      "print(result_hard['Dog'][(result_hard['percent2']>0.7)&(result_hard['percent2']<0.8)&(result_hard['percent']<0.6)&(result_hard['percent']>0.5)])\n",
      "1.0\n",
      "3\n",
      "<<\n",
      ">>\n",
      "<>\n"
     ]
    }
   ],
   "source": [
    "import numpy as np\n",
    "\n",
    "print(\"><\")\n",
    "for x in np.arange(0,1,0.1):\n",
    "    for y in np.arange(0,1,0.1):\n",
    "        k=x+0.1\n",
    "        l=y-0.1\n",
    "   \n",
    "        mensfilter=mens[(mens['percent2']>x)&(mens['percent2']<k)&(mens['percent']<y)&(mens['percent']>l)]\n",
    "        mensfiltertxt=f\"print(result_hard['Dog'][(result_hard['percent2']>{x.round(1)})&(result_hard['percent2']<{k.round(1)})&(result_hard['percent']<{y.round(1)})&(result_hard['percent']>{l.round(1)})])\"\n",
    "        \n",
    "        if len(mensfilter)>1 and len(mensfilter[mensfilter['Winner']==mensfilter['Dog']])/len(mensfilter) > 0.5:\n",
    "\n",
    "            print(mensfiltertxt)\n",
    "            print(len(mensfilter[mensfilter['Winner']==mensfilter['Dog']])/len(mensfilter))\n",
    "            print(len(mensfilter))\n",
    "print(\"<<\")            \n",
    "for x in np.arange(0,1,0.1):\n",
    "    for y in np.arange(0,1,0.1):\n",
    "        k=x+0.1\n",
    "        l=y-0.1\n",
    "   \n",
    "        mensfilter=mens[(mens['percent2']<x)&(mens['percent2']>k)&(mens['percent']<y)&(mens['percent']>l)]\n",
    "        mensfiltertxt=f\"print(result_hard['Dog'][(result_hard['percent2']<{x.round(1)})&(result_hard['percent2']>{k.round(1)})&(result_hard['percent']<{y.round(1)})&(result_hard['percent']>{l.round(1)})])\"\n",
    "\n",
    "        \n",
    "        if len(mensfilter)>1 and len(mensfilter[mensfilter['Winner']==mensfilter['Dog']])/len(mensfilter) > 0.5:\n",
    "            \n",
    "            print(mensfiltertxt)\n",
    "            print(len(mensfilter[mensfilter['Winner']==mensfilter['Dog']])/len(mensfilter))\n",
    "            print(len(mensfilter))      \n",
    "print(\">>\")\n",
    "for x in np.arange(0,1,0.1):\n",
    "    for y in np.arange(0,1,0.1):\n",
    "        \n",
    "   \n",
    "        mensfilter=mens[(mens['percent2']>x)&(mens['percent']>y)]\n",
    "        if len(mensfilter)>10 and len(mensfilter[mensfilter['Winner']==mensfilter['Dog']])/len(mensfilter) > 0.5:\n",
    "            print(x,y)\n",
    "            print(len(mensfilter[mensfilter['Winner']==mensfilter['Dog']])/len(mensfilter))\n",
    "            print(len(mensfilter))       \n",
    "print(\"<>\")\n",
    "for x in np.arange(0,1,0.1):\n",
    "    for y in np.arange(0,1,0.1):\n",
    "        \n",
    "   \n",
    "        mensfilter=mens[(mens['percent2']<x)&(mens['percent']>y)]\n",
    "        if len(mensfilter)>10 and len(mensfilter[mensfilter['Winner']==mensfilter['Dog']])/len(mensfilter) > 0.5:\n",
    "            print(x,y)\n",
    "            print(len(mensfilter[mensfilter['Winner']==mensfilter['Dog']])/len(mensfilter))\n",
    "            print(len(mensfilter))    "
   ]
  },
  {
   "cell_type": "code",
   "execution_count": 291,
   "metadata": {},
   "outputs": [
    {
     "name": "stdout",
     "output_type": "stream",
     "text": [
      "><\n",
      "<<\n",
      ">>\n",
      "0.0 0.8\n",
      "0.9411764705882353\n",
      "17\n",
      "0.1 0.8\n",
      "0.9411764705882353\n",
      "17\n",
      "0.2 0.8\n",
      "1.0\n",
      "13\n",
      "0.30000000000000004 0.8\n",
      "1.0\n",
      "13\n",
      "0.4 0.8\n",
      "1.0\n",
      "11\n",
      "<>\n",
      "0.30000000000000004 0.6000000000000001\n",
      "0.9230769230769231\n",
      "13\n",
      "0.6000000000000001 0.8\n",
      "0.9166666666666666\n",
      "12\n",
      "0.7000000000000001 0.8\n",
      "0.9285714285714286\n",
      "14\n",
      "0.8 0.8\n",
      "0.9285714285714286\n",
      "14\n",
      "0.9 0.8\n",
      "0.9375\n",
      "16\n"
     ]
    }
   ],
   "source": [
    "import numpy as np\n",
    "\n",
    "print(\"><\")\n",
    "for x in np.arange(0,1,0.1):\n",
    "    for y in np.arange(0,1,0.1):\n",
    "   \n",
    "        mensfilter=mens[(mens['percent2']>x)&(mens['percent']<y)&(mens['Fav_Odds']>1.19)&(mens['Fav_Odds']<1.3)]\n",
    "        \n",
    "        if len(mensfilter)>10 and len(mensfilter[mensfilter['Winner']!=mensfilter['Dog']])/len(mensfilter) > 0.9:\n",
    "\n",
    "            print(x,y)\n",
    "            print(len(mensfilter[mensfilter['Winner']!=mensfilter['Dog']])/len(mensfilter))\n",
    "            print(len(mensfilter))\n",
    "print(\"<<\")            \n",
    "for x in np.arange(0,1,0.1):\n",
    "    for y in np.arange(0,1,0.1):\n",
    "   \n",
    "        mensfilter=mens[(mens['percent2']<x)&(mens['percent']<y)&(mens['Fav_Odds']>1.19)&(mens['Fav_Odds']<1.3)]\n",
    "        \n",
    "        if len(mensfilter)>10 and len(mensfilter[mensfilter['Winner']!=mensfilter['Dog']])/len(mensfilter) > 0.9:\n",
    "            \n",
    "            print(x,y)\n",
    "            print(len(mensfilter[mensfilter['Winner']!=mensfilter['Dog']])/len(mensfilter))\n",
    "            print(len(mensfilter))      \n",
    "print(\">>\")\n",
    "for x in np.arange(0,1,0.1):\n",
    "    for y in np.arange(0,1,0.1):\n",
    "        \n",
    "   \n",
    "        mensfilter=mens[(mens['percent2']>x)&(mens['percent']>y)&(mens['Fav_Odds']>1.19)&(mens['Fav_Odds']<1.3)]\n",
    "        if len(mensfilter)>10 and len(mensfilter[mensfilter['Winner']!=mensfilter['Dog']])/len(mensfilter) > 0.9:\n",
    "            print(x,y)\n",
    "            print(len(mensfilter[mensfilter['Winner']!=mensfilter['Dog']])/len(mensfilter))\n",
    "            print(len(mensfilter))       \n",
    "print(\"<>\")\n",
    "for x in np.arange(0,1,0.1):\n",
    "    for y in np.arange(0,1,0.1):\n",
    "        \n",
    "   \n",
    "        mensfilter=mens[(mens['percent2']<x)&(mens['percent']>y)&(mens['Fav_Odds']>1.19)&(mens['Fav_Odds']<1.3)]\n",
    "        if len(mensfilter)>10 and len(mensfilter[mensfilter['Winner']!=mensfilter['Dog']])/len(mensfilter) > 0.9:\n",
    "            print(x,y)\n",
    "            print(len(mensfilter[mensfilter['Winner']!=mensfilter['Dog']])/len(mensfilter))\n",
    "            print(len(mensfilter))    "
   ]
  },
  {
   "cell_type": "code",
   "execution_count": 292,
   "metadata": {},
   "outputs": [
    {
     "name": "stdout",
     "output_type": "stream",
     "text": [
      "0.559322033898305\n",
      "59\n"
     ]
    }
   ],
   "source": [
    "mensfilter=mens[(mens['Fav_Odds']>1.8)]\n",
    "print(len(mensfilter[mensfilter['Winner']!=mensfilter['Dog']])/len(mensfilter))\n",
    "print(len(mensfilter))"
   ]
  },
  {
   "cell_type": "code",
   "execution_count": 293,
   "metadata": {},
   "outputs": [],
   "source": [
    "data=pd.read_sql_query(\n",
    "    f\"Select DISTINCT Date,Winner,Dog,Dog_Record,Winner_Odds,Fav_Record,percent,percent2,Fav_Games,Dog_Games,Fav_Odds,Fav,sex From results_hard where sex like 'Womens' --where Date > '2023-01-01' and Date not like '{time_now_formatted}'\",\n",
    "    con=devengine,)\n",
    "data['Fav_Odds']=data['Fav_Odds'].astype(float)\n",
    "data['Winx']=data.apply(lambda x: 'Dog' if x['Winner']==x['Dog'] else 'Fav', axis=1)"
   ]
  },
  {
   "cell_type": "code",
   "execution_count": 294,
   "metadata": {},
   "outputs": [],
   "source": [
    "womensserving=pd.read_csv('womensserving.csv')\n",
    "combine = pd.merge(data, womensserving, how=\"left\", left_on=\"Fav\", right_on=\"Name\")\n",
    "combine2 = pd.merge(combine, womensserving, how=\"left\", left_on=\"Dog\", right_on=\"Name\")\n",
    "combine2[[\"Service Games Won_x\", \"Service Games Won_y\"]] = combine2[\n",
    "        [\"Service Games Won_x\", \"Service Games Won_y\"]\n",
    "    ].astype(float)\n",
    "combine2.rename(\n",
    "        columns={\n",
    "            \"Service Games Won_x\": \"Fav_Serve%\",\n",
    "            \"Service Games Won_y\": \"Dog_Serve%\",\n",
    "            \"Return Games Won_x\": \"Fav_Return%\",\n",
    "            \"Return Games Won_y\": \"Dog_Return%\",\n",
    "        },\n",
    "        inplace=True,\n",
    "    )\n",
    "womens = combine2[\n",
    "    [   \"Date\",\"Winner\",\"Dog\",\"Winner_Odds\",\"percent\",\"percent2\",\"Fav_Games\",\"Dog_Games\",\"Fav_Odds\",\n",
    "        \"Fav\",\n",
    "        # \"Player_1_Odds\",\n",
    "        \"Fav_Serve%\",\n",
    "        \"Dog_Return%\",\n",
    "       \n",
    "        # \"Player_2_Odds\",\n",
    "        \"Dog_Serve%\",\n",
    "        \"Fav_Return%\",\n",
    "    ]]"
   ]
  },
  {
   "cell_type": "code",
   "execution_count": 295,
   "metadata": {},
   "outputs": [
    {
     "data": {
      "text/plain": [
       "0.0"
      ]
     },
     "execution_count": 295,
     "metadata": {},
     "output_type": "execute_result"
    }
   ],
   "source": [
    "womensfilter=womens[(womens['percent2']>0)&(womens['percent']>0.5)&(womens['Fav_Serve%']>70)&(womens['Dog_Serve%']>0.0)&(womens['Dog_Serve%']<70.0)&(womens['Dog_Return%']>0)&(womens['Fav_Odds']>1.8)]\n",
    "len(womensfilter[womensfilter['Winner']!=womensfilter['Dog']])/len(womensfilter)"
   ]
  },
  {
   "cell_type": "code",
   "execution_count": 296,
   "metadata": {},
   "outputs": [
    {
     "data": {
      "text/plain": [
       "1"
      ]
     },
     "execution_count": 296,
     "metadata": {},
     "output_type": "execute_result"
    }
   ],
   "source": [
    "len(womensfilter)"
   ]
  },
  {
   "cell_type": "code",
   "execution_count": 297,
   "metadata": {},
   "outputs": [
    {
     "data": {
      "text/plain": [
       "1.0"
      ]
     },
     "execution_count": 297,
     "metadata": {},
     "output_type": "execute_result"
    }
   ],
   "source": [
    "data3=womens[(womens['Fav_Odds']>1.19)&(womens['Fav_Odds']<1.3)&(womens['percent2']<0.3)&(womens['percent']>0.6)&(womens['Dog_Games']>8)]\n",
    "len(data3[data3['Winner']==data3['Fav']])/len(data3)"
   ]
  },
  {
   "cell_type": "code",
   "execution_count": 298,
   "metadata": {},
   "outputs": [
    {
     "data": {
      "text/plain": [
       "5"
      ]
     },
     "execution_count": 298,
     "metadata": {},
     "output_type": "execute_result"
    }
   ],
   "source": [
    "len(data3)"
   ]
  },
  {
   "cell_type": "code",
   "execution_count": 299,
   "metadata": {},
   "outputs": [
    {
     "data": {
      "text/html": [
       "<div>\n",
       "<style scoped>\n",
       "    .dataframe tbody tr th:only-of-type {\n",
       "        vertical-align: middle;\n",
       "    }\n",
       "\n",
       "    .dataframe tbody tr th {\n",
       "        vertical-align: top;\n",
       "    }\n",
       "\n",
       "    .dataframe thead th {\n",
       "        text-align: right;\n",
       "    }\n",
       "</style>\n",
       "<table border=\"1\" class=\"dataframe\">\n",
       "  <thead>\n",
       "    <tr style=\"text-align: right;\">\n",
       "      <th></th>\n",
       "      <th>Date</th>\n",
       "      <th>Winner</th>\n",
       "      <th>Dog</th>\n",
       "      <th>Winner_Odds</th>\n",
       "      <th>percent</th>\n",
       "      <th>percent2</th>\n",
       "      <th>Fav_Games</th>\n",
       "      <th>Dog_Games</th>\n",
       "      <th>Fav_Odds</th>\n",
       "      <th>Fav</th>\n",
       "      <th>Fav_Serve%</th>\n",
       "      <th>Dog_Return%</th>\n",
       "      <th>Dog_Serve%</th>\n",
       "      <th>Fav_Return%</th>\n",
       "    </tr>\n",
       "  </thead>\n",
       "  <tbody>\n",
       "    <tr>\n",
       "      <th>107</th>\n",
       "      <td>2023-01-18</td>\n",
       "      <td>Cori Gauff</td>\n",
       "      <td>Emma Raducanu</td>\n",
       "      <td>1.29</td>\n",
       "      <td>0.827586</td>\n",
       "      <td>0.100000</td>\n",
       "      <td>29</td>\n",
       "      <td>10</td>\n",
       "      <td>1.29</td>\n",
       "      <td>Cori Gauff</td>\n",
       "      <td>NaN</td>\n",
       "      <td>38.9</td>\n",
       "      <td>68.5</td>\n",
       "      <td>NaN</td>\n",
       "    </tr>\n",
       "    <tr>\n",
       "      <th>141</th>\n",
       "      <td>2023-01-16</td>\n",
       "      <td>Petra Kvitova</td>\n",
       "      <td>Alison Van Uytvanck</td>\n",
       "      <td>1.24</td>\n",
       "      <td>0.647059</td>\n",
       "      <td>0.111111</td>\n",
       "      <td>34</td>\n",
       "      <td>9</td>\n",
       "      <td>1.24</td>\n",
       "      <td>Petra Kvitova</td>\n",
       "      <td>74.3</td>\n",
       "      <td>32.2</td>\n",
       "      <td>71.5</td>\n",
       "      <td>29.9</td>\n",
       "    </tr>\n",
       "    <tr>\n",
       "      <th>309</th>\n",
       "      <td>2023-01-07</td>\n",
       "      <td>Kaia Kanepi</td>\n",
       "      <td>Anna Bondar</td>\n",
       "      <td>1.28</td>\n",
       "      <td>0.650000</td>\n",
       "      <td>0.214286</td>\n",
       "      <td>20</td>\n",
       "      <td>14</td>\n",
       "      <td>1.28</td>\n",
       "      <td>Kaia Kanepi</td>\n",
       "      <td>71.7</td>\n",
       "      <td>30.3</td>\n",
       "      <td>70.3</td>\n",
       "      <td>31.8</td>\n",
       "    </tr>\n",
       "    <tr>\n",
       "      <th>346</th>\n",
       "      <td>2023-01-05</td>\n",
       "      <td>Cori Gauff</td>\n",
       "      <td>Sofia Kenin</td>\n",
       "      <td>1.21</td>\n",
       "      <td>0.818182</td>\n",
       "      <td>0.272727</td>\n",
       "      <td>11</td>\n",
       "      <td>11</td>\n",
       "      <td>1.21</td>\n",
       "      <td>Cori Gauff</td>\n",
       "      <td>NaN</td>\n",
       "      <td>23.3</td>\n",
       "      <td>63.5</td>\n",
       "      <td>NaN</td>\n",
       "    </tr>\n",
       "    <tr>\n",
       "      <th>406</th>\n",
       "      <td>2023-01-01</td>\n",
       "      <td>Anhelina Kalinina</td>\n",
       "      <td>Anna Bondar</td>\n",
       "      <td>1.28</td>\n",
       "      <td>0.652174</td>\n",
       "      <td>0.285714</td>\n",
       "      <td>23</td>\n",
       "      <td>14</td>\n",
       "      <td>1.28</td>\n",
       "      <td>Anhelina Kalinina</td>\n",
       "      <td>64.1</td>\n",
       "      <td>30.3</td>\n",
       "      <td>70.3</td>\n",
       "      <td>32.9</td>\n",
       "    </tr>\n",
       "  </tbody>\n",
       "</table>\n",
       "</div>"
      ],
      "text/plain": [
       "           Date             Winner                  Dog Winner_Odds   percent  \\\n",
       "107  2023-01-18         Cori Gauff        Emma Raducanu        1.29  0.827586   \n",
       "141  2023-01-16      Petra Kvitova  Alison Van Uytvanck        1.24  0.647059   \n",
       "309  2023-01-07        Kaia Kanepi          Anna Bondar        1.28  0.650000   \n",
       "346  2023-01-05         Cori Gauff          Sofia Kenin        1.21  0.818182   \n",
       "406  2023-01-01  Anhelina Kalinina          Anna Bondar        1.28  0.652174   \n",
       "\n",
       "     percent2  Fav_Games  Dog_Games  Fav_Odds                Fav  Fav_Serve%  \\\n",
       "107  0.100000         29         10      1.29         Cori Gauff         NaN   \n",
       "141  0.111111         34          9      1.24      Petra Kvitova        74.3   \n",
       "309  0.214286         20         14      1.28        Kaia Kanepi        71.7   \n",
       "346  0.272727         11         11      1.21         Cori Gauff         NaN   \n",
       "406  0.285714         23         14      1.28  Anhelina Kalinina        64.1   \n",
       "\n",
       "     Dog_Return%  Dog_Serve%  Fav_Return%  \n",
       "107         38.9        68.5          NaN  \n",
       "141         32.2        71.5         29.9  \n",
       "309         30.3        70.3         31.8  \n",
       "346         23.3        63.5          NaN  \n",
       "406         30.3        70.3         32.9  "
      ]
     },
     "execution_count": 299,
     "metadata": {},
     "output_type": "execute_result"
    }
   ],
   "source": [
    "data3"
   ]
  },
  {
   "cell_type": "code",
   "execution_count": 300,
   "metadata": {},
   "outputs": [
    {
     "name": "stdout",
     "output_type": "stream",
     "text": [
      "><\n",
      "<<\n",
      "0.4 0.8\n",
      "0.9166666666666666\n",
      "24\n",
      "0.5 0.7000000000000001\n",
      "0.9032258064516129\n",
      "31\n",
      ">>\n",
      "<>\n",
      "0.30000000000000004 0.5\n",
      "0.9230769230769231\n",
      "13\n"
     ]
    }
   ],
   "source": [
    "import numpy as np\n",
    "\n",
    "print(\"><\")\n",
    "for x in np.arange(0,1,0.1):\n",
    "    for y in np.arange(0,1,0.1):\n",
    "   \n",
    "        womensfilter=womens[(womens['percent2']>x)&(womens['percent']<y)&(womens['Fav_Odds']>1.19)&(womens['Fav_Odds']<1.3)]\n",
    "        \n",
    "        if len(womensfilter)>10 and len(womensfilter[womensfilter['Winner']!=womensfilter['Dog']])/len(womensfilter) > 0.9:\n",
    "\n",
    "            print(x,y)\n",
    "            print(len(womensfilter[womensfilter['Winner']!=womensfilter['Dog']])/len(womensfilter))\n",
    "            print(len(womensfilter))\n",
    "print(\"<<\")            \n",
    "for x in np.arange(0,1,0.1):\n",
    "    for y in np.arange(0,1,0.1):\n",
    "   \n",
    "        womensfilter=womens[(womens['percent2']<x)&(womens['percent']<y)&(womens['Fav_Odds']>1.19)&(womens['Fav_Odds']<1.3)]\n",
    "        \n",
    "        if len(womensfilter)>10 and len(womensfilter[womensfilter['Winner']!=womensfilter['Dog']])/len(womensfilter) > 0.9:\n",
    "            \n",
    "            print(x,y)\n",
    "            print(len(womensfilter[womensfilter['Winner']!=womensfilter['Dog']])/len(womensfilter))\n",
    "            print(len(womensfilter))      \n",
    "print(\">>\")\n",
    "for x in np.arange(0,1,0.1):\n",
    "    for y in np.arange(0,1,0.1):\n",
    "        \n",
    "   \n",
    "        womensfilter=womens[(womens['percent2']>x)&(womens['percent']>y)&(womens['Fav_Odds']>1.19)&(womens['Fav_Odds']<1.3)]\n",
    "        if len(womensfilter)>10 and len(womensfilter[womensfilter['Winner']!=womensfilter['Dog']])/len(womensfilter) > 0.9:\n",
    "            print(x,y)\n",
    "            print(len(womensfilter[womensfilter['Winner']!=womensfilter['Dog']])/len(womensfilter))\n",
    "            print(len(womensfilter))       \n",
    "print(\"<>\")\n",
    "for x in np.arange(0,1,0.1):\n",
    "    for y in np.arange(0,1,0.1):\n",
    "        \n",
    "   \n",
    "        womensfilter=womens[(womens['percent2']<x)&(womens['percent']>y)&(womens['Fav_Odds']>1.19)&(womens['Fav_Odds']<1.3)]\n",
    "        if len(womensfilter)>10 and len(womensfilter[womensfilter['Winner']!=womensfilter['Dog']])/len(womensfilter) > 0.9:\n",
    "            print(x,y)\n",
    "            print(len(womensfilter[womensfilter['Winner']!=womensfilter['Dog']])/len(womensfilter))\n",
    "            print(len(womensfilter))    "
   ]
  },
  {
   "cell_type": "code",
   "execution_count": 301,
   "metadata": {},
   "outputs": [
    {
     "name": "stdout",
     "output_type": "stream",
     "text": [
      "><\n",
      "0.8 0.6000000000000001\n",
      "0.6666666666666666\n",
      "6\n",
      "0.8 0.7000000000000001\n",
      "0.6666666666666666\n",
      "6\n",
      "0.8 0.8\n",
      "0.5714285714285714\n",
      "7\n",
      "0.8 0.9\n",
      "0.5714285714285714\n",
      "7\n",
      "<<\n",
      ">>\n",
      "<>\n"
     ]
    }
   ],
   "source": [
    "import numpy as np\n",
    "\n",
    "print(\"><\")\n",
    "for x in np.arange(0,1,0.1):\n",
    "    for y in np.arange(0,1,0.1):\n",
    "   \n",
    "        womensfilter=womens[(womens['percent2']>x)&(womens['percent']<y)]\n",
    "        \n",
    "        if len(womensfilter)>5 and len(womensfilter[womensfilter['Winner']==womensfilter['Dog']])/len(womensfilter) > 0.5:\n",
    "\n",
    "            print(x,y)\n",
    "            print(len(womensfilter[womensfilter['Winner']==womensfilter['Dog']])/len(womensfilter))\n",
    "            print(len(womensfilter))\n",
    "print(\"<<\")            \n",
    "for x in np.arange(0,1,0.1):\n",
    "    for y in np.arange(0,1,0.1):\n",
    "   \n",
    "        womensfilter=womens[(womens['percent2']<x)&(womens['percent']<y)]\n",
    "        \n",
    "        if len(womensfilter)>10 and len(womensfilter[womensfilter['Winner']==womensfilter['Dog']])/len(womensfilter) > 0.5:\n",
    "            \n",
    "            print(x,y)\n",
    "            print(len(womensfilter[womensfilter['Winner']==womensfilter['Dog']])/len(womensfilter))\n",
    "            print(len(womensfilter))      \n",
    "print(\">>\")\n",
    "for x in np.arange(0,1,0.1):\n",
    "    for y in np.arange(0,1,0.1):\n",
    "        \n",
    "   \n",
    "        womensfilter=womens[(womens['percent2']>x)&(womens['percent']>y)]\n",
    "        if len(womensfilter)>10 and len(womensfilter[womensfilter['Winner']==womensfilter['Dog']])/len(womensfilter) > 0.5:\n",
    "            print(x,y)\n",
    "            print(len(womensfilter[womensfilter['Winner']==womensfilter['Dog']])/len(womensfilter))\n",
    "            print(len(womensfilter))       \n",
    "print(\"<>\")\n",
    "for x in np.arange(0,1,0.1):\n",
    "    for y in np.arange(0,1,0.1):\n",
    "        \n",
    "   \n",
    "        womensfilter=womens[(womens['percent2']<x)&(womens['percent']>y)]\n",
    "        if len(womensfilter)>10 and len(womensfilter[womensfilter['Winner']==womensfilter['Dog']])/len(womensfilter) > 0.5:\n",
    "            print(x,y)\n",
    "            print(len(womensfilter[womensfilter['Winner']==womensfilter['Dog']])/len(womensfilter))\n",
    "            print(len(womensfilter))    "
   ]
  },
  {
   "cell_type": "code",
   "execution_count": 302,
   "metadata": {},
   "outputs": [
    {
     "data": {
      "text/plain": [
       "0.11538461538461539"
      ]
     },
     "execution_count": 302,
     "metadata": {},
     "output_type": "execute_result"
    }
   ],
   "source": [
    "womensfilter=womens[(womens['percent2']>0.2)&(womens['percent']<0.7)&(womens['Fav_Odds']>1.19)&(womens['Fav_Odds']<1.3)]\n",
    "len(womensfilter[womensfilter['Winner']==womensfilter['Dog']])/len(womensfilter)\n"
   ]
  },
  {
   "cell_type": "code",
   "execution_count": 306,
   "metadata": {},
   "outputs": [
    {
     "data": {
      "text/html": [
       "<div>\n",
       "<style scoped>\n",
       "    .dataframe tbody tr th:only-of-type {\n",
       "        vertical-align: middle;\n",
       "    }\n",
       "\n",
       "    .dataframe tbody tr th {\n",
       "        vertical-align: top;\n",
       "    }\n",
       "\n",
       "    .dataframe thead th {\n",
       "        text-align: right;\n",
       "    }\n",
       "</style>\n",
       "<table border=\"1\" class=\"dataframe\">\n",
       "  <thead>\n",
       "    <tr style=\"text-align: right;\">\n",
       "      <th></th>\n",
       "      <th>Date</th>\n",
       "      <th>Winner</th>\n",
       "      <th>Dog</th>\n",
       "      <th>Winner_Odds</th>\n",
       "      <th>percent</th>\n",
       "      <th>percent2</th>\n",
       "      <th>Fav_Games</th>\n",
       "      <th>Dog_Games</th>\n",
       "      <th>Fav_Odds</th>\n",
       "      <th>Fav</th>\n",
       "      <th>Fav_Serve%</th>\n",
       "      <th>Dog_Return%</th>\n",
       "      <th>Dog_Serve%</th>\n",
       "      <th>Fav_Return%</th>\n",
       "    </tr>\n",
       "  </thead>\n",
       "  <tbody>\n",
       "    <tr>\n",
       "      <th>76</th>\n",
       "      <td>2023-01-20</td>\n",
       "      <td>Barbora Krejcikova</td>\n",
       "      <td>Anhelina Kalinina</td>\n",
       "      <td>1.68</td>\n",
       "      <td>0.628571</td>\n",
       "      <td>0.416667</td>\n",
       "      <td>35</td>\n",
       "      <td>24</td>\n",
       "      <td>1.68</td>\n",
       "      <td>Barbora Krejcikova</td>\n",
       "      <td>74.3</td>\n",
       "      <td>32.9</td>\n",
       "      <td>64.1</td>\n",
       "      <td>35.0</td>\n",
       "    </tr>\n",
       "    <tr>\n",
       "      <th>174</th>\n",
       "      <td>2023-01-12</td>\n",
       "      <td>Cristina Bucsa</td>\n",
       "      <td>Nao Hibino</td>\n",
       "      <td>1.65</td>\n",
       "      <td>0.647059</td>\n",
       "      <td>0.363636</td>\n",
       "      <td>17</td>\n",
       "      <td>22</td>\n",
       "      <td>1.65</td>\n",
       "      <td>Cristina Bucsa</td>\n",
       "      <td>54.5</td>\n",
       "      <td>39.8</td>\n",
       "      <td>60.6</td>\n",
       "      <td>32.0</td>\n",
       "    </tr>\n",
       "    <tr>\n",
       "      <th>178</th>\n",
       "      <td>2023-01-12</td>\n",
       "      <td>Katie Volynets</td>\n",
       "      <td>Kristina Mladenovic</td>\n",
       "      <td>1.62</td>\n",
       "      <td>0.636364</td>\n",
       "      <td>0.352941</td>\n",
       "      <td>11</td>\n",
       "      <td>17</td>\n",
       "      <td>1.62</td>\n",
       "      <td>Katie Volynets</td>\n",
       "      <td>45.9</td>\n",
       "      <td>33.1</td>\n",
       "      <td>53.1</td>\n",
       "      <td>44.2</td>\n",
       "    </tr>\n",
       "    <tr>\n",
       "      <th>427</th>\n",
       "      <td>2022-12-31</td>\n",
       "      <td>Anastasia Potapova</td>\n",
       "      <td>Taylor Townsend</td>\n",
       "      <td>1.69</td>\n",
       "      <td>0.666667</td>\n",
       "      <td>0.400000</td>\n",
       "      <td>18</td>\n",
       "      <td>5</td>\n",
       "      <td>1.69</td>\n",
       "      <td>Anastasia Potapova</td>\n",
       "      <td>63.1</td>\n",
       "      <td>28.9</td>\n",
       "      <td>63.8</td>\n",
       "      <td>41.7</td>\n",
       "    </tr>\n",
       "    <tr>\n",
       "      <th>462</th>\n",
       "      <td>2022-12-12</td>\n",
       "      <td>Alycia Parks</td>\n",
       "      <td>Anna Lena Friedsam</td>\n",
       "      <td>1.67</td>\n",
       "      <td>0.666667</td>\n",
       "      <td>0.375000</td>\n",
       "      <td>18</td>\n",
       "      <td>16</td>\n",
       "      <td>1.67</td>\n",
       "      <td>Alycia Parks</td>\n",
       "      <td>73.1</td>\n",
       "      <td>NaN</td>\n",
       "      <td>NaN</td>\n",
       "      <td>23.9</td>\n",
       "    </tr>\n",
       "    <tr>\n",
       "      <th>465</th>\n",
       "      <td>2022-12-10</td>\n",
       "      <td>Jessika Ponchet</td>\n",
       "      <td>Jessika Ponchet</td>\n",
       "      <td>2.2</td>\n",
       "      <td>0.700000</td>\n",
       "      <td>0.363636</td>\n",
       "      <td>10</td>\n",
       "      <td>11</td>\n",
       "      <td>1.65</td>\n",
       "      <td>Clara Burel</td>\n",
       "      <td>56.2</td>\n",
       "      <td>14.3</td>\n",
       "      <td>14.3</td>\n",
       "      <td>35.2</td>\n",
       "    </tr>\n",
       "  </tbody>\n",
       "</table>\n",
       "</div>"
      ],
      "text/plain": [
       "           Date              Winner                  Dog Winner_Odds  \\\n",
       "76   2023-01-20  Barbora Krejcikova    Anhelina Kalinina        1.68   \n",
       "174  2023-01-12      Cristina Bucsa           Nao Hibino        1.65   \n",
       "178  2023-01-12      Katie Volynets  Kristina Mladenovic        1.62   \n",
       "427  2022-12-31  Anastasia Potapova      Taylor Townsend        1.69   \n",
       "462  2022-12-12        Alycia Parks   Anna Lena Friedsam        1.67   \n",
       "465  2022-12-10     Jessika Ponchet      Jessika Ponchet         2.2   \n",
       "\n",
       "      percent  percent2  Fav_Games  Dog_Games  Fav_Odds                 Fav  \\\n",
       "76   0.628571  0.416667         35         24      1.68  Barbora Krejcikova   \n",
       "174  0.647059  0.363636         17         22      1.65      Cristina Bucsa   \n",
       "178  0.636364  0.352941         11         17      1.62      Katie Volynets   \n",
       "427  0.666667  0.400000         18          5      1.69  Anastasia Potapova   \n",
       "462  0.666667  0.375000         18         16      1.67        Alycia Parks   \n",
       "465  0.700000  0.363636         10         11      1.65         Clara Burel   \n",
       "\n",
       "     Fav_Serve%  Dog_Return%  Dog_Serve%  Fav_Return%  \n",
       "76         74.3         32.9        64.1         35.0  \n",
       "174        54.5         39.8        60.6         32.0  \n",
       "178        45.9         33.1        53.1         44.2  \n",
       "427        63.1         28.9        63.8         41.7  \n",
       "462        73.1          NaN         NaN         23.9  \n",
       "465        56.2         14.3        14.3         35.2  "
      ]
     },
     "execution_count": 306,
     "metadata": {},
     "output_type": "execute_result"
    }
   ],
   "source": [
    "womensfilter=womens[(womens['percent2']<0.5)&(womens['percent']>0.6)&(womens['Fav_Odds']<1.7)&(womens['Fav_Odds']>1.6)]\n",
    "len(womensfilter[womensfilter['Winner']!=womensfilter['Dog']])/len(womensfilter)\n",
    "womensfilter"
   ]
  }
 ],
 "metadata": {
  "kernelspec": {
   "display_name": "Python 3",
   "language": "python",
   "name": "python3"
  },
  "language_info": {
   "codemirror_mode": {
    "name": "ipython",
    "version": 3
   },
   "file_extension": ".py",
   "mimetype": "text/x-python",
   "name": "python",
   "nbconvert_exporter": "python",
   "pygments_lexer": "ipython3",
   "version": "3.9.5"
  },
  "orig_nbformat": 4,
  "vscode": {
   "interpreter": {
    "hash": "9e3bfd5707cea17bcbe380e30b983be31a9c4e73ed42697506103186bbe325e5"
   }
  }
 },
 "nbformat": 4,
 "nbformat_minor": 2
}
