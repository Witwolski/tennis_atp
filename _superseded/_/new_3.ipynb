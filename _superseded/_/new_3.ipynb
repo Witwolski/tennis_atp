{
 "cells": [
  {
   "cell_type": "code",
   "execution_count": 368,
   "metadata": {},
   "outputs": [],
   "source": [
    "from sqlalchemy import create_engine\n",
    "import pandas as pd\n",
    "import numpy as np\n",
    "import datetime\n",
    "devengine = create_engine(\"sqlite:///C:/Git/tennis_atp/database/bets_sqllite.db\")"
   ]
  },
  {
   "cell_type": "code",
   "execution_count": 369,
   "metadata": {},
   "outputs": [],
   "source": [
    "time_now = datetime.datetime.now()\n",
    "time_now_formatted = time_now.strftime(\"%Y-%m-%d\")\n",
    "elo_data = pd.read_sql_query(\n",
    "    f\"Select DISTINCT * From Elo_AllMatches where date not like '{time_now_formatted}'\",\n",
    "    con=devengine,)\n"
   ]
  },
  {
   "cell_type": "code",
   "execution_count": 370,
   "metadata": {},
   "outputs": [],
   "source": [
    "elo_data['Elo_Diff']=elo_data['Elo_Fav_Elo']-elo_data['Elo_Dog_Elo']\n",
    "elo_data['Elo_Odds_Diff']=elo_data['Elo_Fav_Odds']-elo_data['Elo_Dog_Odds']\n",
    "#elo_data=elo_data[((elo_data['Elo_Diff']).lt(150))!=True]\n",
    "#elo_data['Winner']=elo_data.apply(lambda x: 'Elo_Fav' if x['Elo_Fav']==x['Winner'] else 'Elo_Dog',axis=1)\n",
    "#elo_data=elo_data[(elo_data['Elo_Fav_Odds']>elo_data['Elo_Fav_Est_Odds'])&(elo_data['Elo_Fav_Odds']<1.5)]\n",
    "#elo_data['Winner_Odds']=elo_data.apply(lambda x: x['Elo_Fav_Odds'] if x['Elo_Fav']==x['Winner'] else x['Elo_Dog_Odds'],axis=1)\n",
    "#elo_data['Winner_Est_Odds']=elo_data.apply(lambda x: x['Elo_Fav_Est_Odds'] if x['Elo_Fav']==x['Winner'] else x['Elo_Dog_Est_Odds'],axis=1)\n",
    "#elo_data['Winner_Elo']=elo_data.apply(lambda x: x['Elo_Fav_Elo'] if x['Elo_Fav']==x['Winner'] else x['Elo_Dog_Elo'],axis=1)\n",
    "elo_data['Fav_Odds']=elo_data[['Elo_Fav_Odds','Elo_Dog_Odds']].min(axis=1)\n",
    "elo_data['Dog_Odds']=elo_data[['Elo_Fav_Odds','Elo_Dog_Odds']].max(axis=1)\n",
    "elo_data['Odds_Diff']=elo_data['Fav_Odds']-elo_data['Dog_Odds']\n",
    "elo_data['Fav_Odds_Diff']=elo_data['Elo_Fav_Odds']-elo_data['Elo_Fav_Est_Odds']\n",
    "elo_data['Dog_Odds_Diff']=elo_data['Elo_Dog_Odds']-elo_data['Elo_Dog_Est_Odds']\n",
    "elo_data['Winner_Elo']=elo_data.apply(lambda x: 'Elo_Fav' if x['Elo_Fav']==x['Winner'] else 'Elo_Dog',axis=1)\n",
    "#elo_data['Total_Diff']=elo_data['Elo_Fav_Total']-elo_data['Elo_Dog_Total']\n",
    "#elo_data=elo_data[elo_data['Elo_Fav_Odds']<1.8]\n",
    "train_data=elo_data[elo_data['Date']<'2022-09-01']\n",
    "test_data=elo_data[elo_data['Date']>='2022-09-01']\n",
    "test_data_resulted=test_data.reset_index()\n",
    "test_data=test_data.drop(columns=['Surface','Date','Sex','Elo_Fav','Elo_Dog','Elo_Dog_Odds','Resulted','Time','Winner_Rank','Loser_Rank'])\n",
    "train_data=train_data.drop(columns=['Surface','Date','Sex','Elo_Fav','Elo_Dog','Elo_Dog_Odds','Resulted','Time','Winner_Rank','Loser_Rank'])"
   ]
  },
  {
   "cell_type": "code",
   "execution_count": 371,
   "metadata": {},
   "outputs": [
    {
     "data": {
      "text/plain": [
       "13"
      ]
     },
     "execution_count": 371,
     "metadata": {},
     "output_type": "execute_result"
    }
   ],
   "source": [
    "#Elo Fav 1.1>1.4\n",
    "elo_data_1=elo_data[(elo_data['Elo_Fav_Total']>20)&(elo_data['Elo_Dog_Total']>20)]\n",
    "elo_data_1=elo_data_1[(elo_data_1['Elo_Fav_Elo']<1800)]\n",
    "elo_data_1.drop(columns=['Surface','Time','Resulted','Winner_Rank','Loser_Rank','Date'],inplace=True)\n",
    "elo_data_1=elo_data_1[(elo_data_1['Elo_Fav_Est_Odds']<elo_data_1['Elo_Fav_Odds'])]\n",
    "elo_data_1=elo_data_1[((elo_data_1['Elo_Fav_Odds'])>1.1)&((elo_data_1['Elo_Fav_Odds'])<1.4)]\n",
    "len(elo_data_1[elo_data_1['Winner_Elo']=='Elo_Fav'])/len(elo_data_1)\n",
    "len(elo_data_1)"
   ]
  },
  {
   "cell_type": "code",
   "execution_count": 372,
   "metadata": {},
   "outputs": [
    {
     "data": {
      "text/plain": [
       "0.8"
      ]
     },
     "execution_count": 372,
     "metadata": {},
     "output_type": "execute_result"
    }
   ],
   "source": [
    "#Elo Fav 1.4>1.5\n",
    "elo_data_3=elo_data[(elo_data['Elo_Fav_Total']>20)&(elo_data['Elo_Dog_Total']>20)]\n",
    "elo_data_3=elo_data_3[(elo_data_3['Elo_Fav_Elo']>1800)&(elo_data_3['Elo_Fav_Elo']<1900)]\n",
    "elo_data_3.drop(columns=['Surface','Time','Resulted','Winner_Rank','Loser_Rank','Date'],inplace=True)\n",
    "elo_data_3=elo_data_3[(elo_data_3['Elo_Fav_Est_Odds']<elo_data_3['Elo_Fav_Odds'])]\n",
    "elo_data_3=elo_data_3[((elo_data_3['Elo_Fav_Odds'])>1.4)&((elo_data_3['Elo_Fav_Odds'])<1.5)]\n",
    "len(elo_data_3[elo_data_3['Winner_Elo']=='Elo_Fav'])/len(elo_data_3)\n",
    "#len(elo_data_3)"
   ]
  },
  {
   "cell_type": "code",
   "execution_count": 373,
   "metadata": {},
   "outputs": [
    {
     "data": {
      "text/plain": [
       "0.75"
      ]
     },
     "execution_count": 373,
     "metadata": {},
     "output_type": "execute_result"
    }
   ],
   "source": [
    "#Elo Fav 1.9>2\n",
    "elo_data_2=elo_data[(elo_data['Elo_Fav_Total']>20)&(elo_data['Elo_Dog_Total']>20)]\n",
    "elo_data_2=elo_data_2[(elo_data_2['Elo_Fav_Elo']<1600)]\n",
    "elo_data_2.drop(columns=['Surface','Time','Resulted','Winner_Rank','Loser_Rank','Date'],inplace=True)\n",
    "elo_data_2=elo_data_2[(elo_data_2['Elo_Fav_Est_Odds']<elo_data_2['Elo_Fav_Odds'])]\n",
    "elo_data_2=elo_data_2[((elo_data_2['Elo_Fav_Odds'])>1.9)&((elo_data_2['Elo_Fav_Odds'])<2)]\n",
    "len(elo_data_2[elo_data_2['Winner_Elo']=='Elo_Fav'])/len(elo_data_2)\n",
    "#len(elo_data_2)"
   ]
  },
  {
   "cell_type": "code",
   "execution_count": 374,
   "metadata": {},
   "outputs": [
    {
     "data": {
      "text/plain": [
       "0.2222222222222222"
      ]
     },
     "execution_count": 374,
     "metadata": {},
     "output_type": "execute_result"
    }
   ],
   "source": [
    "#Elo Fav 1.7>1.8\n",
    "elo_data_4=elo_data[(elo_data['Elo_Fav_Total']>2)&(elo_data['Elo_Dog_Total']>2)]\n",
    "elo_data_4=elo_data_4[(elo_data_4['Elo_Fav_Elo']>1800)]\n",
    "elo_data_4.drop(columns=['Surface','Time','Resulted','Winner_Rank','Loser_Rank','Date'],inplace=True)\n",
    "elo_data_4=elo_data_4[(elo_data_4['Elo_Fav_Est_Odds']>elo_data_4['Elo_Fav_Odds'])]\n",
    "elo_data_4=elo_data_4[((elo_data_4['Elo_Fav_Odds'])>1.6)&((elo_data_4['Elo_Fav_Odds'])<1.7)]\n",
    "len(elo_data_4[elo_data_4['Winner_Elo']=='Elo_Fav'])/len(elo_data_4)"
   ]
  },
  {
   "cell_type": "code",
   "execution_count": 375,
   "metadata": {},
   "outputs": [
    {
     "data": {
      "text/html": [
       "<div>\n",
       "<style scoped>\n",
       "    .dataframe tbody tr th:only-of-type {\n",
       "        vertical-align: middle;\n",
       "    }\n",
       "\n",
       "    .dataframe tbody tr th {\n",
       "        vertical-align: top;\n",
       "    }\n",
       "\n",
       "    .dataframe thead th {\n",
       "        text-align: right;\n",
       "    }\n",
       "</style>\n",
       "<table border=\"1\" class=\"dataframe\">\n",
       "  <thead>\n",
       "    <tr style=\"text-align: right;\">\n",
       "      <th></th>\n",
       "      <th>Date</th>\n",
       "      <th>Sex</th>\n",
       "      <th>Tournament</th>\n",
       "      <th>Player_1</th>\n",
       "      <th>Player_2</th>\n",
       "      <th>Player_1_Odds</th>\n",
       "      <th>Player_2_Odds</th>\n",
       "      <th>Surface</th>\n",
       "      <th>Winner_Games</th>\n",
       "      <th>Loser_Games</th>\n",
       "      <th>w1</th>\n",
       "      <th>w2</th>\n",
       "      <th>w3</th>\n",
       "      <th>w4</th>\n",
       "      <th>w5</th>\n",
       "      <th>l1</th>\n",
       "      <th>l2</th>\n",
       "      <th>l3</th>\n",
       "      <th>l4</th>\n",
       "      <th>l5</th>\n",
       "    </tr>\n",
       "  </thead>\n",
       "  <tbody>\n",
       "    <tr>\n",
       "      <th>23930</th>\n",
       "      <td>2021-03-05</td>\n",
       "      <td>Womens</td>\n",
       "      <td>UK Pro Series101</td>\n",
       "      <td>Beth Grey Sarah</td>\n",
       "      <td>Kylie Bilchev</td>\n",
       "      <td>1.42</td>\n",
       "      <td>2.50</td>\n",
       "      <td>Hard</td>\n",
       "      <td>2</td>\n",
       "      <td>1</td>\n",
       "      <td>3</td>\n",
       "      <td>6</td>\n",
       "      <td>10</td>\n",
       "      <td></td>\n",
       "      <td></td>\n",
       "      <td>6</td>\n",
       "      <td>3</td>\n",
       "      <td>8</td>\n",
       "      <td></td>\n",
       "      <td></td>\n",
       "    </tr>\n",
       "    <tr>\n",
       "      <th>23931</th>\n",
       "      <td>2021-03-05</td>\n",
       "      <td>Womens</td>\n",
       "      <td>UK Pro Series101</td>\n",
       "      <td>Emily Appleton</td>\n",
       "      <td>Alice Gillan</td>\n",
       "      <td>1.08</td>\n",
       "      <td>6.50</td>\n",
       "      <td>Hard</td>\n",
       "      <td>2</td>\n",
       "      <td>0</td>\n",
       "      <td>6</td>\n",
       "      <td>6</td>\n",
       "      <td></td>\n",
       "      <td></td>\n",
       "      <td></td>\n",
       "      <td>3</td>\n",
       "      <td>3</td>\n",
       "      <td></td>\n",
       "      <td></td>\n",
       "      <td></td>\n",
       "    </tr>\n",
       "    <tr>\n",
       "      <th>23932</th>\n",
       "      <td>2021-03-05</td>\n",
       "      <td>Womens</td>\n",
       "      <td>UK Pro Series101</td>\n",
       "      <td>Eliz Maloney</td>\n",
       "      <td>Danielle Daley</td>\n",
       "      <td>1.06</td>\n",
       "      <td>7.40</td>\n",
       "      <td>Hard</td>\n",
       "      <td>2</td>\n",
       "      <td>0</td>\n",
       "      <td>6</td>\n",
       "      <td>6</td>\n",
       "      <td></td>\n",
       "      <td></td>\n",
       "      <td></td>\n",
       "      <td>3</td>\n",
       "      <td>3</td>\n",
       "      <td></td>\n",
       "      <td></td>\n",
       "      <td></td>\n",
       "    </tr>\n",
       "    <tr>\n",
       "      <th>23933</th>\n",
       "      <td>2021-03-05</td>\n",
       "      <td>Womens</td>\n",
       "      <td>UK Pro Series101</td>\n",
       "      <td>Alicia Barnett</td>\n",
       "      <td>Olivia Nicholls</td>\n",
       "      <td>1.32</td>\n",
       "      <td>3.13</td>\n",
       "      <td>Hard</td>\n",
       "      <td>2</td>\n",
       "      <td>0</td>\n",
       "      <td>6</td>\n",
       "      <td>6</td>\n",
       "      <td></td>\n",
       "      <td></td>\n",
       "      <td></td>\n",
       "      <td>4</td>\n",
       "      <td>1</td>\n",
       "      <td></td>\n",
       "      <td></td>\n",
       "      <td></td>\n",
       "    </tr>\n",
       "    <tr>\n",
       "      <th>23934</th>\n",
       "      <td>2021-03-05</td>\n",
       "      <td>Womens</td>\n",
       "      <td>UK Pro Series101</td>\n",
       "      <td>Freya Christie</td>\n",
       "      <td>Tanysha Dissanayake</td>\n",
       "      <td>1.22</td>\n",
       "      <td>3.85</td>\n",
       "      <td>Hard</td>\n",
       "      <td>2</td>\n",
       "      <td>0</td>\n",
       "      <td>6</td>\n",
       "      <td>6</td>\n",
       "      <td></td>\n",
       "      <td></td>\n",
       "      <td></td>\n",
       "      <td>1</td>\n",
       "      <td>0</td>\n",
       "      <td></td>\n",
       "      <td></td>\n",
       "      <td></td>\n",
       "    </tr>\n",
       "  </tbody>\n",
       "</table>\n",
       "</div>"
      ],
      "text/plain": [
       "             Date     Sex        Tournament         Player_1  \\\n",
       "23930  2021-03-05  Womens  UK Pro Series101  Beth Grey Sarah   \n",
       "23931  2021-03-05  Womens  UK Pro Series101   Emily Appleton   \n",
       "23932  2021-03-05  Womens  UK Pro Series101     Eliz Maloney   \n",
       "23933  2021-03-05  Womens  UK Pro Series101   Alicia Barnett   \n",
       "23934  2021-03-05  Womens  UK Pro Series101   Freya Christie   \n",
       "\n",
       "                  Player_2 Player_1_Odds Player_2_Odds Surface Winner_Games  \\\n",
       "23930        Kylie Bilchev          1.42          2.50    Hard            2   \n",
       "23931         Alice Gillan          1.08          6.50    Hard            2   \n",
       "23932       Danielle Daley          1.06          7.40    Hard            2   \n",
       "23933      Olivia Nicholls          1.32          3.13    Hard            2   \n",
       "23934  Tanysha Dissanayake          1.22          3.85    Hard            2   \n",
       "\n",
       "      Loser_Games w1 w2  w3 w4 w5 l1 l2 l3 l4 l5  \n",
       "23930           1  3  6  10        6  3  8        \n",
       "23931           0  6  6            3  3           \n",
       "23932           0  6  6            3  3           \n",
       "23933           0  6  6            4  1           \n",
       "23934           0  6  6            1  0           "
      ]
     },
     "execution_count": 375,
     "metadata": {},
     "output_type": "execute_result"
    }
   ],
   "source": [
    "pd.read_sql_query(\"Select * FROM AllMatches_CWTemp\",con=devengine).tail()"
   ]
  }
 ],
 "metadata": {
  "kernelspec": {
   "display_name": "Python 3.9.5 64-bit",
   "language": "python",
   "name": "python3"
  },
  "language_info": {
   "codemirror_mode": {
    "name": "ipython",
    "version": 3
   },
   "file_extension": ".py",
   "mimetype": "text/x-python",
   "name": "python",
   "nbconvert_exporter": "python",
   "pygments_lexer": "ipython3",
   "version": "3.9.5"
  },
  "orig_nbformat": 4,
  "vscode": {
   "interpreter": {
    "hash": "9e3bfd5707cea17bcbe380e30b983be31a9c4e73ed42697506103186bbe325e5"
   }
  }
 },
 "nbformat": 4,
 "nbformat_minor": 2
}
