{
 "cells": [
  {
   "cell_type": "code",
   "execution_count": 112,
   "metadata": {},
   "outputs": [],
   "source": [
    "from sqlalchemy import create_engine\n",
    "import pandas as pd\n",
    "import numpy as np\n",
    "import datetime\n",
    "devengine = create_engine(\"sqlite:///C:/Git/tennis_atp/database/bets_sqllite.db\")\n",
    "time_now = datetime.datetime.now()\n",
    "time_now_formatted = time_now.strftime(\"%Y-%m-%d\")"
   ]
  },
  {
   "cell_type": "code",
   "execution_count": 113,
   "metadata": {},
   "outputs": [],
   "source": [
    "elo_hard=pd.read_sql_query(\n",
    "    f\"Select DISTINCT * From Elo_AllMatches_Hard where Date > '2021-01-01' and Date not like '{time_now_formatted}'\",\n",
    "    con=devengine,)\n",
    "\n",
    "elo_clay=pd.read_sql_query(\n",
    "    f\"Select DISTINCT * From Elo_AllMatches_Clay where Date > '2021-01-01' and Date not like '{time_now_formatted}'\",\n",
    "    con=devengine,)\n"
   ]
  },
  {
   "cell_type": "markdown",
   "metadata": {},
   "source": []
  },
  {
   "cell_type": "code",
   "execution_count": 114,
   "metadata": {},
   "outputs": [],
   "source": [
    "elo_data_hard =pd.read_sql_query(\n",
    "    f\"Select DISTINCT * From Elo_AllMatches_Hard where Date like '{time_now_formatted}' and resulted like 'False' --and Elo_Fav_Odds>1.19 --and Winner_Rank BETWEEN 1 AND 200 --and Winner_Rank<1000\",\n",
    "    con=devengine,)\n",
    "\n",
    "\n",
    "elo_data_clay =pd.read_sql_query(\n",
    "    f\"Select DISTINCT * From Elo_AllMatches_Clay where Date like '{time_now_formatted}' and resulted like 'False' --and Elo_Fav_Odds>1.19\",\n",
    "    con=devengine,)"
   ]
  },
  {
   "cell_type": "code",
   "execution_count": 115,
   "metadata": {},
   "outputs": [],
   "source": [
    "def get_player_record(player,opponent_rank,history,time,opponent,rank):\n",
    "    player_history_top50=pd.DataFrame()\n",
    "    player_history_top100=pd.DataFrame()\n",
    "    player_history=pd.DataFrame()\n",
    "    if opponent_rank<50:\n",
    "        player_history_top50=history[(((history['Fav']==player)&(history['Dog_Rank']<50))|((history['Dog']==player)&(history['Fav_Rank']<50)))]\n",
    "        #if player_history_top50.empty==False and (len(player_history_top50[player_history_top50['Winner']==player])/len(player_history_top50))  > 0.5:\n",
    "            \n",
    "            #print(time,player,\"Top50\",len(player_history_top50))\n",
    "            #print(len(player_history_top50[player_history_top50['Winner']==player])/len(player_history_top50))        \n",
    "    if opponent_rank<100:\n",
    "        player_history_top100=history[(((history['Fav']==player)&(history['Dog_Rank']<100))|((history['Dog']==player)&(history['Fav_Rank']<100)))]\n",
    "        #if player_history_top100.empty==False and (len(player_history_top100[player_history_top100['Winner']==player])/len(player_history_top100))   > 0.5:     \n",
    "        #    print(time,player,\"Top100\",len(player_history_top100))\n",
    "        #    print(len(player_history_top100[player_history_top100['Winner']==player])/len(player_history_top100))   \n",
    "            \n",
    "    else:\n",
    "        opponent_rank_low=opponent_rank-50\n",
    "        opponent_rank_high=opponent_rank+50\n",
    "        player_history=history[((history['Fav']==player)&((history['Dog_Rank']>opponent_rank_low)&(history['Dog_Rank']<opponent_rank_high)))|\n",
    "        ((history['Dog']==player)&((history['Fav_Rank']>opponent_rank_low)&(history['Fav_Rank']<opponent_rank_high)))]\n",
    "        #if player_history.empty==False:\n",
    "        #    if (len(player_history[player_history['Winner']==player])/len(player_history)) > 0.5 and len(player_history) >5:\n",
    "        #        print(time,player,opponent_rank_low,opponent_rank_high,len(player_history))\n",
    "        #        print(len(player_history[player_history['Winner']==player])/len(player_history))       \n",
    "    \n",
    "    return player_history,player_history_top100,player_history\n",
    "\n",
    "\n"
   ]
  },
  {
   "cell_type": "code",
   "execution_count": 116,
   "metadata": {},
   "outputs": [],
   "source": [
    "def get_player_record(player, opponent_rank, history, range_low,range_high,auto):\n",
    "    if auto:\n",
    "        opponent_rank_low = opponent_rank - range_low\n",
    "        opponent_rank_high = opponent_rank + range_high\n",
    "    else:\n",
    "        opponent_rank_low = range_low\n",
    "        opponent_rank_high = range_high\n",
    "\n",
    "    player_history = history[\n",
    "        (\n",
    "            (history[\"Fav\"] == player)\n",
    "            & (\n",
    "                (history[\"Dog_Rank\"] > opponent_rank_low)\n",
    "                & (history[\"Dog_Rank\"] < opponent_rank_high)\n",
    "            )\n",
    "        )\n",
    "        | (\n",
    "            (history[\"Dog\"] == player)\n",
    "            & (\n",
    "                (history[\"Fav_Rank\"] > opponent_rank_low)\n",
    "                & (history[\"Fav_Rank\"] < opponent_rank_high)\n",
    "            )\n",
    "        )\n",
    "    ]\n",
    "    if player_history.empty == False:\n",
    "        result = float(\n",
    "            len(player_history[player_history[\"Winner\"] == player])\n",
    "            / len(player_history)\n",
    "        )\n",
    "        return result, len(player_history)\n",
    "    else:\n",
    "        return 0, 0\n"
   ]
  },
  {
   "cell_type": "code",
   "execution_count": 117,
   "metadata": {},
   "outputs": [],
   "source": [
    "result_df=pd.DataFrame()\n",
    "for _,row in elo_data_hard.sort_values(by='Time').iterrows():\n",
    "    low_limit=50\n",
    "    high_limit=50\n",
    "\n",
    "    percent,games=get_player_record(row.Fav,row.Dog_Rank,elo_hard,low_limit,high_limit,True)\n",
    "    count=0\n",
    "    while games <10 and count<200:\n",
    "        count=count+1\n",
    "        low_limit=low_limit+10\n",
    "        high_limit=high_limit+10\n",
    "        percent,games=get_player_record(row.Fav,row.Dog_Rank,elo_hard,low_limit,high_limit,True)\n",
    "\n",
    "    low_limit=50\n",
    "    high_limit=50\n",
    "    percent2,games2=get_player_record(row.Dog,row.Fav_Rank,elo_hard,low_limit,high_limit,True)\n",
    "    count=0\n",
    "    while games2 <5 and count<200:\n",
    "        count=count+1\n",
    "        low_limit=low_limit+10\n",
    "        high_limit=high_limit+10\n",
    "        percent2,games2=get_player_record(row.Dog,row.Fav_Rank,elo_hard,low_limit,high_limit,True)       \n",
    "        \n",
    "    if True and games > 4 and games2 > 4:# and (((percent >= 0.5)&((percent2 < 0.5))) | ((percent2 >= 0.5)&((percent < 0.5)))):\n",
    "        # if  (percent2 < 5)| (percent < 5):\n",
    "        temp_df = pd.DataFrame(\n",
    "            {   \"Time\":[row.Time],\n",
    "                \"Fav_Odds\":[row.Fav_Odds],\n",
    "                \"Dog_Odds\":[row.Dog_Odds],\n",
    "                \"Fav\": [row.Fav],\n",
    "                \"Elo_Fav\": [row.Elo_Fav],\n",
    "                \"Fav_Record\": [\"{:.0%}\".format(percent)],\n",
    "                \"Fav_Games\": [games],\n",
    "                \"Dog\": [row.Dog],\n",
    "                \"Dog_Odds\":[row.Dog_Odds],\n",
    "                \"Dog_Record\": [\"{:.0%}\".format(percent2)],\n",
    "                \"Dog_Games\": [games2],\n",
    "                \"percent\": [percent],\n",
    "                \"percent2\": [percent2],\n",
    "                \"Sex\":[row.Sex]\n",
    "            }\n",
    "        )\n",
    "\n",
    "        result_df=pd.concat([result_df,temp_df])\n",
    "        #print(row.Time, row.Fav, row.Fav_Odds, row.Dog, row.Dog_Odds)\n",
    "        #print(\n",
    "        #    \"{:.0%}\".format(percent),\n",
    "        #    f\"({games} Games)\",\n",
    "        #    \"{:.0%}\".format(percent2),\n",
    "        #    f\"({games2} Games)\",\n",
    "        #)\n",
    "#result_df      \n"
   ]
  },
  {
   "cell_type": "code",
   "execution_count": 118,
   "metadata": {},
   "outputs": [],
   "source": [
    "serving=pd.read_excel('servers_today.xlsx')\n",
    "serving_womens=pd.read_excel('servers_today_womens.xlsx')\n",
    "if serving_womens.empty==False:\n",
    "    serving=pd.concat([serving,serving_womens])\n",
    "else:\n",
    "    serving = serving\n",
    "serving=serving.drop(columns='Time')\n",
    "result=pd.merge(result_df,serving,how='left',left_on=['Fav','Dog'],right_on=['Fav','Dog'])#.to_clipboard(index=False)\n",
    "result_hard=result#[((result['percent']>0.5))|((result['percent2']>0.5))].copy()"
   ]
  },
  {
   "cell_type": "code",
   "execution_count": 119,
   "metadata": {},
   "outputs": [
    {
     "data": {
      "text/html": [
       "<div>\n",
       "<style scoped>\n",
       "    .dataframe tbody tr th:only-of-type {\n",
       "        vertical-align: middle;\n",
       "    }\n",
       "\n",
       "    .dataframe tbody tr th {\n",
       "        vertical-align: top;\n",
       "    }\n",
       "\n",
       "    .dataframe thead th {\n",
       "        text-align: right;\n",
       "    }\n",
       "</style>\n",
       "<table border=\"1\" class=\"dataframe\">\n",
       "  <thead>\n",
       "    <tr style=\"text-align: right;\">\n",
       "      <th></th>\n",
       "    </tr>\n",
       "  </thead>\n",
       "  <tbody>\n",
       "  </tbody>\n",
       "</table>\n",
       "</div>"
      ],
      "text/plain": [
       "Empty DataFrame\n",
       "Columns: []\n",
       "Index: []"
      ]
     },
     "execution_count": 119,
     "metadata": {},
     "output_type": "execute_result"
    }
   ],
   "source": [
    "result_df=pd.DataFrame()\n",
    "for _,row in elo_data_clay.sort_values(by='Time').iterrows():\n",
    "    low_limit=50\n",
    "    high_limit=50\n",
    "\n",
    "    percent,games=get_player_record(row.Fav,row.Dog_Rank,elo_clay,low_limit,high_limit,True)\n",
    "    count=0\n",
    "    while games <10 and count<200:\n",
    "        count=count+1\n",
    "        low_limit=low_limit+10\n",
    "        high_limit=high_limit+10\n",
    "        percent,games=get_player_record(row.Fav,row.Dog_Rank,elo_clay,low_limit,high_limit,True)\n",
    "\n",
    "    low_limit=50\n",
    "    high_limit=50\n",
    "    percent2,games2=get_player_record(row.Dog,row.Fav_Rank,elo_clay,low_limit,high_limit,True)\n",
    "    count=0\n",
    "    while games2 <5 and count<200:\n",
    "        count=count+1\n",
    "        low_limit=low_limit+10\n",
    "        high_limit=high_limit+10\n",
    "        percent2,games2=get_player_record(row.Dog,row.Fav_Rank,elo_clay,low_limit,high_limit,True)       \n",
    "        \n",
    "    if True and games > 4 and games2 > 4:# and (((percent >= 0.5)&((percent2 < 0.5))) | ((percent2 >= 0.5)&((percent < 0.5)))):\n",
    "        # if  (percent2 < 5)| (percent < 5):\n",
    "        temp_df = pd.DataFrame(\n",
    "            {   \"Time\":[row.Time],\n",
    "                \"Fav_Odds\":[row.Fav_Odds],\n",
    "                \"Dog_Odds\":[row.Dog_Odds],\n",
    "                \"Fav\": [row.Fav],\n",
    "                \"Fav_Record\": [\"{:.0%}\".format(percent)],\n",
    "                \"Fav_Games\": [games],\n",
    "                \"Dog\": [row.Dog],\n",
    "                \"Dog_Record\": [\"{:.0%}\".format(percent2)],\n",
    "                \"Dog_Games\": [games2],\"Sex\":[row.Sex]\n",
    "            }\n",
    "        )\n",
    "\n",
    "        result_df=pd.concat([result_df,temp_df])\n",
    "        #print(row.Time, row.Fav, row.Fav_Odds, row.Dog, row.Dog_Odds)\n",
    "        #print(\n",
    "        #    \"{:.0%}\".format(percent),\n",
    "        #    f\"({games} Games)\",\n",
    "        #    \"{:.0%}\".format(percent2),\n",
    "        #    f\"({games2} Games)\",\n",
    "        #)\n",
    "result_df      \n"
   ]
  },
  {
   "cell_type": "code",
   "execution_count": 120,
   "metadata": {},
   "outputs": [],
   "source": [
    "serving=pd.read_excel('servers_today.xlsx')\n",
    "serving_womens=pd.read_excel('servers_today_womens.xlsx')\n",
    "serving=pd.concat([serving,serving_womens])\n",
    "serving=serving.drop(columns='Time')\n",
    "if result_df.empty==False:\n",
    "    result=pd.merge(result_df,serving,how='left',left_on=['Fav','Dog'],right_on=['Fav','Dog'])#.to_clipboard(index=False)\n",
    "    result[(result['Fav_Serve%']>69)|(result['Dog_Serve%']>69)]\n",
    "    clay=result\n",
    "else:\n",
    "    clay2=result_df\n",
    "    clay2"
   ]
  },
  {
   "cell_type": "code",
   "execution_count": 121,
   "metadata": {},
   "outputs": [],
   "source": [
    "elo_hard=pd.read_sql_query(\n",
    "    f\"Select DISTINCT * From Elo_AllMatches_Hard where Date > '2022-01-01' and Date not like '{time_now_formatted}' --and Fav_odds>1.2 and Fav_odds<1.4 \",\n",
    "    con=devengine,)\n",
    "winner_dataset=elo_hard[['Date','Winner','Winner_Odds']].copy()\n",
    "winner_dataset['Player']=winner_dataset['Winner']\n",
    "winner_dataset['Odds']=winner_dataset['Winner_Odds']\n",
    "winner_dataset['Win/Loss']='Win'\n",
    "loser_dataset=elo_hard[['Date','Loser','Loser_Odds']].copy()\n",
    "loser_dataset['Player']=loser_dataset['Loser']\n",
    "loser_dataset['Odds']=loser_dataset['Loser_Odds']\n",
    "loser_dataset['Win/Loss']='Loss'\n",
    "winner_dataset.drop(columns=['Winner','Winner_Odds'],inplace=True)\n",
    "loser_dataset.drop(columns=['Loser','Loser_Odds'],inplace=True)\n",
    "data_concat=pd.concat([winner_dataset,loser_dataset])\n",
    "data_concat=data_concat.sort_index()\n",
    "data_concat['Odds']=data_concat.Odds.astype(float)"
   ]
  },
  {
   "cell_type": "code",
   "execution_count": 122,
   "metadata": {},
   "outputs": [
    {
     "name": "stdout",
     "output_type": "stream",
     "text": [
      "09:30 James Duckworth (1-->1.23) Jake Delaney (2-->11.65)\n",
      "8 0.625 5 0.4\n",
      "11:00 Rinky Hijikata (1-->1.41) Blake Ellis (2-->4.66)\n",
      "19 0.7894736842105263 5 0.4\n",
      "17:00 Marta Kostyuk (1-->1.5) Nao Hibino (2-->4.05)\n",
      "18 0.8888888888888888 15 0.26666666666666666\n",
      "18:30 Tatiana Maria (1-->1.81) Dayana Yastremska (2-->2.8)\n",
      "10 0.7 7 0.14285714285714285\n",
      "21:00 Matteo Arnaldi (1-->1.55) Shintaro Mochizuki (2-->3.54)\n",
      "8 0.75 17 0.35294117647058826\n",
      "22:00 Roman Safiullin (1-->1.41) Antoine Escoffier (2-->4.52)\n",
      "25 0.64 29 0.2413793103448276\n",
      "22:30 Anastasia Potapova (1-->1.68) Clara Burel (2-->3.14)\n",
      "25 0.6 8 0.75\n"
     ]
    }
   ],
   "source": [
    "for _,matchup in result_hard.iterrows():\n",
    "    player1=matchup.Fav\n",
    "    player2=matchup.Dog\n",
    "    player1_odds=float(matchup.Fav_Odds)\n",
    "    player1_odds_hi=player1_odds+0.2\n",
    "    player1_odds_lo=1\n",
    "    player2_odds=float(matchup.Dog_Odds)\n",
    "    player2_odds_hi=player2_odds+0.5\n",
    "    player2_odds_lo=2\n",
    "    player1=data_concat[data_concat['Player']==player1].copy()\n",
    "    #player1['Streak'] = player1['Win/Loss'].groupby((player1['Win/Loss'] != player1['Win/Loss'].shift()).cumsum()).cumcount() + 1\n",
    "    #player1['Streak']=player1.apply(lambda x: 'W'+str(x['Streak']) if x['Win/Loss']=='Win' else 'L'+str(x['Streak']),axis=1)\n",
    "    #player1[player1['Odds']<1.4].tail(20)\n",
    "    player2=data_concat[data_concat['Player']==player2].copy()\n",
    "    #player2['Streak'] = player2['Win/Loss'].groupby((player2['Win/Loss'] != player2['Win/Loss'].shift()).cumsum()).cumcount() + 1\n",
    "    #player2['Streak']=player2.apply(lambda x: 'W'+str(x['Streak']) if x['Win/Loss']=='Win' else 'L'+str(x['Streak']),axis=1)\n",
    "    #player2[player2['Odds']>2.5].tail(20)\n",
    "    player2=player2[(player2['Odds']>player2_odds_lo)&(player2['Odds']<player2_odds_hi)]\n",
    "    if len(player2)>0:\n",
    "        winperc2=len(player2[player2['Win/Loss']=='Win'])/len(player2)\n",
    "    else:\n",
    "        winperc2=0\n",
    "    player1=player1[(player1['Odds']>player1_odds_lo)&(player1['Odds']<player1_odds_hi)]\n",
    "    if len(player1)>0:\n",
    "        winperc1=len(player1[player1['Win/Loss']=='Win'])/len(player1)\n",
    "    else:\n",
    "        winperc1=0\n",
    "    if len(player1)>5 and len(player2)>3:\n",
    "        print(matchup.Time,f\"{matchup.Fav} ({round(player1_odds_lo,2)}-->{round(player1_odds_hi,2)})\",f\"{matchup.Dog} ({round(player2_odds_lo,2)}-->{round(player2_odds_hi,2)})\")\n",
    "        #print(,matchup.Dog)\n",
    "        print(len(player1),winperc1,len(player2),winperc2)"
   ]
  },
  {
   "cell_type": "code",
   "execution_count": 123,
   "metadata": {},
   "outputs": [
    {
     "data": {
      "text/html": [
       "<div>\n",
       "<style scoped>\n",
       "    .dataframe tbody tr th:only-of-type {\n",
       "        vertical-align: middle;\n",
       "    }\n",
       "\n",
       "    .dataframe tbody tr th {\n",
       "        vertical-align: top;\n",
       "    }\n",
       "\n",
       "    .dataframe thead th {\n",
       "        text-align: right;\n",
       "    }\n",
       "</style>\n",
       "<table border=\"1\" class=\"dataframe\">\n",
       "  <thead>\n",
       "    <tr style=\"text-align: right;\">\n",
       "      <th></th>\n",
       "      <th>Time</th>\n",
       "      <th>Fav_Odds</th>\n",
       "      <th>Dog_Odds</th>\n",
       "      <th>Fav</th>\n",
       "      <th>Elo_Fav</th>\n",
       "      <th>Fav_Record</th>\n",
       "      <th>Fav_Games</th>\n",
       "      <th>Dog</th>\n",
       "      <th>Dog_Record</th>\n",
       "      <th>Dog_Games</th>\n",
       "      <th>percent</th>\n",
       "      <th>percent2</th>\n",
       "      <th>Sex</th>\n",
       "      <th>Fav_Serve%</th>\n",
       "      <th>Dog_Return%</th>\n",
       "      <th>Dog_Serve%</th>\n",
       "      <th>Fav_Return%</th>\n",
       "    </tr>\n",
       "  </thead>\n",
       "  <tbody>\n",
       "  </tbody>\n",
       "</table>\n",
       "</div>"
      ],
      "text/plain": [
       "Empty DataFrame\n",
       "Columns: [Time, Fav_Odds, Dog_Odds, Fav, Elo_Fav, Fav_Record, Fav_Games, Dog, Dog_Record, Dog_Games, percent, percent2, Sex, Fav_Serve%, Dog_Return%, Dog_Serve%, Fav_Return%]\n",
       "Index: []"
      ]
     },
     "execution_count": 123,
     "metadata": {},
     "output_type": "execute_result"
    }
   ],
   "source": [
    "#result_hard[result_hard['percent2']>0.5]\n",
    "result_hard['Fav_Odds']=result_hard['Fav_Odds'].astype(float)\n",
    "result_hard[((result_hard['Fav_Serve%']>75)|(result_hard['Dog_Serve%']>75))&(result_hard['percent2']<0.5)]\n",
    "result_hard[(result_hard['percent2']>0.6)&(result_hard['percent']<0.4)&(result_hard['Fav_Odds']<1.8)]\n",
    "#result_hard.to_clipboard(index=False)"
   ]
  },
  {
   "cell_type": "code",
   "execution_count": 124,
   "metadata": {},
   "outputs": [
    {
     "data": {
      "text/html": [
       "<div>\n",
       "<style scoped>\n",
       "    .dataframe tbody tr th:only-of-type {\n",
       "        vertical-align: middle;\n",
       "    }\n",
       "\n",
       "    .dataframe tbody tr th {\n",
       "        vertical-align: top;\n",
       "    }\n",
       "\n",
       "    .dataframe thead th {\n",
       "        text-align: right;\n",
       "    }\n",
       "</style>\n",
       "<table border=\"1\" class=\"dataframe\">\n",
       "  <thead>\n",
       "    <tr style=\"text-align: right;\">\n",
       "      <th></th>\n",
       "      <th>Time</th>\n",
       "      <th>Fav_Odds</th>\n",
       "      <th>Dog_Odds</th>\n",
       "      <th>Fav</th>\n",
       "      <th>Elo_Fav</th>\n",
       "      <th>Fav_Record</th>\n",
       "      <th>Fav_Games</th>\n",
       "      <th>Dog</th>\n",
       "      <th>Dog_Record</th>\n",
       "      <th>Dog_Games</th>\n",
       "      <th>percent</th>\n",
       "      <th>percent2</th>\n",
       "      <th>Sex</th>\n",
       "      <th>Fav_Serve%</th>\n",
       "      <th>Dog_Return%</th>\n",
       "      <th>Dog_Serve%</th>\n",
       "      <th>Fav_Return%</th>\n",
       "    </tr>\n",
       "  </thead>\n",
       "  <tbody>\n",
       "  </tbody>\n",
       "</table>\n",
       "</div>"
      ],
      "text/plain": [
       "Empty DataFrame\n",
       "Columns: [Time, Fav_Odds, Dog_Odds, Fav, Elo_Fav, Fav_Record, Fav_Games, Dog, Dog_Record, Dog_Games, percent, percent2, Sex, Fav_Serve%, Dog_Return%, Dog_Serve%, Fav_Return%]\n",
       "Index: []"
      ]
     },
     "execution_count": 124,
     "metadata": {},
     "output_type": "execute_result"
    }
   ],
   "source": [
    "#Dog\n",
    "result_hard[(result_hard['percent2']>0)&(result_hard['percent2']>0.5)&(result_hard['percent']>0.2)&(result_hard['percent']<0.3) & (result_hard['Sex']=='Mens')]"
   ]
  },
  {
   "cell_type": "code",
   "execution_count": 125,
   "metadata": {},
   "outputs": [
    {
     "data": {
      "text/html": [
       "<div>\n",
       "<style scoped>\n",
       "    .dataframe tbody tr th:only-of-type {\n",
       "        vertical-align: middle;\n",
       "    }\n",
       "\n",
       "    .dataframe tbody tr th {\n",
       "        vertical-align: top;\n",
       "    }\n",
       "\n",
       "    .dataframe thead th {\n",
       "        text-align: right;\n",
       "    }\n",
       "</style>\n",
       "<table border=\"1\" class=\"dataframe\">\n",
       "  <thead>\n",
       "    <tr style=\"text-align: right;\">\n",
       "      <th></th>\n",
       "      <th>Time</th>\n",
       "      <th>Fav_Odds</th>\n",
       "      <th>Dog_Odds</th>\n",
       "      <th>Fav</th>\n",
       "      <th>Elo_Fav</th>\n",
       "      <th>Fav_Record</th>\n",
       "      <th>Fav_Games</th>\n",
       "      <th>Dog</th>\n",
       "      <th>Dog_Record</th>\n",
       "      <th>Dog_Games</th>\n",
       "      <th>percent</th>\n",
       "      <th>percent2</th>\n",
       "      <th>Sex</th>\n",
       "      <th>Fav_Serve%</th>\n",
       "      <th>Dog_Return%</th>\n",
       "      <th>Dog_Serve%</th>\n",
       "      <th>Fav_Return%</th>\n",
       "    </tr>\n",
       "  </thead>\n",
       "  <tbody>\n",
       "  </tbody>\n",
       "</table>\n",
       "</div>"
      ],
      "text/plain": [
       "Empty DataFrame\n",
       "Columns: [Time, Fav_Odds, Dog_Odds, Fav, Elo_Fav, Fav_Record, Fav_Games, Dog, Dog_Record, Dog_Games, percent, percent2, Sex, Fav_Serve%, Dog_Return%, Dog_Serve%, Fav_Return%]\n",
       "Index: []"
      ]
     },
     "execution_count": 125,
     "metadata": {},
     "output_type": "execute_result"
    }
   ],
   "source": [
    "#Fav Pickem\n",
    "result_hard[(result_hard['Fav_Odds']>1.8)& (result_hard['Sex']=='Mens')]"
   ]
  },
  {
   "cell_type": "code",
   "execution_count": 126,
   "metadata": {},
   "outputs": [
    {
     "data": {
      "text/html": [
       "<div>\n",
       "<style scoped>\n",
       "    .dataframe tbody tr th:only-of-type {\n",
       "        vertical-align: middle;\n",
       "    }\n",
       "\n",
       "    .dataframe tbody tr th {\n",
       "        vertical-align: top;\n",
       "    }\n",
       "\n",
       "    .dataframe thead th {\n",
       "        text-align: right;\n",
       "    }\n",
       "</style>\n",
       "<table border=\"1\" class=\"dataframe\">\n",
       "  <thead>\n",
       "    <tr style=\"text-align: right;\">\n",
       "      <th></th>\n",
       "      <th>Time</th>\n",
       "      <th>Fav_Odds</th>\n",
       "      <th>Dog_Odds</th>\n",
       "      <th>Fav</th>\n",
       "      <th>Elo_Fav</th>\n",
       "      <th>Fav_Record</th>\n",
       "      <th>Fav_Games</th>\n",
       "      <th>Dog</th>\n",
       "      <th>Dog_Record</th>\n",
       "      <th>Dog_Games</th>\n",
       "      <th>percent</th>\n",
       "      <th>percent2</th>\n",
       "      <th>Sex</th>\n",
       "      <th>Fav_Serve%</th>\n",
       "      <th>Dog_Return%</th>\n",
       "      <th>Dog_Serve%</th>\n",
       "      <th>Fav_Return%</th>\n",
       "    </tr>\n",
       "  </thead>\n",
       "  <tbody>\n",
       "  </tbody>\n",
       "</table>\n",
       "</div>"
      ],
      "text/plain": [
       "Empty DataFrame\n",
       "Columns: [Time, Fav_Odds, Dog_Odds, Fav, Elo_Fav, Fav_Record, Fav_Games, Dog, Dog_Record, Dog_Games, percent, percent2, Sex, Fav_Serve%, Dog_Return%, Dog_Serve%, Fav_Return%]\n",
       "Index: []"
      ]
     },
     "execution_count": 126,
     "metadata": {},
     "output_type": "execute_result"
    }
   ],
   "source": [
    "#Fav Low Odds\n",
    "result_hard[(result_hard['percent2']>0)&(result_hard['percent2']<0.5)&(result_hard['percent']>0.8)&(result_hard['Fav_Odds']>1.19)&(result_hard['Fav_Odds']<1.3)& (result_hard['Sex']=='Mens')]"
   ]
  },
  {
   "cell_type": "code",
   "execution_count": 127,
   "metadata": {},
   "outputs": [
    {
     "data": {
      "text/html": [
       "<div>\n",
       "<style scoped>\n",
       "    .dataframe tbody tr th:only-of-type {\n",
       "        vertical-align: middle;\n",
       "    }\n",
       "\n",
       "    .dataframe tbody tr th {\n",
       "        vertical-align: top;\n",
       "    }\n",
       "\n",
       "    .dataframe thead th {\n",
       "        text-align: right;\n",
       "    }\n",
       "</style>\n",
       "<table border=\"1\" class=\"dataframe\">\n",
       "  <thead>\n",
       "    <tr style=\"text-align: right;\">\n",
       "      <th></th>\n",
       "      <th>Time</th>\n",
       "      <th>Fav_Odds</th>\n",
       "      <th>Dog_Odds</th>\n",
       "      <th>Fav</th>\n",
       "      <th>Elo_Fav</th>\n",
       "      <th>Fav_Record</th>\n",
       "      <th>Fav_Games</th>\n",
       "      <th>Dog</th>\n",
       "      <th>Dog_Record</th>\n",
       "      <th>Dog_Games</th>\n",
       "      <th>percent</th>\n",
       "      <th>percent2</th>\n",
       "      <th>Sex</th>\n",
       "      <th>Fav_Serve%</th>\n",
       "      <th>Dog_Return%</th>\n",
       "      <th>Dog_Serve%</th>\n",
       "      <th>Fav_Return%</th>\n",
       "    </tr>\n",
       "  </thead>\n",
       "  <tbody>\n",
       "  </tbody>\n",
       "</table>\n",
       "</div>"
      ],
      "text/plain": [
       "Empty DataFrame\n",
       "Columns: [Time, Fav_Odds, Dog_Odds, Fav, Elo_Fav, Fav_Record, Fav_Games, Dog, Dog_Record, Dog_Games, percent, percent2, Sex, Fav_Serve%, Dog_Return%, Dog_Serve%, Fav_Return%]\n",
       "Index: []"
      ]
     },
     "execution_count": 127,
     "metadata": {},
     "output_type": "execute_result"
    }
   ],
   "source": [
    "#Fav Low Odds\n",
    "result_hard[(result_hard['percent2']<0.9)&(result_hard['percent2']>0.5)&(result_hard['percent']>0.8)&(result_hard['Fav_Odds']>1.19)&(result_hard['Fav_Odds']<1.3)& (result_hard['Sex']=='Mens')]"
   ]
  },
  {
   "cell_type": "code",
   "execution_count": 128,
   "metadata": {},
   "outputs": [],
   "source": [
    "for _,i in elo_data_hard.iterrows():\n",
    "    check1=elo_hard[((elo_hard['Winner']==i.Winner)&(elo_hard['Loser']==i.Loser))|((elo_hard['Loser']==i.Winner)&(elo_hard['Winner']==i.Loser))]\n",
    "    if check1.empty==False:\n",
    "        for _, x in check1.iterrows():\n",
    "            print(f\"{x.Winner} beat {x.Loser}\")"
   ]
  },
  {
   "cell_type": "code",
   "execution_count": 129,
   "metadata": {},
   "outputs": [],
   "source": [
    "for _,i in elo_data_clay.iterrows():\n",
    "    check1=elo_clay[((elo_clay['Winner']==i.Winner)&(elo_clay['Loser']==i.Loser))|((elo_clay['Loser']==i.Winner)&(elo_clay['Winner']==i.Loser))]\n",
    "    if check1.empty==False:\n",
    "        for _, x in check1.iterrows():\n",
    "            print(f\"{x.Winner} beat {x.Loser}\")"
   ]
  },
  {
   "cell_type": "code",
   "execution_count": 130,
   "metadata": {},
   "outputs": [
    {
     "data": {
      "text/html": [
       "<div>\n",
       "<style scoped>\n",
       "    .dataframe tbody tr th:only-of-type {\n",
       "        vertical-align: middle;\n",
       "    }\n",
       "\n",
       "    .dataframe tbody tr th {\n",
       "        vertical-align: top;\n",
       "    }\n",
       "\n",
       "    .dataframe thead th {\n",
       "        text-align: right;\n",
       "    }\n",
       "</style>\n",
       "<table border=\"1\" class=\"dataframe\">\n",
       "  <thead>\n",
       "    <tr style=\"text-align: right;\">\n",
       "      <th></th>\n",
       "      <th>Time</th>\n",
       "      <th>Fav_Odds</th>\n",
       "      <th>Dog_Odds</th>\n",
       "      <th>Fav</th>\n",
       "      <th>Elo_Fav</th>\n",
       "      <th>Fav_Record</th>\n",
       "      <th>Fav_Games</th>\n",
       "      <th>Dog</th>\n",
       "      <th>Dog_Record</th>\n",
       "      <th>Dog_Games</th>\n",
       "      <th>percent</th>\n",
       "      <th>percent2</th>\n",
       "      <th>Sex</th>\n",
       "      <th>Fav_Serve%</th>\n",
       "      <th>Dog_Return%</th>\n",
       "      <th>Dog_Serve%</th>\n",
       "      <th>Fav_Return%</th>\n",
       "    </tr>\n",
       "  </thead>\n",
       "  <tbody>\n",
       "  </tbody>\n",
       "</table>\n",
       "</div>"
      ],
      "text/plain": [
       "Empty DataFrame\n",
       "Columns: [Time, Fav_Odds, Dog_Odds, Fav, Elo_Fav, Fav_Record, Fav_Games, Dog, Dog_Record, Dog_Games, percent, percent2, Sex, Fav_Serve%, Dog_Return%, Dog_Serve%, Fav_Return%]\n",
       "Index: []"
      ]
     },
     "execution_count": 130,
     "metadata": {},
     "output_type": "execute_result"
    }
   ],
   "source": [
    "#Women Low Odds Fav\n",
    "result_hard[(result_hard['percent2']>0.2)&(result_hard['percent']<0.7)&(result_hard['Fav_Odds']>1.19)&(result_hard['Fav_Odds']<1.3)&(result_hard['Sex']=='Womens')]"
   ]
  },
  {
   "cell_type": "code",
   "execution_count": 131,
   "metadata": {},
   "outputs": [
    {
     "data": {
      "text/html": [
       "<div>\n",
       "<style scoped>\n",
       "    .dataframe tbody tr th:only-of-type {\n",
       "        vertical-align: middle;\n",
       "    }\n",
       "\n",
       "    .dataframe tbody tr th {\n",
       "        vertical-align: top;\n",
       "    }\n",
       "\n",
       "    .dataframe thead th {\n",
       "        text-align: right;\n",
       "    }\n",
       "</style>\n",
       "<table border=\"1\" class=\"dataframe\">\n",
       "  <thead>\n",
       "    <tr style=\"text-align: right;\">\n",
       "      <th></th>\n",
       "      <th>Time</th>\n",
       "      <th>Fav_Odds</th>\n",
       "      <th>Dog_Odds</th>\n",
       "      <th>Fav</th>\n",
       "      <th>Elo_Fav</th>\n",
       "      <th>Fav_Record</th>\n",
       "      <th>Fav_Games</th>\n",
       "      <th>Dog</th>\n",
       "      <th>Dog_Record</th>\n",
       "      <th>Dog_Games</th>\n",
       "      <th>percent</th>\n",
       "      <th>percent2</th>\n",
       "      <th>Sex</th>\n",
       "      <th>Fav_Serve%</th>\n",
       "      <th>Dog_Return%</th>\n",
       "      <th>Dog_Serve%</th>\n",
       "      <th>Fav_Return%</th>\n",
       "    </tr>\n",
       "  </thead>\n",
       "  <tbody>\n",
       "  </tbody>\n",
       "</table>\n",
       "</div>"
      ],
      "text/plain": [
       "Empty DataFrame\n",
       "Columns: [Time, Fav_Odds, Dog_Odds, Fav, Elo_Fav, Fav_Record, Fav_Games, Dog, Dog_Record, Dog_Games, percent, percent2, Sex, Fav_Serve%, Dog_Return%, Dog_Serve%, Fav_Return%]\n",
       "Index: []"
      ]
     },
     "execution_count": 131,
     "metadata": {},
     "output_type": "execute_result"
    }
   ],
   "source": [
    "#Women Low Odds Fav\n",
    "result_hard[(result_hard['percent2']<0.4)&(result_hard['percent']>0.6)&(result_hard['Fav_Odds']>1.19)&(result_hard['Fav_Odds']<1.3)&(result_hard['Sex']=='Womens')]"
   ]
  },
  {
   "cell_type": "code",
   "execution_count": 132,
   "metadata": {},
   "outputs": [
    {
     "data": {
      "text/html": [
       "<div>\n",
       "<style scoped>\n",
       "    .dataframe tbody tr th:only-of-type {\n",
       "        vertical-align: middle;\n",
       "    }\n",
       "\n",
       "    .dataframe tbody tr th {\n",
       "        vertical-align: top;\n",
       "    }\n",
       "\n",
       "    .dataframe thead th {\n",
       "        text-align: right;\n",
       "    }\n",
       "</style>\n",
       "<table border=\"1\" class=\"dataframe\">\n",
       "  <thead>\n",
       "    <tr style=\"text-align: right;\">\n",
       "      <th></th>\n",
       "      <th>Time</th>\n",
       "      <th>Fav_Odds</th>\n",
       "      <th>Dog_Odds</th>\n",
       "      <th>Fav</th>\n",
       "      <th>Elo_Fav</th>\n",
       "      <th>Fav_Record</th>\n",
       "      <th>Fav_Games</th>\n",
       "      <th>Dog</th>\n",
       "      <th>Dog_Record</th>\n",
       "      <th>Dog_Games</th>\n",
       "      <th>percent</th>\n",
       "      <th>percent2</th>\n",
       "      <th>Sex</th>\n",
       "      <th>Fav_Serve%</th>\n",
       "      <th>Dog_Return%</th>\n",
       "      <th>Dog_Serve%</th>\n",
       "      <th>Fav_Return%</th>\n",
       "    </tr>\n",
       "  </thead>\n",
       "  <tbody>\n",
       "  </tbody>\n",
       "</table>\n",
       "</div>"
      ],
      "text/plain": [
       "Empty DataFrame\n",
       "Columns: [Time, Fav_Odds, Dog_Odds, Fav, Elo_Fav, Fav_Record, Fav_Games, Dog, Dog_Record, Dog_Games, percent, percent2, Sex, Fav_Serve%, Dog_Return%, Dog_Serve%, Fav_Return%]\n",
       "Index: []"
      ]
     },
     "execution_count": 132,
     "metadata": {},
     "output_type": "execute_result"
    }
   ],
   "source": [
    "#Women Dog\n",
    "result_hard[(result_hard['percent2']>0.5)&(result_hard['percent']<0.7)&(result_hard['Sex']=='Womens')]"
   ]
  },
  {
   "cell_type": "code",
   "execution_count": 133,
   "metadata": {},
   "outputs": [
    {
     "data": {
      "text/html": [
       "<div>\n",
       "<style scoped>\n",
       "    .dataframe tbody tr th:only-of-type {\n",
       "        vertical-align: middle;\n",
       "    }\n",
       "\n",
       "    .dataframe tbody tr th {\n",
       "        vertical-align: top;\n",
       "    }\n",
       "\n",
       "    .dataframe thead th {\n",
       "        text-align: right;\n",
       "    }\n",
       "</style>\n",
       "<table border=\"1\" class=\"dataframe\">\n",
       "  <thead>\n",
       "    <tr style=\"text-align: right;\">\n",
       "      <th></th>\n",
       "      <th>Time</th>\n",
       "      <th>Fav_Odds</th>\n",
       "      <th>Dog_Odds</th>\n",
       "      <th>Fav</th>\n",
       "      <th>Elo_Fav</th>\n",
       "      <th>Fav_Record</th>\n",
       "      <th>Fav_Games</th>\n",
       "      <th>Dog</th>\n",
       "      <th>Dog_Record</th>\n",
       "      <th>Dog_Games</th>\n",
       "      <th>percent</th>\n",
       "      <th>percent2</th>\n",
       "      <th>Sex</th>\n",
       "      <th>Fav_Serve%</th>\n",
       "      <th>Dog_Return%</th>\n",
       "      <th>Dog_Serve%</th>\n",
       "      <th>Fav_Return%</th>\n",
       "    </tr>\n",
       "  </thead>\n",
       "  <tbody>\n",
       "  </tbody>\n",
       "</table>\n",
       "</div>"
      ],
      "text/plain": [
       "Empty DataFrame\n",
       "Columns: [Time, Fav_Odds, Dog_Odds, Fav, Elo_Fav, Fav_Record, Fav_Games, Dog, Dog_Record, Dog_Games, percent, percent2, Sex, Fav_Serve%, Dog_Return%, Dog_Serve%, Fav_Return%]\n",
       "Index: []"
      ]
     },
     "execution_count": 133,
     "metadata": {},
     "output_type": "execute_result"
    }
   ],
   "source": [
    "#Women Dog\n",
    "result_hard[(result_hard['percent2']>0.6)&(result_hard['percent']<0.6)&(result_hard['Sex']=='Womens')]"
   ]
  }
 ],
 "metadata": {
  "kernelspec": {
   "display_name": "Python 3",
   "language": "python",
   "name": "python3"
  },
  "language_info": {
   "codemirror_mode": {
    "name": "ipython",
    "version": 3
   },
   "file_extension": ".py",
   "mimetype": "text/x-python",
   "name": "python",
   "nbconvert_exporter": "python",
   "pygments_lexer": "ipython3",
   "version": "3.9.13"
  },
  "orig_nbformat": 4,
  "vscode": {
   "interpreter": {
    "hash": "6fff98fc3b3d81bd655c2cc48858186e4d9e2db7b515bf1c3221888f12a62f87"
   }
  }
 },
 "nbformat": 4,
 "nbformat_minor": 2
}
