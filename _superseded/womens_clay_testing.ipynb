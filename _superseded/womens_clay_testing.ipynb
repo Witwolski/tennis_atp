{
 "cells": [
  {
   "cell_type": "code",
   "execution_count": 201,
   "metadata": {},
   "outputs": [],
   "source": [
    "import pandas as pd\n",
    "from sqlalchemy import create_engine\n",
    "import pandas as pd\n",
    "import numpy as np\n",
    "import datetime\n",
    "devengine = create_engine(\"sqlite:///C:/Git/tennis_atp/database/bets_sqllite.db\")\n",
    "time_now = datetime.datetime.now()\n",
    "time_now_formatted = time_now.strftime(\"%Y-%m-%d\")"
   ]
  },
  {
   "cell_type": "code",
   "execution_count": 202,
   "metadata": {},
   "outputs": [],
   "source": [
    "def calculate_percentage_increase(initial_value, final_value):\n",
    "    percentage_increase = ((final_value - initial_value) / initial_value) * 100\n",
    "    return \"{:.1f}%\".format(percentage_increase)"
   ]
  },
  {
   "cell_type": "code",
   "execution_count": 203,
   "metadata": {},
   "outputs": [],
   "source": [
    "clay_womens=pd.read_sql_query(\n",
    "    f\"Select DISTINCT * From AllMatches where Sex='Womens' and surface = 'Clay'\",con=devengine,)\n",
    "clay_womens[['Player_1_Odds','Player_2_Odds']]=clay_womens[['Player_1_Odds','Player_2_Odds']].astype(float)\n",
    "clay_womens['Fav_Odds']=clay_womens[['Player_1_Odds','Player_2_Odds']].min(axis=1)\n",
    "clay_womens['Dog_Odds']=clay_womens[['Player_1_Odds','Player_2_Odds']].max(axis=1)\n",
    "clay_womens['max_rank']=clay_womens[['Player_1_Rank','Player_2_Rank']].max(axis=1)\n",
    "clay_womens['min_rank']=clay_womens[['Player_1_Rank','Player_2_Rank']].min(axis=1)\n",
    "clay_womens['Winner']=clay_womens.apply(lambda x: 'Dog' if x['Player_1_Odds']>x['Player_2_Odds'] else 'Fav', axis=1)"
   ]
  },
  {
   "cell_type": "code",
   "execution_count": 204,
   "metadata": {},
   "outputs": [
    {
     "name": "stdout",
     "output_type": "stream",
     "text": [
      "-27354.0 -2735.4% 1736\n"
     ]
    }
   ],
   "source": [
    "bankroll=1000\n",
    "STAKE=100\n",
    "clay_womens=clay_womens[(clay_womens['Date'])>'2022-01-01']\n",
    "#clay_womens=clay_womens[((clay_womens['min_rank'])<150)]\n",
    "#clay_womens=clay_womens[((clay_womens['max_rank'])<150)]\n",
    "#clay_womens=clay_womens[(clay_womens['Dog_Odds']).ge(2.1)&(clay_womens['Dog_Odds']).le(2.2)]\n",
    "clay_womens['Win']=clay_womens.apply(lambda x: True if x['Winner']=='Dog' else False, axis=1)\n",
    "clay_womens['Profit']=clay_womens.apply(lambda x: -STAKE if x['Win']==False else (x['Dog_Odds']*STAKE)-STAKE,axis=1)\n",
    "roi=calculate_percentage_increase(bankroll,bankroll+clay_womens['Profit'].sum())\n",
    "print(clay_womens['Profit'].sum(),roi,len(clay_womens))\n"
   ]
  },
  {
   "cell_type": "code",
   "execution_count": 205,
   "metadata": {},
   "outputs": [
    {
     "name": "stdout",
     "output_type": "stream",
     "text": [
      "2.0 2.1 0.5 142\n",
      "338.99999999999966\n",
      "2.6 2.7 0.38202247191011235 89\n",
      "130.0\n",
      "3.1 3.2 0.375 56\n",
      "1010.0\n",
      "3.2 3.3 0.34146341463414637 41\n",
      "449.0\n",
      "3.4 3.5 0.35294117647058826 34\n",
      "738.0\n",
      "3.6 3.7 0.2777777777777778 36\n",
      "34.0\n",
      "3.8 3.9 0.28 25\n",
      "183.0\n"
     ]
    }
   ],
   "source": [
    "for x in range(1,4):\n",
    "    for y in range(0,10):\n",
    "        lower=x+(y*0.1)\n",
    "        upper=x+((y+1)*0.1)\n",
    "        #print(lower,upper)\n",
    "        test1=clay_womens[(clay_womens['Dog_Odds'].ge(lower))&(clay_womens['Dog_Odds'].le(upper))].copy()\n",
    "        games=len(test1)\n",
    "        if games > 0:\n",
    "            percent=len(test1[test1['Winner']!='Fav'])/len(test1)\n",
    "            STAKE=100\n",
    "            test1['Profit']=test1.apply(lambda x: -STAKE if x['Winner']=='Fav' else (STAKE * x['Dog_Odds'])-STAKE,axis=1)\n",
    "            if test1['Profit'].sum() >0 and len(test1) >0:\n",
    "                print(lower,upper,percent,games)\n",
    "                print(test1['Profit'].sum())"
   ]
  }
 ],
 "metadata": {
  "kernelspec": {
   "display_name": "Python 3",
   "language": "python",
   "name": "python3"
  },
  "language_info": {
   "codemirror_mode": {
    "name": "ipython",
    "version": 3
   },
   "file_extension": ".py",
   "mimetype": "text/x-python",
   "name": "python",
   "nbconvert_exporter": "python",
   "pygments_lexer": "ipython3",
   "version": "3.9.5"
  },
  "orig_nbformat": 4
 },
 "nbformat": 4,
 "nbformat_minor": 2
}
