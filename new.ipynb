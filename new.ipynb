{
 "cells": [
  {
   "cell_type": "code",
   "execution_count": 516,
   "metadata": {},
   "outputs": [],
   "source": [
    "from sqlalchemy import create_engine\n",
    "import pandas as pd\n",
    "import numpy as np\n",
    "devengine = create_engine(\"sqlite:///C:/Git/tennis_atp/database/bets_sqllite.db\")"
   ]
  },
  {
   "cell_type": "code",
   "execution_count": 541,
   "metadata": {},
   "outputs": [
    {
     "name": "stdout",
     "output_type": "stream",
     "text": [
      "Wall time: 140 ms\n"
     ]
    }
   ],
   "source": [
    "elo_data = pd.read_sql_query(\n",
    "    \"Select DISTINCT * From Elo_AllMatches\",\n",
    "    con=devengine,)\n"
   ]
  },
  {
   "cell_type": "code",
   "execution_count": 518,
   "metadata": {},
   "outputs": [],
   "source": [
    "elo_data['Elo_Diff']=elo_data['Elo_Fav_Elo']-elo_data['Elo_Dog_Elo']\n",
    "elo_data=elo_data[((elo_data['Elo_Diff']).lt(100))!=True]\n",
    "elo_data['Winner']=elo_data.apply(lambda x: 'Elo_Fav' if x['Elo_Fav']==x['Winner'] else 'Elo_Dog',axis=1)\n",
    "#elo_data['Winner_Odds']=elo_data.apply(lambda x: x['Elo_Fav_Odds'] if x['Elo_Fav']==x['Winner'] else x['Elo_Dog_Odds'],axis=1)\n",
    "#elo_data['Winner_Est_Odds']=elo_data.apply(lambda x: x['Elo_Fav_Est_Odds'] if x['Elo_Fav']==x['Winner'] else x['Elo_Dog_Est_Odds'],axis=1)\n",
    "#elo_data['Winner_Elo']=elo_data.apply(lambda x: x['Elo_Fav_Elo'] if x['Elo_Fav']==x['Winner'] else x['Elo_Dog_Elo'],axis=1)\n",
    "train_data=elo_data[elo_data['Date']<'2022-09-01']\n",
    "test_data=elo_data[elo_data['Date']>='2022-09-01']\n",
    "test_data_resulted=test_data.reset_index()\n",
    "test_data=test_data.drop(columns=['Surface','Date','Sex','Elo_Fav','Elo_Dog'])\n",
    "train_data=train_data.drop(columns=['Surface','Date','Sex','Elo_Fav','Elo_Dog'])\n"
   ]
  },
  {
   "cell_type": "code",
   "execution_count": 519,
   "metadata": {},
   "outputs": [
    {
     "name": "stdout",
     "output_type": "stream",
     "text": [
      "792\n",
      "792\n"
     ]
    }
   ],
   "source": [
    "print(len(test_data))\n",
    "print(len(test_data_resulted))"
   ]
  },
  {
   "cell_type": "code",
   "execution_count": 520,
   "metadata": {},
   "outputs": [],
   "source": [
    "from sklearn.model_selection import train_test_split\n",
    "from sklearn.linear_model import LogisticRegression\n",
    "from sklearn.svm import SVC"
   ]
  },
  {
   "cell_type": "code",
   "execution_count": 521,
   "metadata": {},
   "outputs": [
    {
     "name": "stdout",
     "output_type": "stream",
     "text": [
      "0.7031323048153343 0.7144212523719166\n"
     ]
    }
   ],
   "source": [
    "X = train_data.drop([\"Winner\"], axis=1)\n",
    "y = train_data[\"Winner\"]\n",
    "X_train, X_test, y_train, y_test = train_test_split(X, y, test_size=0.33)\n",
    "model2 = LogisticRegression(max_iter=20000000)\n",
    "#model2 = SVC()\n",
    "model2.fit(X_train, y_train)\n",
    "train_score2 = model2.score(X_train, y_train)\n",
    "test_score2 = model2.score(X_test, y_test)\n",
    "print(train_score2,test_score2)"
   ]
  },
  {
   "cell_type": "code",
   "execution_count": 522,
   "metadata": {},
   "outputs": [
    {
     "data": {
      "text/plain": [
       "array([-0.00952606])"
      ]
     },
     "execution_count": 522,
     "metadata": {},
     "output_type": "execute_result"
    }
   ],
   "source": [
    "model2.intercept_"
   ]
  },
  {
   "cell_type": "code",
   "execution_count": 523,
   "metadata": {},
   "outputs": [],
   "source": [
    "pred2=model2.predict(test_data.drop(columns='Winner',axis=1))"
   ]
  },
  {
   "cell_type": "code",
   "execution_count": 524,
   "metadata": {},
   "outputs": [
    {
     "data": {
      "text/plain": [
       "792"
      ]
     },
     "execution_count": 524,
     "metadata": {},
     "output_type": "execute_result"
    }
   ],
   "source": [
    "len(test_data_resulted)"
   ]
  },
  {
   "cell_type": "code",
   "execution_count": 525,
   "metadata": {},
   "outputs": [],
   "source": [
    "cols = [\n",
    "    \"Date\",\n",
    "    \"Prediction\",\n",
    "    \"Winner\",\n",
    "    \"Elo_Fav\",\n",
    "    \"Elo_Fav_Odds\",\n",
    "    \"Elo_Dog\",\n",
    "    \"Elo_Dog_Odds\",\n",
    "    # \"Training_Accuracy\",\n",
    "    # \"Testing_Accuracy\",\n",
    "]\n",
    "df = pd.DataFrame(columns=cols)\n",
    "List = []"
   ]
  },
  {
   "cell_type": "code",
   "execution_count": 526,
   "metadata": {},
   "outputs": [],
   "source": [
    "for index, tuples in test_data_resulted.iterrows():\n",
    "        #if index <> len(test_data_resulted):\n",
    "\n",
    "            values = [\n",
    "                test_data_resulted[\"Date\"][index],\n",
    "                pred2[index],\n",
    "                test_data_resulted[\"Winner\"][index],\n",
    "                test_data_resulted[\"Elo_Fav\"][index],\n",
    "                test_data_resulted[\"Elo_Fav_Odds\"][index],\n",
    "                test_data_resulted[\"Elo_Dog\"][index],\n",
    "                test_data_resulted[\"Elo_Dog_Odds\"][index],\n",
    "                #  \"{:.0%}\".format(train_score2),\n",
    "                #  \"{:.0%}\".format(test_score2),\n",
    "            ]\n",
    "            zipped = zip(cols, values)\n",
    "            a_dictionary = dict(zipped)\n",
    "            List.append(a_dictionary)"
   ]
  },
  {
   "cell_type": "code",
   "execution_count": 527,
   "metadata": {},
   "outputs": [],
   "source": [
    "temp = pd.DataFrame(List)\n",
    "df = pd.concat([df, temp])"
   ]
  },
  {
   "cell_type": "code",
   "execution_count": 528,
   "metadata": {},
   "outputs": [
    {
     "data": {
      "text/html": [
       "<div>\n",
       "<style scoped>\n",
       "    .dataframe tbody tr th:only-of-type {\n",
       "        vertical-align: middle;\n",
       "    }\n",
       "\n",
       "    .dataframe tbody tr th {\n",
       "        vertical-align: top;\n",
       "    }\n",
       "\n",
       "    .dataframe thead th {\n",
       "        text-align: right;\n",
       "    }\n",
       "</style>\n",
       "<table border=\"1\" class=\"dataframe\">\n",
       "  <thead>\n",
       "    <tr style=\"text-align: right;\">\n",
       "      <th></th>\n",
       "      <th>Date</th>\n",
       "      <th>Prediction</th>\n",
       "      <th>Winner</th>\n",
       "      <th>Elo_Fav</th>\n",
       "      <th>Elo_Fav_Odds</th>\n",
       "      <th>Elo_Dog</th>\n",
       "      <th>Elo_Dog_Odds</th>\n",
       "    </tr>\n",
       "  </thead>\n",
       "  <tbody>\n",
       "    <tr>\n",
       "      <th>1</th>\n",
       "      <td>2022-09-01</td>\n",
       "      <td>Elo_Fav</td>\n",
       "      <td>Elo_Fav</td>\n",
       "      <td>Ludmilla Samsonova</td>\n",
       "      <td>1.55</td>\n",
       "      <td>Leylah Fernandez</td>\n",
       "      <td>2.49</td>\n",
       "    </tr>\n",
       "    <tr>\n",
       "      <th>2</th>\n",
       "      <td>2022-09-01</td>\n",
       "      <td>Elo_Fav</td>\n",
       "      <td>Elo_Fav</td>\n",
       "      <td>Veronika Kudermetova</td>\n",
       "      <td>1.18</td>\n",
       "      <td>Maryna Zanevska</td>\n",
       "      <td>4.94</td>\n",
       "    </tr>\n",
       "    <tr>\n",
       "      <th>4</th>\n",
       "      <td>2022-09-01</td>\n",
       "      <td>Elo_Fav</td>\n",
       "      <td>Elo_Fav</td>\n",
       "      <td>Valentin Vacherot</td>\n",
       "      <td>2.06</td>\n",
       "      <td>Yosuke Watanuki</td>\n",
       "      <td>1.70</td>\n",
       "    </tr>\n",
       "    <tr>\n",
       "      <th>5</th>\n",
       "      <td>2022-09-01</td>\n",
       "      <td>Elo_Fav</td>\n",
       "      <td>Elo_Fav</td>\n",
       "      <td>Gabriel Decamps</td>\n",
       "      <td>1.35</td>\n",
       "      <td>Kasidit Samrej</td>\n",
       "      <td>3.06</td>\n",
       "    </tr>\n",
       "    <tr>\n",
       "      <th>6</th>\n",
       "      <td>2022-09-01</td>\n",
       "      <td>Elo_Fav</td>\n",
       "      <td>Elo_Fav</td>\n",
       "      <td>Shelby Rogers</td>\n",
       "      <td>1.21</td>\n",
       "      <td>Viktoria Kuzmova</td>\n",
       "      <td>4.52</td>\n",
       "    </tr>\n",
       "    <tr>\n",
       "      <th>...</th>\n",
       "      <td>...</td>\n",
       "      <td>...</td>\n",
       "      <td>...</td>\n",
       "      <td>...</td>\n",
       "      <td>...</td>\n",
       "      <td>...</td>\n",
       "      <td>...</td>\n",
       "    </tr>\n",
       "    <tr>\n",
       "      <th>786</th>\n",
       "      <td>2022-10-14</td>\n",
       "      <td>Elo_Fav</td>\n",
       "      <td>Elo_Fav</td>\n",
       "      <td>Yibing Wu</td>\n",
       "      <td>1.22</td>\n",
       "      <td>Dalibor Svrcina</td>\n",
       "      <td>4.11</td>\n",
       "    </tr>\n",
       "    <tr>\n",
       "      <th>787</th>\n",
       "      <td>2022-10-14</td>\n",
       "      <td>Elo_Fav</td>\n",
       "      <td>Elo_Fav</td>\n",
       "      <td>Mikael Ymer</td>\n",
       "      <td>1.45</td>\n",
       "      <td>Roberto Carballes Baena</td>\n",
       "      <td>2.75</td>\n",
       "    </tr>\n",
       "    <tr>\n",
       "      <th>788</th>\n",
       "      <td>2022-10-14</td>\n",
       "      <td>Elo_Fav</td>\n",
       "      <td>Elo_Fav</td>\n",
       "      <td>Felix Auger Aliassime</td>\n",
       "      <td>1.20</td>\n",
       "      <td>Oscar Otte</td>\n",
       "      <td>4.52</td>\n",
       "    </tr>\n",
       "    <tr>\n",
       "      <th>789</th>\n",
       "      <td>2022-10-14</td>\n",
       "      <td>Elo_Fav</td>\n",
       "      <td>Elo_Fav</td>\n",
       "      <td>Dominic Thiem</td>\n",
       "      <td>1.39</td>\n",
       "      <td>Francisco Cerundolo</td>\n",
       "      <td>2.99</td>\n",
       "    </tr>\n",
       "    <tr>\n",
       "      <th>790</th>\n",
       "      <td>2022-10-14</td>\n",
       "      <td>Elo_Fav</td>\n",
       "      <td>Elo_Fav</td>\n",
       "      <td>Andrey Rublev</td>\n",
       "      <td>1.32</td>\n",
       "      <td>Ilya Ivashka</td>\n",
       "      <td>3.37</td>\n",
       "    </tr>\n",
       "  </tbody>\n",
       "</table>\n",
       "<p>541 rows × 7 columns</p>\n",
       "</div>"
      ],
      "text/plain": [
       "           Date Prediction   Winner                Elo_Fav  Elo_Fav_Odds  \\\n",
       "1    2022-09-01    Elo_Fav  Elo_Fav     Ludmilla Samsonova          1.55   \n",
       "2    2022-09-01    Elo_Fav  Elo_Fav   Veronika Kudermetova          1.18   \n",
       "4    2022-09-01    Elo_Fav  Elo_Fav      Valentin Vacherot          2.06   \n",
       "5    2022-09-01    Elo_Fav  Elo_Fav        Gabriel Decamps          1.35   \n",
       "6    2022-09-01    Elo_Fav  Elo_Fav          Shelby Rogers          1.21   \n",
       "..          ...        ...      ...                    ...           ...   \n",
       "786  2022-10-14    Elo_Fav  Elo_Fav              Yibing Wu          1.22   \n",
       "787  2022-10-14    Elo_Fav  Elo_Fav            Mikael Ymer          1.45   \n",
       "788  2022-10-14    Elo_Fav  Elo_Fav  Felix Auger Aliassime          1.20   \n",
       "789  2022-10-14    Elo_Fav  Elo_Fav          Dominic Thiem          1.39   \n",
       "790  2022-10-14    Elo_Fav  Elo_Fav          Andrey Rublev          1.32   \n",
       "\n",
       "                     Elo_Dog  Elo_Dog_Odds  \n",
       "1           Leylah Fernandez          2.49  \n",
       "2            Maryna Zanevska          4.94  \n",
       "4            Yosuke Watanuki          1.70  \n",
       "5             Kasidit Samrej          3.06  \n",
       "6           Viktoria Kuzmova          4.52  \n",
       "..                       ...           ...  \n",
       "786          Dalibor Svrcina          4.11  \n",
       "787  Roberto Carballes Baena          2.75  \n",
       "788               Oscar Otte          4.52  \n",
       "789      Francisco Cerundolo          2.99  \n",
       "790             Ilya Ivashka          3.37  \n",
       "\n",
       "[541 rows x 7 columns]"
      ]
     },
     "execution_count": 528,
     "metadata": {},
     "output_type": "execute_result"
    }
   ],
   "source": [
    "df\n",
    "df[df['Winner']==df['Prediction']]"
   ]
  },
  {
   "cell_type": "code",
   "execution_count": 529,
   "metadata": {},
   "outputs": [],
   "source": [
    "exclude_today=df[df['Date']!='2022-10-14'].copy()"
   ]
  },
  {
   "cell_type": "code",
   "execution_count": 530,
   "metadata": {},
   "outputs": [],
   "source": [
    "exclude_today['Predicton_Odds']=exclude_today.apply(lambda x: x['Elo_Fav_Odds'] if 'Elo_Fav' == x['Prediction'] else x['Elo_Dog_Odds'],axis=1)\n",
    "#exclude_today['Winner_Odds']=exclude_today['Winner_Odds'].astype(float)\n",
    "exclude_today_odds=exclude_today[((exclude_today['Predicton_Odds']).ge(1.9))&((exclude_today['Predicton_Odds']).le(2.5))].copy()\n",
    "#exclude_today"
   ]
  },
  {
   "cell_type": "code",
   "execution_count": 531,
   "metadata": {},
   "outputs": [
    {
     "data": {
      "text/plain": [
       "0.4375"
      ]
     },
     "execution_count": 531,
     "metadata": {},
     "output_type": "execute_result"
    }
   ],
   "source": [
    "len(exclude_today_odds[exclude_today_odds['Winner']==exclude_today_odds['Prediction']])/len(exclude_today_odds)"
   ]
  },
  {
   "cell_type": "code",
   "execution_count": 532,
   "metadata": {},
   "outputs": [],
   "source": [
    "today=df[df['Date']>'2022-10-13'].copy()\n",
    "today['Predicton_Odds']=today.apply(lambda x: x['Elo_Fav_Odds'] if 'Elo_Fav' == x['Prediction'] else x['Elo_Dog_Odds'],axis=1)\n",
    "#today=today[((today['Predicton_Odds']).le(1.8))&((today['Predicton_Odds']).ge(1))]"
   ]
  },
  {
   "cell_type": "code",
   "execution_count": 537,
   "metadata": {},
   "outputs": [
    {
     "name": "stdout",
     "output_type": "stream",
     "text": [
      "Wall time: 968 µs\n"
     ]
    },
    {
     "data": {
      "text/html": [
       "<div>\n",
       "<style scoped>\n",
       "    .dataframe tbody tr th:only-of-type {\n",
       "        vertical-align: middle;\n",
       "    }\n",
       "\n",
       "    .dataframe tbody tr th {\n",
       "        vertical-align: top;\n",
       "    }\n",
       "\n",
       "    .dataframe thead th {\n",
       "        text-align: right;\n",
       "    }\n",
       "</style>\n",
       "<table border=\"1\" class=\"dataframe\">\n",
       "  <thead>\n",
       "    <tr style=\"text-align: right;\">\n",
       "      <th></th>\n",
       "      <th>Date</th>\n",
       "      <th>Prediction</th>\n",
       "      <th>Winner</th>\n",
       "      <th>Elo_Fav</th>\n",
       "      <th>Elo_Fav_Odds</th>\n",
       "      <th>Elo_Dog</th>\n",
       "      <th>Elo_Dog_Odds</th>\n",
       "      <th>Predicton_Odds</th>\n",
       "    </tr>\n",
       "  </thead>\n",
       "  <tbody>\n",
       "    <tr>\n",
       "      <th>776</th>\n",
       "      <td>2022-10-14</td>\n",
       "      <td>Elo_Fav</td>\n",
       "      <td>Elo_Fav</td>\n",
       "      <td>Paula Badosa</td>\n",
       "      <td>1.20</td>\n",
       "      <td>Louisa Chirico</td>\n",
       "      <td>4.47</td>\n",
       "      <td>1.20</td>\n",
       "    </tr>\n",
       "    <tr>\n",
       "      <th>777</th>\n",
       "      <td>2022-10-14</td>\n",
       "      <td>Elo_Fav</td>\n",
       "      <td>Elo_Fav</td>\n",
       "      <td>Aryna Sabalenka</td>\n",
       "      <td>1.36</td>\n",
       "      <td>Sloane Stephens</td>\n",
       "      <td>3.15</td>\n",
       "      <td>1.36</td>\n",
       "    </tr>\n",
       "    <tr>\n",
       "      <th>778</th>\n",
       "      <td>2022-10-14</td>\n",
       "      <td>Elo_Fav</td>\n",
       "      <td>Elo_Fav</td>\n",
       "      <td>Iga Swiatek</td>\n",
       "      <td>1.34</td>\n",
       "      <td>Qinwen Zheng</td>\n",
       "      <td>3.30</td>\n",
       "      <td>1.34</td>\n",
       "    </tr>\n",
       "    <tr>\n",
       "      <th>779</th>\n",
       "      <td>2022-10-14</td>\n",
       "      <td>Elo_Fav</td>\n",
       "      <td>Elo_Fav</td>\n",
       "      <td>Quentin Halys</td>\n",
       "      <td>1.26</td>\n",
       "      <td>Alastair Gray</td>\n",
       "      <td>3.67</td>\n",
       "      <td>1.26</td>\n",
       "    </tr>\n",
       "    <tr>\n",
       "      <th>780</th>\n",
       "      <td>2022-10-14</td>\n",
       "      <td>Elo_Fav</td>\n",
       "      <td>Elo_Fav</td>\n",
       "      <td>Jurij Rodionov</td>\n",
       "      <td>1.31</td>\n",
       "      <td>Roberto Marcora</td>\n",
       "      <td>3.32</td>\n",
       "      <td>1.31</td>\n",
       "    </tr>\n",
       "    <tr>\n",
       "      <th>781</th>\n",
       "      <td>2022-10-14</td>\n",
       "      <td>Elo_Fav</td>\n",
       "      <td>Elo_Dog</td>\n",
       "      <td>Gregoire Barrere</td>\n",
       "      <td>1.48</td>\n",
       "      <td>Matteo Arnaldi</td>\n",
       "      <td>2.56</td>\n",
       "      <td>1.48</td>\n",
       "    </tr>\n",
       "    <tr>\n",
       "      <th>782</th>\n",
       "      <td>2022-10-14</td>\n",
       "      <td>Elo_Dog</td>\n",
       "      <td>Elo_Fav</td>\n",
       "      <td>Salvatore Caruso</td>\n",
       "      <td>1.88</td>\n",
       "      <td>David Ionel Nicholas</td>\n",
       "      <td>1.85</td>\n",
       "      <td>1.85</td>\n",
       "    </tr>\n",
       "    <tr>\n",
       "      <th>783</th>\n",
       "      <td>2022-10-14</td>\n",
       "      <td>Elo_Fav</td>\n",
       "      <td>Elo_Dog</td>\n",
       "      <td>Hugo Grenier</td>\n",
       "      <td>1.40</td>\n",
       "      <td>Mattia Bellucci</td>\n",
       "      <td>2.82</td>\n",
       "      <td>1.40</td>\n",
       "    </tr>\n",
       "    <tr>\n",
       "      <th>784</th>\n",
       "      <td>2022-10-14</td>\n",
       "      <td>Elo_Fav</td>\n",
       "      <td>Elo_Dog</td>\n",
       "      <td>Christopher O'Connell</td>\n",
       "      <td>1.28</td>\n",
       "      <td>Li Tu</td>\n",
       "      <td>3.52</td>\n",
       "      <td>1.28</td>\n",
       "    </tr>\n",
       "    <tr>\n",
       "      <th>785</th>\n",
       "      <td>2022-10-14</td>\n",
       "      <td>Elo_Fav</td>\n",
       "      <td>Elo_Fav</td>\n",
       "      <td>Kamil Majchrzak</td>\n",
       "      <td>1.22</td>\n",
       "      <td>Shintaro Mochizuki</td>\n",
       "      <td>4.00</td>\n",
       "      <td>1.22</td>\n",
       "    </tr>\n",
       "    <tr>\n",
       "      <th>786</th>\n",
       "      <td>2022-10-14</td>\n",
       "      <td>Elo_Fav</td>\n",
       "      <td>Elo_Fav</td>\n",
       "      <td>Yibing Wu</td>\n",
       "      <td>1.22</td>\n",
       "      <td>Dalibor Svrcina</td>\n",
       "      <td>4.11</td>\n",
       "      <td>1.22</td>\n",
       "    </tr>\n",
       "    <tr>\n",
       "      <th>787</th>\n",
       "      <td>2022-10-14</td>\n",
       "      <td>Elo_Fav</td>\n",
       "      <td>Elo_Fav</td>\n",
       "      <td>Mikael Ymer</td>\n",
       "      <td>1.45</td>\n",
       "      <td>Roberto Carballes Baena</td>\n",
       "      <td>2.75</td>\n",
       "      <td>1.45</td>\n",
       "    </tr>\n",
       "    <tr>\n",
       "      <th>788</th>\n",
       "      <td>2022-10-14</td>\n",
       "      <td>Elo_Fav</td>\n",
       "      <td>Elo_Fav</td>\n",
       "      <td>Felix Auger Aliassime</td>\n",
       "      <td>1.20</td>\n",
       "      <td>Oscar Otte</td>\n",
       "      <td>4.52</td>\n",
       "      <td>1.20</td>\n",
       "    </tr>\n",
       "    <tr>\n",
       "      <th>789</th>\n",
       "      <td>2022-10-14</td>\n",
       "      <td>Elo_Fav</td>\n",
       "      <td>Elo_Fav</td>\n",
       "      <td>Dominic Thiem</td>\n",
       "      <td>1.39</td>\n",
       "      <td>Francisco Cerundolo</td>\n",
       "      <td>2.99</td>\n",
       "      <td>1.39</td>\n",
       "    </tr>\n",
       "    <tr>\n",
       "      <th>790</th>\n",
       "      <td>2022-10-14</td>\n",
       "      <td>Elo_Fav</td>\n",
       "      <td>Elo_Fav</td>\n",
       "      <td>Andrey Rublev</td>\n",
       "      <td>1.32</td>\n",
       "      <td>Ilya Ivashka</td>\n",
       "      <td>3.37</td>\n",
       "      <td>1.32</td>\n",
       "    </tr>\n",
       "    <tr>\n",
       "      <th>791</th>\n",
       "      <td>2022-10-14</td>\n",
       "      <td>Elo_Fav</td>\n",
       "      <td>Elo_Dog</td>\n",
       "      <td>Anastasia Potapova</td>\n",
       "      <td>1.40</td>\n",
       "      <td>Anna Bondar</td>\n",
       "      <td>2.95</td>\n",
       "      <td>1.40</td>\n",
       "    </tr>\n",
       "  </tbody>\n",
       "</table>\n",
       "</div>"
      ],
      "text/plain": [
       "           Date Prediction   Winner                Elo_Fav  Elo_Fav_Odds  \\\n",
       "776  2022-10-14    Elo_Fav  Elo_Fav           Paula Badosa          1.20   \n",
       "777  2022-10-14    Elo_Fav  Elo_Fav        Aryna Sabalenka          1.36   \n",
       "778  2022-10-14    Elo_Fav  Elo_Fav            Iga Swiatek          1.34   \n",
       "779  2022-10-14    Elo_Fav  Elo_Fav          Quentin Halys          1.26   \n",
       "780  2022-10-14    Elo_Fav  Elo_Fav         Jurij Rodionov          1.31   \n",
       "781  2022-10-14    Elo_Fav  Elo_Dog       Gregoire Barrere          1.48   \n",
       "782  2022-10-14    Elo_Dog  Elo_Fav       Salvatore Caruso          1.88   \n",
       "783  2022-10-14    Elo_Fav  Elo_Dog           Hugo Grenier          1.40   \n",
       "784  2022-10-14    Elo_Fav  Elo_Dog  Christopher O'Connell          1.28   \n",
       "785  2022-10-14    Elo_Fav  Elo_Fav        Kamil Majchrzak          1.22   \n",
       "786  2022-10-14    Elo_Fav  Elo_Fav              Yibing Wu          1.22   \n",
       "787  2022-10-14    Elo_Fav  Elo_Fav            Mikael Ymer          1.45   \n",
       "788  2022-10-14    Elo_Fav  Elo_Fav  Felix Auger Aliassime          1.20   \n",
       "789  2022-10-14    Elo_Fav  Elo_Fav          Dominic Thiem          1.39   \n",
       "790  2022-10-14    Elo_Fav  Elo_Fav          Andrey Rublev          1.32   \n",
       "791  2022-10-14    Elo_Fav  Elo_Dog     Anastasia Potapova          1.40   \n",
       "\n",
       "                     Elo_Dog  Elo_Dog_Odds  Predicton_Odds  \n",
       "776           Louisa Chirico          4.47            1.20  \n",
       "777          Sloane Stephens          3.15            1.36  \n",
       "778             Qinwen Zheng          3.30            1.34  \n",
       "779            Alastair Gray          3.67            1.26  \n",
       "780          Roberto Marcora          3.32            1.31  \n",
       "781           Matteo Arnaldi          2.56            1.48  \n",
       "782     David Ionel Nicholas          1.85            1.85  \n",
       "783          Mattia Bellucci          2.82            1.40  \n",
       "784                    Li Tu          3.52            1.28  \n",
       "785       Shintaro Mochizuki          4.00            1.22  \n",
       "786          Dalibor Svrcina          4.11            1.22  \n",
       "787  Roberto Carballes Baena          2.75            1.45  \n",
       "788               Oscar Otte          4.52            1.20  \n",
       "789      Francisco Cerundolo          2.99            1.39  \n",
       "790             Ilya Ivashka          3.37            1.32  \n",
       "791              Anna Bondar          2.95            1.40  "
      ]
     },
     "execution_count": 537,
     "metadata": {},
     "output_type": "execute_result"
    }
   ],
   "source": [
    "%time today"
   ]
  },
  {
   "cell_type": "code",
   "execution_count": 534,
   "metadata": {},
   "outputs": [
    {
     "data": {
      "text/plain": [
       "0.6875"
      ]
     },
     "execution_count": 534,
     "metadata": {},
     "output_type": "execute_result"
    }
   ],
   "source": [
    "len(today[today['Winner']==today['Prediction']])/len(today)"
   ]
  },
  {
   "cell_type": "code",
   "execution_count": 535,
   "metadata": {},
   "outputs": [],
   "source": [
    "today['Predicton_Odds']=today.apply(lambda x: x['Elo_Fav_Odds'] if 'Elo_Fav' == x['Prediction'] else x['Elo_Dog_Odds'],axis=1)\n"
   ]
  }
 ],
 "metadata": {
  "kernelspec": {
   "display_name": "Python 3.9.5 64-bit",
   "language": "python",
   "name": "python3"
  },
  "language_info": {
   "codemirror_mode": {
    "name": "ipython",
    "version": 3
   },
   "file_extension": ".py",
   "mimetype": "text/x-python",
   "name": "python",
   "nbconvert_exporter": "python",
   "pygments_lexer": "ipython3",
   "version": "3.9.5"
  },
  "orig_nbformat": 4,
  "vscode": {
   "interpreter": {
    "hash": "9e3bfd5707cea17bcbe380e30b983be31a9c4e73ed42697506103186bbe325e5"
   }
  }
 },
 "nbformat": 4,
 "nbformat_minor": 2
}
