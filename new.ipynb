{
 "cells": [
  {
   "cell_type": "code",
   "execution_count": 2429,
   "metadata": {},
   "outputs": [],
   "source": [
    "from sqlalchemy import create_engine\n",
    "import pandas as pd\n",
    "import numpy as np\n",
    "import datetime\n",
    "devengine = create_engine(\"sqlite:///C:/Git/tennis_atp/database/bets_sqllite.db\")"
   ]
  },
  {
   "cell_type": "code",
   "execution_count": 2430,
   "metadata": {},
   "outputs": [],
   "source": [
    "elo_data = pd.read_sql_query(\n",
    "    \"Select DISTINCT * From Elo_AllMatches\",\n",
    "    con=devengine,)\n",
    "time_now = datetime.datetime.now()\n",
    "time_now_formatted = time_now.strftime(\"%Y-%m-%d\")"
   ]
  },
  {
   "cell_type": "code",
   "execution_count": 2431,
   "metadata": {},
   "outputs": [],
   "source": [
    "elo_data['Elo_Diff']=elo_data['Elo_Fav_Elo']-elo_data['Elo_Dog_Elo']\n",
    "elo_data['Elo_Odds_Diff']=elo_data['Elo_Fav_Odds']-elo_data['Elo_Dog_Odds']\n",
    "elo_data=elo_data[((elo_data['Elo_Diff']).lt(150))!=True]\n",
    "elo_data['Winner']=elo_data.apply(lambda x: 'Elo_Fav' if x['Elo_Fav']==x['Winner'] else 'Elo_Dog',axis=1)\n",
    "elo_data=elo_data[(elo_data['Elo_Fav_Odds']>elo_data['Elo_Fav_Est_Odds'])&(elo_data['Elo_Fav_Odds']>1.79)]\n",
    "#elo_data['Winner_Odds']=elo_data.apply(lambda x: x['Elo_Fav_Odds'] if x['Elo_Fav']==x['Winner'] else x['Elo_Dog_Odds'],axis=1)\n",
    "#elo_data['Winner_Est_Odds']=elo_data.apply(lambda x: x['Elo_Fav_Est_Odds'] if x['Elo_Fav']==x['Winner'] else x['Elo_Dog_Est_Odds'],axis=1)\n",
    "#elo_data['Winner_Elo']=elo_data.apply(lambda x: x['Elo_Fav_Elo'] if x['Elo_Fav']==x['Winner'] else x['Elo_Dog_Elo'],axis=1)\n",
    "elo_data['Fav_Odds']=elo_data[['Elo_Fav_Odds','Elo_Dog_Odds']].min(axis=1)\n",
    "elo_data['Dog_Odds']=elo_data[['Elo_Fav_Odds','Elo_Dog_Odds']].max(axis=1)\n",
    "elo_data['Odds_Diff']=elo_data['Fav_Odds']-elo_data['Dog_Odds']\n",
    "elo_data['Fav_Odds_Diff']=elo_data['Elo_Fav_Odds']-elo_data['Elo_Fav_Est_Odds']\n",
    "elo_data['Dog_Odds_Diff']=elo_data['Elo_Dog_Odds']-elo_data['Elo_Dog_Est_Odds']\n",
    "#elo_data['Total_Diff']=elo_data['Elo_Fav_Total']-elo_data['Elo_Dog_Total']\n",
    "#elo_data=elo_data[elo_data['Elo_Fav_Odds']<1.8]\n",
    "train_data=elo_data[elo_data['Date']<'2022-09-01']\n",
    "test_data=elo_data[elo_data['Date']>='2022-09-01']\n",
    "test_data_resulted=test_data.reset_index()\n",
    "test_data=test_data.drop(columns=['Surface','Date','Sex','Elo_Fav','Elo_Dog','Elo_Dog_Odds','Resulted','Time'])\n",
    "train_data=train_data.drop(columns=['Surface','Date','Sex','Elo_Fav','Elo_Dog','Elo_Dog_Odds','Resulted','Time'])\n"
   ]
  },
  {
   "cell_type": "code",
   "execution_count": 2432,
   "metadata": {},
   "outputs": [],
   "source": [
    "from sklearn.model_selection import train_test_split\n",
    "from sklearn.linear_model import LogisticRegression\n",
    "from sklearn.svm import SVC\n",
    "from matplotlib import pyplot"
   ]
  },
  {
   "cell_type": "code",
   "execution_count": 2433,
   "metadata": {},
   "outputs": [
    {
     "name": "stdout",
     "output_type": "stream",
     "text": [
      "0.608 0.5351351351351351\n"
     ]
    }
   ],
   "source": [
    "X = train_data.drop([\"Winner\"], axis=1)\n",
    "y = train_data[\"Winner\"]\n",
    "X_train, X_test, y_train, y_test = train_test_split(X, y, test_size=0.33)\n",
    "model2 = LogisticRegression(max_iter=20000000)\n",
    "#model2 = SVC()\n",
    "model2.fit(X_train, y_train)\n",
    "train_score2 = model2.score(X_train, y_train)\n",
    "test_score2 = model2.score(X_test, y_test)\n",
    "print(train_score2,test_score2)"
   ]
  },
  {
   "cell_type": "code",
   "execution_count": 2434,
   "metadata": {},
   "outputs": [
    {
     "name": "stdout",
     "output_type": "stream",
     "text": [
      "             Feature  Coefficients\n",
      "0       Elo_Fav_Odds      0.029908\n",
      "1   Elo_Fav_Est_Odds     -0.023511\n",
      "2   Elo_Dog_Est_Odds     -0.311846\n",
      "3        Elo_Fav_Elo      0.004538\n",
      "4        Elo_Dog_Elo     -0.004943\n",
      "5      Elo_Fav_Total      0.001893\n",
      "6      Elo_Dog_Total      0.001272\n",
      "7           Elo_Diff      0.009481\n",
      "8      Elo_Odds_Diff     -0.170878\n",
      "9           Fav_Odds      0.226887\n",
      "10          Dog_Odds      0.003807\n",
      "11         Odds_Diff      0.223080\n",
      "12     Fav_Odds_Diff      0.053419\n",
      "13     Dog_Odds_Diff      0.512632\n"
     ]
    }
   ],
   "source": [
    "importance=model2.coef_[0]\n",
    "coefficients = pd.DataFrame({\"Feature\":X.columns,\"Coefficients\":np.transpose(model2.coef_[0], )})\n",
    "\n",
    "print(coefficients)\n"
   ]
  },
  {
   "cell_type": "code",
   "execution_count": 2435,
   "metadata": {},
   "outputs": [],
   "source": [
    "pred2=model2.predict(test_data.drop(columns='Winner',axis=1))"
   ]
  },
  {
   "cell_type": "code",
   "execution_count": 2436,
   "metadata": {},
   "outputs": [
    {
     "data": {
      "text/plain": [
       "60"
      ]
     },
     "execution_count": 2436,
     "metadata": {},
     "output_type": "execute_result"
    }
   ],
   "source": [
    "len(test_data_resulted)"
   ]
  },
  {
   "cell_type": "code",
   "execution_count": 2437,
   "metadata": {},
   "outputs": [],
   "source": [
    "cols = [\n",
    "    \"Date\",\n",
    "    \"Prediction\",\n",
    "    \"Winner\",\n",
    "    \"Elo_Fav\",\n",
    "    \"Elo_Fav_Odds\",\n",
    "    \"Elo_Dog\",\n",
    "    \"Elo_Dog_Odds\",\"Time\",\"Resulted\"\n",
    "    # \"Training_Accuracy\",\n",
    "    # \"Testing_Accuracy\",\n",
    "]\n",
    "df = pd.DataFrame(columns=cols)\n",
    "List = []"
   ]
  },
  {
   "cell_type": "code",
   "execution_count": 2438,
   "metadata": {},
   "outputs": [],
   "source": [
    "for index, tuples in test_data_resulted.iterrows():\n",
    "        #if index <> len(test_data_resulted):\n",
    "\n",
    "            values = [\n",
    "                test_data_resulted[\"Date\"][index],\n",
    "                pred2[index],\n",
    "                test_data_resulted[\"Winner\"][index],\n",
    "                test_data_resulted[\"Elo_Fav\"][index],\n",
    "                test_data_resulted[\"Elo_Fav_Odds\"][index],\n",
    "                test_data_resulted[\"Elo_Dog\"][index],\n",
    "                test_data_resulted[\"Elo_Dog_Odds\"][index],\n",
    "                test_data_resulted[\"Time\"][index],\n",
    "                test_data_resulted[\"Resulted\"][index],\n",
    "                #  \"{:.0%}\".format(train_score2),\n",
    "                #  \"{:.0%}\".format(test_score2),\n",
    "            ]\n",
    "            zipped = zip(cols, values)\n",
    "            a_dictionary = dict(zipped)\n",
    "            List.append(a_dictionary)"
   ]
  },
  {
   "cell_type": "code",
   "execution_count": 2439,
   "metadata": {},
   "outputs": [],
   "source": [
    "temp = pd.DataFrame(List)\n",
    "df = pd.concat([df, temp])"
   ]
  },
  {
   "cell_type": "code",
   "execution_count": 2440,
   "metadata": {},
   "outputs": [],
   "source": [
    "exclude_today=df[df['Date']!=time_now_formatted].copy()"
   ]
  },
  {
   "cell_type": "code",
   "execution_count": 2441,
   "metadata": {},
   "outputs": [],
   "source": [
    "exclude_today['Predicton_Odds']=exclude_today.apply(lambda x: x['Elo_Fav_Odds'] if 'Elo_Fav' == x['Prediction'] else x['Elo_Dog_Odds'],axis=1)\n",
    "#exclude_today['Winner_Odds']=exclude_today['Winner_Odds'].astype(float)\n",
    "exclude_today_odds=exclude_today[((exclude_today['Predicton_Odds']).ge(1.9))&((exclude_today['Predicton_Odds']).le(2.3))].copy()\n",
    "#exclude_today"
   ]
  },
  {
   "cell_type": "code",
   "execution_count": 2442,
   "metadata": {},
   "outputs": [],
   "source": [
    "STAKE=50\n",
    "exclude_today_odds['Profit']=exclude_today_odds.apply(lambda x: -STAKE if x['Winner']!=x['Prediction'] else (STAKE * x['Predicton_Odds'])-STAKE,axis=1)\n",
    "exclude_today_odds['Profit'].sum()"
   ]
  },
  {
   "cell_type": "code",
   "execution_count": 2443,
   "metadata": {},
   "outputs": [
    {
     "data": {
      "text/plain": [
       "-98.5"
      ]
     },
     "execution_count": 2443,
     "metadata": {},
     "output_type": "execute_result"
    }
   ],
   "source": [
    "exclude_today_odds['Profit'].sum()"
   ]
  },
  {
   "cell_type": "code",
   "execution_count": 2444,
   "metadata": {},
   "outputs": [
    {
     "data": {
      "text/plain": [
       "12"
      ]
     },
     "execution_count": 2444,
     "metadata": {},
     "output_type": "execute_result"
    }
   ],
   "source": [
    "len(exclude_today_odds)"
   ]
  },
  {
   "cell_type": "code",
   "execution_count": 2445,
   "metadata": {},
   "outputs": [
    {
     "data": {
      "text/plain": [
       "0.4166666666666667"
      ]
     },
     "execution_count": 2445,
     "metadata": {},
     "output_type": "execute_result"
    }
   ],
   "source": [
    "len(exclude_today_odds[exclude_today_odds['Winner']==exclude_today_odds['Prediction']])/len(exclude_today_odds)"
   ]
  },
  {
   "cell_type": "code",
   "execution_count": 2446,
   "metadata": {},
   "outputs": [],
   "source": [
    "today = df[df[\"Date\"] == time_now_formatted].copy()\n",
    "today[\"Prediction_Odds\"] = today.apply(\n",
    "    lambda x: x[\"Elo_Fav_Odds\"] if \"Elo_Fav\" == x[\"Prediction\"] else x[\"Elo_Dog_Odds\"],\n",
    "    axis=1,\n",
    ")\n",
    "today = today[((today[\"Prediction_Odds\"]).ge(1.8)) & ((today[\"Prediction_Odds\"]).le(2.3))]\n"
   ]
  },
  {
   "cell_type": "code",
   "execution_count": 2447,
   "metadata": {},
   "outputs": [
    {
     "data": {
      "text/html": [
       "<div>\n",
       "<style scoped>\n",
       "    .dataframe tbody tr th:only-of-type {\n",
       "        vertical-align: middle;\n",
       "    }\n",
       "\n",
       "    .dataframe tbody tr th {\n",
       "        vertical-align: top;\n",
       "    }\n",
       "\n",
       "    .dataframe thead th {\n",
       "        text-align: right;\n",
       "    }\n",
       "</style>\n",
       "<table border=\"1\" class=\"dataframe\">\n",
       "  <thead>\n",
       "    <tr style=\"text-align: right;\">\n",
       "      <th></th>\n",
       "      <th>Time</th>\n",
       "      <th>Predicted_Player</th>\n",
       "      <th>Prediction_Odds</th>\n",
       "    </tr>\n",
       "  </thead>\n",
       "  <tbody>\n",
       "    <tr>\n",
       "      <th>59</th>\n",
       "      <td>01:30</td>\n",
       "      <td>Diego Schwartzman</td>\n",
       "      <td>1.9</td>\n",
       "    </tr>\n",
       "  </tbody>\n",
       "</table>\n",
       "</div>"
      ],
      "text/plain": [
       "     Time   Predicted_Player  Prediction_Odds\n",
       "59  01:30  Diego Schwartzman              1.9"
      ]
     },
     "execution_count": 2447,
     "metadata": {},
     "output_type": "execute_result"
    }
   ],
   "source": [
    "today['Predicted_Player']=today.apply(lambda x: x['Elo_Fav'] if x['Prediction']=='Elo_Fav' else x['Elo_Dog'], axis=1)\n",
    "today[['Time','Predicted_Player','Prediction_Odds']][today['Resulted']!='True'].sort_values(by='Time',ascending=True)"
   ]
  },
  {
   "cell_type": "code",
   "execution_count": 2448,
   "metadata": {},
   "outputs": [
    {
     "ename": "ZeroDivisionError",
     "evalue": "division by zero",
     "output_type": "error",
     "traceback": [
      "\u001b[1;31m---------------------------------------------------------------------------\u001b[0m",
      "\u001b[1;31mZeroDivisionError\u001b[0m                         Traceback (most recent call last)",
      "\u001b[1;32m~\\AppData\\Local\\Temp/ipykernel_9832/1924579545.py\u001b[0m in \u001b[0;36m<module>\u001b[1;34m\u001b[0m\n\u001b[0;32m      1\u001b[0m \u001b[0mtoday_resulted\u001b[0m\u001b[1;33m=\u001b[0m\u001b[0mtoday\u001b[0m\u001b[1;33m[\u001b[0m\u001b[1;33m(\u001b[0m\u001b[0mtoday\u001b[0m\u001b[1;33m[\u001b[0m\u001b[1;34m'Resulted'\u001b[0m\u001b[1;33m]\u001b[0m\u001b[1;33m==\u001b[0m\u001b[1;34m'True'\u001b[0m\u001b[1;33m)\u001b[0m\u001b[1;33m&\u001b[0m\u001b[1;33m(\u001b[0m\u001b[1;33m(\u001b[0m\u001b[0mtoday\u001b[0m\u001b[1;33m[\u001b[0m\u001b[1;34m'Prediction_Odds'\u001b[0m\u001b[1;33m]\u001b[0m\u001b[1;33m)\u001b[0m\u001b[1;33m.\u001b[0m\u001b[0mge\u001b[0m\u001b[1;33m(\u001b[0m\u001b[1;36m1.8\u001b[0m\u001b[1;33m)\u001b[0m\u001b[1;33m)\u001b[0m\u001b[1;33m&\u001b[0m\u001b[1;33m(\u001b[0m\u001b[1;33m(\u001b[0m\u001b[0mtoday\u001b[0m\u001b[1;33m[\u001b[0m\u001b[1;34m'Prediction_Odds'\u001b[0m\u001b[1;33m]\u001b[0m\u001b[1;33m)\u001b[0m\u001b[1;33m.\u001b[0m\u001b[0mle\u001b[0m\u001b[1;33m(\u001b[0m\u001b[1;36m2.5\u001b[0m\u001b[1;33m)\u001b[0m\u001b[1;33m)\u001b[0m\u001b[1;33m]\u001b[0m\u001b[1;33m.\u001b[0m\u001b[0msort_values\u001b[0m\u001b[1;33m(\u001b[0m\u001b[0mby\u001b[0m\u001b[1;33m=\u001b[0m\u001b[1;34m'Time'\u001b[0m\u001b[1;33m,\u001b[0m\u001b[0mascending\u001b[0m\u001b[1;33m=\u001b[0m\u001b[1;32mTrue\u001b[0m\u001b[1;33m)\u001b[0m\u001b[1;33m\u001b[0m\u001b[1;33m\u001b[0m\u001b[0m\n\u001b[1;32m----> 2\u001b[1;33m \u001b[0mlen\u001b[0m\u001b[1;33m(\u001b[0m\u001b[0mtoday_resulted\u001b[0m\u001b[1;33m[\u001b[0m\u001b[0mtoday_resulted\u001b[0m\u001b[1;33m[\u001b[0m\u001b[1;34m'Winner'\u001b[0m\u001b[1;33m]\u001b[0m\u001b[1;33m==\u001b[0m\u001b[0mtoday_resulted\u001b[0m\u001b[1;33m[\u001b[0m\u001b[1;34m'Prediction'\u001b[0m\u001b[1;33m]\u001b[0m\u001b[1;33m]\u001b[0m\u001b[1;33m)\u001b[0m\u001b[1;33m/\u001b[0m\u001b[0mlen\u001b[0m\u001b[1;33m(\u001b[0m\u001b[0mtoday_resulted\u001b[0m\u001b[1;33m)\u001b[0m\u001b[1;33m\u001b[0m\u001b[1;33m\u001b[0m\u001b[0m\n\u001b[0m",
      "\u001b[1;31mZeroDivisionError\u001b[0m: division by zero"
     ]
    }
   ],
   "source": [
    "today_resulted=today[(today['Resulted']=='True')&((today['Prediction_Odds']).ge(1.8))&((today['Prediction_Odds']).le(2.5))].sort_values(by='Time',ascending=True)\n",
    "len(today_resulted[today_resulted['Winner']==today_resulted['Prediction']])/len(today_resulted)\n"
   ]
  },
  {
   "cell_type": "code",
   "execution_count": null,
   "metadata": {},
   "outputs": [
    {
     "data": {
      "text/html": [
       "<div>\n",
       "<style scoped>\n",
       "    .dataframe tbody tr th:only-of-type {\n",
       "        vertical-align: middle;\n",
       "    }\n",
       "\n",
       "    .dataframe tbody tr th {\n",
       "        vertical-align: top;\n",
       "    }\n",
       "\n",
       "    .dataframe thead th {\n",
       "        text-align: right;\n",
       "    }\n",
       "</style>\n",
       "<table border=\"1\" class=\"dataframe\">\n",
       "  <thead>\n",
       "    <tr style=\"text-align: right;\">\n",
       "      <th></th>\n",
       "      <th>Date</th>\n",
       "      <th>Prediction</th>\n",
       "      <th>Winner</th>\n",
       "      <th>Elo_Fav</th>\n",
       "      <th>Elo_Fav_Odds</th>\n",
       "      <th>Elo_Dog</th>\n",
       "      <th>Elo_Dog_Odds</th>\n",
       "      <th>Time</th>\n",
       "      <th>Resulted</th>\n",
       "      <th>Prediction_Odds</th>\n",
       "      <th>Predicted_Player</th>\n",
       "    </tr>\n",
       "  </thead>\n",
       "  <tbody>\n",
       "    <tr>\n",
       "      <th>975</th>\n",
       "      <td>2022-10-21</td>\n",
       "      <td>Elo_Dog</td>\n",
       "      <td>Elo_Dog</td>\n",
       "      <td>Diego Schwartzman</td>\n",
       "      <td>1.90</td>\n",
       "      <td>David Goffin</td>\n",
       "      <td>1.89</td>\n",
       "      <td>01:30</td>\n",
       "      <td>False</td>\n",
       "      <td>1.89</td>\n",
       "      <td>David Goffin</td>\n",
       "    </tr>\n",
       "    <tr>\n",
       "      <th>978</th>\n",
       "      <td>2022-10-21</td>\n",
       "      <td>Elo_Dog</td>\n",
       "      <td>Elo_Dog</td>\n",
       "      <td>Tommy Paul</td>\n",
       "      <td>1.83</td>\n",
       "      <td>Mikael Ymer</td>\n",
       "      <td>1.96</td>\n",
       "      <td>02:00</td>\n",
       "      <td>False</td>\n",
       "      <td>1.96</td>\n",
       "      <td>Mikael Ymer</td>\n",
       "    </tr>\n",
       "    <tr>\n",
       "      <th>960</th>\n",
       "      <td>2022-10-21</td>\n",
       "      <td>Elo_Fav</td>\n",
       "      <td>Elo_Dog</td>\n",
       "      <td>Leolia Jeanjean</td>\n",
       "      <td>1.99</td>\n",
       "      <td>Kristina Mladenovic</td>\n",
       "      <td>1.79</td>\n",
       "      <td>03:00</td>\n",
       "      <td>False</td>\n",
       "      <td>1.99</td>\n",
       "      <td>Leolia Jeanjean</td>\n",
       "    </tr>\n",
       "    <tr>\n",
       "      <th>962</th>\n",
       "      <td>2022-10-21</td>\n",
       "      <td>Elo_Fav</td>\n",
       "      <td>Elo_Dog</td>\n",
       "      <td>Caroline Garcia</td>\n",
       "      <td>1.87</td>\n",
       "      <td>Sloane Stephens</td>\n",
       "      <td>1.93</td>\n",
       "      <td>08:00</td>\n",
       "      <td>False</td>\n",
       "      <td>1.87</td>\n",
       "      <td>Caroline Garcia</td>\n",
       "    </tr>\n",
       "  </tbody>\n",
       "</table>\n",
       "</div>"
      ],
      "text/plain": [
       "           Date Prediction   Winner            Elo_Fav  Elo_Fav_Odds  \\\n",
       "975  2022-10-21    Elo_Dog  Elo_Dog  Diego Schwartzman          1.90   \n",
       "978  2022-10-21    Elo_Dog  Elo_Dog         Tommy Paul          1.83   \n",
       "960  2022-10-21    Elo_Fav  Elo_Dog    Leolia Jeanjean          1.99   \n",
       "962  2022-10-21    Elo_Fav  Elo_Dog    Caroline Garcia          1.87   \n",
       "\n",
       "                 Elo_Dog  Elo_Dog_Odds   Time Resulted  Prediction_Odds  \\\n",
       "975         David Goffin          1.89  01:30    False             1.89   \n",
       "978          Mikael Ymer          1.96  02:00    False             1.96   \n",
       "960  Kristina Mladenovic          1.79  03:00    False             1.99   \n",
       "962      Sloane Stephens          1.93  08:00    False             1.87   \n",
       "\n",
       "    Predicted_Player  \n",
       "975     David Goffin  \n",
       "978      Mikael Ymer  \n",
       "960  Leolia Jeanjean  \n",
       "962  Caroline Garcia  "
      ]
     },
     "execution_count": 870,
     "metadata": {},
     "output_type": "execute_result"
    }
   ],
   "source": [
    "today_resulted"
   ]
  }
 ],
 "metadata": {
  "kernelspec": {
   "display_name": "Python 3.9.5 64-bit",
   "language": "python",
   "name": "python3"
  },
  "language_info": {
   "codemirror_mode": {
    "name": "ipython",
    "version": 3
   },
   "file_extension": ".py",
   "mimetype": "text/x-python",
   "name": "python",
   "nbconvert_exporter": "python",
   "pygments_lexer": "ipython3",
   "version": "3.9.5"
  },
  "orig_nbformat": 4,
  "vscode": {
   "interpreter": {
    "hash": "9e3bfd5707cea17bcbe380e30b983be31a9c4e73ed42697506103186bbe325e5"
   }
  }
 },
 "nbformat": 4,
 "nbformat_minor": 2
}
