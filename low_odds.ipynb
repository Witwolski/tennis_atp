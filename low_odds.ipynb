{
 "cells": [
  {
   "cell_type": "code",
   "execution_count": 1,
   "metadata": {},
   "outputs": [],
   "source": [
    "#Fav / Dog Win percentage + odds filter\n",
    "import pandas as pd\n",
    "from sqlalchemy import create_engine\n",
    "import pandas as pd\n",
    "import numpy as np\n",
    "import datetime\n",
    "stake=1000\n",
    "\n",
    "devengine = create_engine(\"sqlite:///C:/Git/tennis_atp/database/bets_sqllite.db\")\n",
    "time_now = datetime.datetime.now()\n",
    "def hist_data(surface, sex, odds_low,odds_high,date,fav_percent,dog_percent):\n",
    "    data=pd.read_sql_query(f\"Select distinct * from results_{surface}_1 where date > '{date}' \",con=devengine)#.to_clipboard(index=False)\n",
    "    data[\"Fav_Odds\"] = data.Fav_Odds.astype(float)\n",
    "    data[\"Dog_Odds\"] = data.Dog_Odds.astype(float)\n",
    "    data['Fav_Win'] = data['Winner']==data['Fav']\n",
    "    data=data[(data['Fav_Odds']>=odds_low)&(data['Fav_Odds']<=odds_high)]\n",
    "    data=data[(data['fav_percent']>fav_percent)&(data['dog_percent']<dog_percent)]\n",
    "    data=data[data['Sex']==sex]\n",
    "    \n",
    "    \n",
    "    if len(data)>0 :\n",
    "        data['Profit'] = data.apply(lambda row: -stake if not row['Fav_Win'] else (stake * row['Fav_Odds']) - stake, axis=1)\n",
    "        print(len(data[data['Winner']==data['Fav']])/len(data),len(data),f\"${data['Profit'].sum()}\")\n",
    "        \n",
    "    return data"
   ]
  },
  {
   "cell_type": "code",
   "execution_count": 2,
   "metadata": {},
   "outputs": [
    {
     "name": "stdout",
     "output_type": "stream",
     "text": [
      "0.7894736842105263 57 $-4950.0\n",
      "0.8717948717948718 39 $230.0\n",
      "0.8333333333333334 6 $-270.0\n"
     ]
    }
   ],
   "source": [
    "date='2024-12-31'\n",
    "#Low Odds Hard Mens\n",
    "hard_men=hist_data('Hard','Mens',1.1,1.2,date,0, 1)\n",
    "\n",
    "#Low Odds Hard Womens\n",
    "hard_women=hist_data('Hard','Womens',1.1,1.2,date,0,0.7)\n",
    "\n",
    "#Low Odds Clay Womens\n",
    "clay_women=hist_data('Clay','Womens',1.1,1.3,date,0,0.7)\n",
    "\n",
    "#Low Odds Hard Mens\n",
    "clay_men=hist_data('Clay','Mens',1.1,1.2,date,0.3,1)"
   ]
  },
  {
   "cell_type": "code",
   "execution_count": 3,
   "metadata": {},
   "outputs": [
    {
     "data": {
      "text/plain": [
       "(-4990.0, 102)"
      ]
     },
     "execution_count": 3,
     "metadata": {},
     "output_type": "execute_result"
    }
   ],
   "source": [
    "combined=pd.concat([hard_men, hard_women,clay_men,clay_women],ignore_index=True)\n",
    "combined['Profit'].sum(),len(combined)\n"
   ]
  },
  {
   "cell_type": "code",
   "execution_count": 4,
   "metadata": {},
   "outputs": [
    {
     "name": "stdout",
     "output_type": "stream",
     "text": [
      "0.9 20 $250.0\n",
      "0.9411764705882353 17 $970.0\n"
     ]
    },
    {
     "data": {
      "text/plain": [
       "(1220.0, 37)"
      ]
     },
     "execution_count": 4,
     "metadata": {},
     "output_type": "execute_result"
    }
   ],
   "source": [
    "#Low Odds Hard Mens\n",
    "hard_men=hist_data('Hard','Mens',1.1,1.15,date,0, 1)\n",
    "\n",
    "#Low Odds Hard Womens\n",
    "hard_women=hist_data('Hard','Womens',1.1,1.15,date,0,1)\n",
    "combined=pd.concat([hard_men, hard_women],ignore_index=True)\n",
    "combined['Profit'].sum(),len(combined)"
   ]
  }
 ],
 "metadata": {
  "kernelspec": {
   "display_name": "Python 3",
   "language": "python",
   "name": "python3"
  },
  "language_info": {
   "codemirror_mode": {
    "name": "ipython",
    "version": 3
   },
   "file_extension": ".py",
   "mimetype": "text/x-python",
   "name": "python",
   "nbconvert_exporter": "python",
   "pygments_lexer": "ipython3",
   "version": "3.9.13"
  }
 },
 "nbformat": 4,
 "nbformat_minor": 2
}
