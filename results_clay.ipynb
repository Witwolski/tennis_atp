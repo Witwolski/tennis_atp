{
 "cells": [
  {
   "cell_type": "code",
   "execution_count": 473,
   "metadata": {},
   "outputs": [],
   "source": [
    "import pandas as pd\n",
    "from sqlalchemy import create_engine\n",
    "import pandas as pd\n",
    "import numpy as np\n",
    "import datetime\n",
    "devengine = create_engine(\"sqlite:///C:/Git/tennis_atp/database/bets_sqllite.db\")\n",
    "time_now = datetime.datetime.now()\n",
    "time_now_formatted = time_now.strftime(\"%Y-%m-%d\")"
   ]
  },
  {
   "cell_type": "code",
   "execution_count": 474,
   "metadata": {},
   "outputs": [],
   "source": [
    "data=pd.read_sql_query(\n",
    "    f\"Select DISTINCT Winner,Dog,Dog_Record,Winner_Odds,Fav_Record,percent,percent2,Fav_Games,Dog_Games,Fav_Odds,Fav,sex From results_clay1 --where Date > '2023-01-01' and Date not like '{time_now_formatted}'\",\n",
    "    con=devengine,)\n",
    "data['Fav_Odds']=data['Fav_Odds'].astype(float)\n",
    "data=data[data['Fav_Odds']>1.19]"
   ]
  },
  {
   "cell_type": "code",
   "execution_count": 475,
   "metadata": {},
   "outputs": [
    {
     "data": {
      "text/plain": [
       "0.84"
      ]
     },
     "execution_count": 475,
     "metadata": {},
     "output_type": "execute_result"
    }
   ],
   "source": [
    "data3=data[(data['Fav_Odds']>1.19)&(data['Fav_Odds']<1.35)&(data['percent2']<0.4)&(data['percent']>0.85)&(data['Dog_Games']>4)]\n",
    "len(data3[data3['Winner']==data3['Fav']])/len(data3)"
   ]
  },
  {
   "cell_type": "code",
   "execution_count": 476,
   "metadata": {},
   "outputs": [
    {
     "data": {
      "text/plain": [
       "25"
      ]
     },
     "execution_count": 476,
     "metadata": {},
     "output_type": "execute_result"
    }
   ],
   "source": [
    "len(data3)"
   ]
  },
  {
   "cell_type": "code",
   "execution_count": 477,
   "metadata": {},
   "outputs": [
    {
     "data": {
      "text/html": [
       "<div>\n",
       "<style scoped>\n",
       "    .dataframe tbody tr th:only-of-type {\n",
       "        vertical-align: middle;\n",
       "    }\n",
       "\n",
       "    .dataframe tbody tr th {\n",
       "        vertical-align: top;\n",
       "    }\n",
       "\n",
       "    .dataframe thead th {\n",
       "        text-align: right;\n",
       "    }\n",
       "</style>\n",
       "<table border=\"1\" class=\"dataframe\">\n",
       "  <thead>\n",
       "    <tr style=\"text-align: right;\">\n",
       "      <th></th>\n",
       "      <th>Winner</th>\n",
       "      <th>Dog</th>\n",
       "      <th>Dog_Record</th>\n",
       "      <th>Winner_Odds</th>\n",
       "      <th>Fav_Record</th>\n",
       "      <th>percent</th>\n",
       "      <th>percent2</th>\n",
       "      <th>Fav_Games</th>\n",
       "      <th>Dog_Games</th>\n",
       "      <th>Fav_Odds</th>\n",
       "      <th>Fav</th>\n",
       "      <th>Sex</th>\n",
       "    </tr>\n",
       "  </thead>\n",
       "  <tbody>\n",
       "    <tr>\n",
       "      <th>112</th>\n",
       "      <td>Tomas Farjat</td>\n",
       "      <td>Tomas Farjat</td>\n",
       "      <td>0%</td>\n",
       "      <td>3.29</td>\n",
       "      <td>90%</td>\n",
       "      <td>0.9</td>\n",
       "      <td>0.00</td>\n",
       "      <td>10</td>\n",
       "      <td>5</td>\n",
       "      <td>1.31</td>\n",
       "      <td>Francisco Comesana</td>\n",
       "      <td>Mens</td>\n",
       "    </tr>\n",
       "    <tr>\n",
       "      <th>433</th>\n",
       "      <td>Gerald Melzer</td>\n",
       "      <td>Gerald Melzer</td>\n",
       "      <td>25%</td>\n",
       "      <td>3.34</td>\n",
       "      <td>90%</td>\n",
       "      <td>0.9</td>\n",
       "      <td>0.25</td>\n",
       "      <td>10</td>\n",
       "      <td>16</td>\n",
       "      <td>1.30</td>\n",
       "      <td>Juan Pablo Varillas</td>\n",
       "      <td>Mens</td>\n",
       "    </tr>\n",
       "    <tr>\n",
       "      <th>1838</th>\n",
       "      <td>Pedro Sousa</td>\n",
       "      <td>Pedro Sousa</td>\n",
       "      <td>25%</td>\n",
       "      <td>3.11</td>\n",
       "      <td>100%</td>\n",
       "      <td>1.0</td>\n",
       "      <td>0.25</td>\n",
       "      <td>10</td>\n",
       "      <td>8</td>\n",
       "      <td>1.34</td>\n",
       "      <td>Facundo Bagnis</td>\n",
       "      <td>Mens</td>\n",
       "    </tr>\n",
       "    <tr>\n",
       "      <th>2717</th>\n",
       "      <td>Renzo Olivo</td>\n",
       "      <td>Renzo Olivo</td>\n",
       "      <td>0%</td>\n",
       "      <td>3.9</td>\n",
       "      <td>90%</td>\n",
       "      <td>0.9</td>\n",
       "      <td>0.00</td>\n",
       "      <td>10</td>\n",
       "      <td>6</td>\n",
       "      <td>1.24</td>\n",
       "      <td>Juan Pablo Varillas</td>\n",
       "      <td>Mens</td>\n",
       "    </tr>\n",
       "  </tbody>\n",
       "</table>\n",
       "</div>"
      ],
      "text/plain": [
       "             Winner            Dog Dog_Record Winner_Odds Fav_Record  percent  \\\n",
       "112    Tomas Farjat   Tomas Farjat         0%        3.29        90%      0.9   \n",
       "433   Gerald Melzer  Gerald Melzer        25%        3.34        90%      0.9   \n",
       "1838    Pedro Sousa    Pedro Sousa        25%        3.11       100%      1.0   \n",
       "2717    Renzo Olivo    Renzo Olivo         0%         3.9        90%      0.9   \n",
       "\n",
       "      percent2  Fav_Games  Dog_Games  Fav_Odds                  Fav   Sex  \n",
       "112       0.00         10          5      1.31   Francisco Comesana  Mens  \n",
       "433       0.25         10         16      1.30  Juan Pablo Varillas  Mens  \n",
       "1838      0.25         10          8      1.34       Facundo Bagnis  Mens  \n",
       "2717      0.00         10          6      1.24  Juan Pablo Varillas  Mens  "
      ]
     },
     "execution_count": 477,
     "metadata": {},
     "output_type": "execute_result"
    }
   ],
   "source": [
    "data3[data3['Winner']!=data3['Fav']]"
   ]
  },
  {
   "cell_type": "code",
   "execution_count": 478,
   "metadata": {},
   "outputs": [
    {
     "data": {
      "text/plain": [
       "0.5333333333333333"
      ]
     },
     "execution_count": 478,
     "metadata": {},
     "output_type": "execute_result"
    }
   ],
   "source": [
    "data1=data[(data['percent2']>0.79)&(data['percent']<0.4)]#&(data['Dog_Games']>4)]#&(data['Sex']=='Womens')]\n",
    "#data1=data[(data['Fav_Odds']<1.8)&(data['percent2']>0.5)&(data['percent']<0.2)&(data['Dog_Games']>6)]\n",
    "len(data1[data1['Winner']==data1['Dog']])/len(data1)"
   ]
  },
  {
   "cell_type": "code",
   "execution_count": 479,
   "metadata": {},
   "outputs": [
    {
     "name": "stdout",
     "output_type": "stream",
     "text": [
      "15\n"
     ]
    }
   ],
   "source": [
    "print(len(data1))"
   ]
  }
 ],
 "metadata": {
  "kernelspec": {
   "display_name": "Python 3",
   "language": "python",
   "name": "python3"
  },
  "language_info": {
   "codemirror_mode": {
    "name": "ipython",
    "version": 3
   },
   "file_extension": ".py",
   "mimetype": "text/x-python",
   "name": "python",
   "nbconvert_exporter": "python",
   "pygments_lexer": "ipython3",
   "version": "3.9.5 (tags/v3.9.5:0a7dcbd, May  3 2021, 17:27:52) [MSC v.1928 64 bit (AMD64)]"
  },
  "orig_nbformat": 4,
  "vscode": {
   "interpreter": {
    "hash": "9e3bfd5707cea17bcbe380e30b983be31a9c4e73ed42697506103186bbe325e5"
   }
  }
 },
 "nbformat": 4,
 "nbformat_minor": 2
}
