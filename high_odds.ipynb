{
 "cells": [
  {
   "cell_type": "code",
   "execution_count": 1,
   "metadata": {},
   "outputs": [],
   "source": [
    "#Fav / Dog Win percentage + odds filter\n",
    "import pandas as pd\n",
    "from sqlalchemy import create_engine\n",
    "import pandas as pd\n",
    "import numpy as np\n",
    "import datetime\n",
    "stake=100\n",
    "datestart='2025-01-01'\n",
    "dateend='2024--01'\n",
    "datefilter=''\n",
    "\n",
    "devengine = create_engine(\"sqlite:///C:/Git/tennis_atp/database/bets_sqllite.db\")\n",
    "time_now = datetime.datetime.now()\n",
    "\n",
    "def hist_data_dog(surface, sex, odds_low,odds_high,date,fav_percent,dog_percent):\n",
    "    data=pd.read_sql_query(f\"Select distinct * from results_{surface}_1 where date >= '{datestart}'\",con=devengine)#.to_clipboard(index=False)\n",
    "    data[\"Fav_Odds\"] = data.Fav_Odds.astype(float)\n",
    "    data[\"Dog_Odds\"] = data.Dog_Odds.astype(float)\n",
    "    data['Fav_Win'] = data['Winner']==data['Fav']\n",
    "    data=data[(data['Fav_Odds']>=odds_low)&(data['Fav_Odds']<=odds_high)]\n",
    "    data=data[(data['fav_percent']<fav_percent)&(data['dog_percent']>dog_percent)]\n",
    "    data=data[data['Sex']==sex]\n",
    "    \n",
    "    \n",
    "    if len(data)>0:\n",
    "        data['Profit'] = data.apply(lambda row: -stake if row['Fav_Win'] else (stake * row['Dog_Odds']) - stake, axis=1)\n",
    "    #    print(len(data[data['Winner']!=data['Fav']])/len(data),len(data),f\"${data['Profit'].sum()}\")\n",
    "    return data\n",
    "\n",
    "\n",
    "def hist_data_fav_elo(surface, sex, odds_low,odds_high,date,fav_elo,dog_elo):\n",
    "    data=pd.read_sql_query(f\"Select distinct * from results_{surface}_1 where date >= '{datestart}'\",con=devengine)#.to_clipboard(index=False)\n",
    "    data[\"Fav_Odds\"] = data.Fav_Odds.astype(float)\n",
    "    data[\"Dog_Odds\"] = data.Dog_Odds.astype(float)\n",
    "    data['Fav_Win'] = data['Winner']==data['Fav']\n",
    "    data=data[(data['Fav_Odds']>=odds_low)&(data['Fav_Odds']<=odds_high)]\n",
    "    #data=data[(data['Elo_Fav_Elo']<fav_percent)&(data['Elo_Dog_Elo']>dog_percent)]\n",
    "    data=data[(data['Elo_Dog_Elo']>=dog_elo)&(data['Elo_Fav_Elo']>=fav_elo)]\n",
    "    data=data[data['Sex']==sex]\n",
    "    \n",
    "    if len(data)>0:\n",
    "        data['Profit'] = data.apply(lambda row: -stake if not row['Fav_Win'] else (stake * row['Fav_Odds']) - stake, axis=1)\n",
    "        print(len(data[data['Winner']==data['Fav']])/len(data),len(data),f\"${data['Profit'].sum()}\")\n",
    "    return data\n",
    "\n",
    "def hist_data_dog_elo(surface, sex, odds_low,odds_high,date,fav_percent,dog_elo):\n",
    "    data=pd.read_sql_query(f\"Select distinct * from results_{surface}_1 where date >= '{datestart}'\",con=devengine)#.to_clipboard(index=False)\n",
    "    data[\"Fav_Odds\"] = data.Fav_Odds.astype(float)\n",
    "    data[\"Dog_Odds\"] = data.Dog_Odds.astype(float)\n",
    "    data['Fav_Win'] = data['Winner']==data['Fav']\n",
    "    data=data[(data['Fav_Odds']>=odds_low)&(data['Fav_Odds']<=odds_high)]\n",
    "    #data=data[(data['Elo_Fav_Elo']<fav_percent)&(data['Elo_Dog_Elo']>dog_percent)]\n",
    "    data=data[(data['Elo_Dog_Elo'])>dog_elo]\n",
    "    data=data[data['Sex']==sex]\n",
    "    \n",
    "    \n",
    "    if len(data)>0:\n",
    "        data['Profit'] = data.apply(lambda row: -stake if row['Fav_Win'] else (stake * row['Dog_Odds']) - stake, axis=1)\n",
    "        print(len(data[data['Winner']!=data['Fav']])/len(data),len(data),f\"${data['Profit'].sum()}\")\n",
    "    return data"
   ]
  },
  {
   "cell_type": "code",
   "execution_count": 2,
   "metadata": {},
   "outputs": [
    {
     "name": "stdout",
     "output_type": "stream",
     "text": [
      "0.3333333333333333 24 $-742.0\n"
     ]
    }
   ],
   "source": [
    "df=hist_data_dog('Clay','Mens',1,2,datefilter,1,0)\n",
    "filtered1=((df['dog_percent']>0)&(df['fav_percent']<0.3)&(df['Fav_Odds']>=1.5)&(df['Fav_Odds']<=1.6)) #mens clay 54% odds 1.5, 1.7\n",
    "filtered2=((df['dog_percent']>0)&(df['fav_percent']<0.3)&(df['Fav_Odds']>=1.7)&(df['Fav_Odds']<=1.8)) #mens clay 54% odds 1.5, 1.7\n",
    "filtered3=((df['dog_percent']>0)&(df['fav_percent']<10)&(df['Dog_Top100']>0.6)&(df['Fav_Odds']>=1.7)&(df['Fav_Odds']<=1.8)) #mens clay 60% odds 1.7\n",
    "filtered=df[filtered1|filtered2|filtered3]\n",
    "if len(filtered)>0:\n",
    "    print(len(filtered[filtered['Winner']!=filtered['Fav']])/len(filtered),len(filtered),f\"${filtered['Profit'].sum()}\")\n"
   ]
  },
  {
   "cell_type": "code",
   "execution_count": 3,
   "metadata": {},
   "outputs": [
    {
     "name": "stdout",
     "output_type": "stream",
     "text": [
      "0.4782608695652174 23 $334.0\n"
     ]
    }
   ],
   "source": [
    "df=hist_data_dog('Clay','Womens',1,2,datefilter,1,0)\n",
    "filtered=df[(df['dog_percent']>0.2)&(df['fav_percent']<1)&(df['Fav_Odds']>=1.5)&(df['Fav_Odds']<=1.6)] #womens clay 52% odds 1.5\n",
    "if len(filtered)>0:\n",
    "    print(len(filtered[filtered['Winner']!=filtered['Fav']])/len(filtered),len(filtered),f\"${filtered['Profit'].sum()}\")"
   ]
  },
  {
   "cell_type": "code",
   "execution_count": 4,
   "metadata": {},
   "outputs": [
    {
     "name": "stdout",
     "output_type": "stream",
     "text": [
      "0.47843137254901963 255 $512.0\n"
     ]
    }
   ],
   "source": [
    "df=hist_data_dog('Hard','Womens',1,2,datefilter,1,0)\n",
    "filtered1=((df['dog_percent']>0.5)&(df['fav_percent']<1)&(df['Fav_Odds']>=1.7)&(df['Fav_Odds']<=1.8)) #womens clay 53% odds 1.7\n",
    "filtered2=((df['dog_percent']>0.5)&(df['fav_percent']<0.6)&(df['Fav_Odds']>=1.7)&(df['Fav_Odds']<=1.8)) #womens clay 59% odds 1.7\n",
    "filtered3=((df['dog_percent']>0.5)&(df['fav_percent']<5)&(df['Fav_Odds']>=1.7)&(df['Fav_Odds']<=1.8)) #womens clay 59% odds 1.7\n",
    "filtered5=((df['dog_percent']>0)&(df['fav_percent']<0.5)&(df['Dog_Games']>10)&(df['Fav_Games']>10)&(df['Fav_Odds']>=1.5)&(df['Fav_Odds']<=1.9)) #1.5 - 1.9\n",
    "filtered6=((df['dog_percent']>0.5)&(df['fav_percent']<5)&(df['Dog_Games']>10)&(df['Fav_Games']>10)&(df['Fav_Odds']>=1.6)&(df['Fav_Odds']<=1.9))\n",
    "filtered7=((df['Dog_Top100']>0.4)&(df['fav_percent']<5)&(df['Dog_Games']>10)&(df['Fav_Games']>10)&(df['Fav_Odds']>=1.6)&(df['Fav_Odds']<=1.9)) #1.6 - 1.9\n",
    "filtered8=((df['Fav_Top100']<0.5)&(df['fav_percent']<5)&(df['Dog_Games']>10)&(df['Fav_Games']>10)&(df['Fav_Odds']>=1.5)&(df['Fav_Odds']<=1.9)) #1.5 - 1.9\n",
    "filtered21=((df['dog_percent']>0.5)&(df['fav_percent']<1)&(df['dog_rank']<=100)&(df['Fav_Odds']>=1.6)&(df['Fav_Odds']<=1.8)) #hard womens odds 1.6,1.7\n",
    "filtered22=((df['dog_percent']>0)&(df['fav_percent']<1)&(df['dog_rank']<=100)&(df['Fav_Odds']>=1.7)&(df['Fav_Odds']<=1.8)) #hard womens odds 1.7\n",
    "filtered24=((df['dog_percent']>0.5)&(df['fav_percent']<5)&(df['dog_rank']<=100)&(df['Fav_Odds']>=1.6)&(df['Fav_Odds']<=1.8)) #hard womens odds 1.6, 1.7\n",
    "filtered25=((df['dog_percent']>0.5)&(df['fav_percent']<5)&(df['dog_rank']<=200)&(df['Fav_Odds']>=1.7)&(df['Fav_Odds']<=1.8)) #hard womens odds 1.7\n",
    "filtered26=((df['dog_percent']>0)&(df['fav_percent']<0.8)&(df['dog_rank']<=100)&(df['Fav_Odds']>=1.7)&(df['Fav_Odds']<=1.8)) #hard womens odds 1.7\n",
    "filtered=df[filtered1|filtered2|filtered3|filtered5|filtered6|filtered7|filtered8|filtered21|filtered22|filtered24|filtered25|filtered26]\n",
    "if len(filtered)>0:\n",
    "    print(len(filtered[filtered['Winner']!=filtered['Fav']])/len(filtered),len(filtered),f\"${filtered['Profit'].sum()}\")"
   ]
  },
  {
   "cell_type": "code",
   "execution_count": 5,
   "metadata": {},
   "outputs": [
    {
     "name": "stdout",
     "output_type": "stream",
     "text": [
      "0.44680851063829785 188 $-1307.0\n"
     ]
    }
   ],
   "source": [
    "df=hist_data_dog('Hard','Mens',1,2,datefilter,1,0)\n",
    "filtered1=((df['Fav_Top100']<df['Dog_Top100'])&(df['dog_percent']>0.5)&(df['Fav_Odds']>=1.8)&(df['Fav_Odds']<=1.9)) #1.8, 58%\n",
    "filtered2=((df['dog_percent']>0.5)&(df['fav_percent']<0.6)&(df['Dog_Games']>10)&(df['Fav_Odds']>=1.7)&(df['Fav_Odds']<=1.8)) #1.7,1.8 55%\n",
    "filtered3=((df['dog_percent']>0.5)&(df['fav_percent']<0.5)&(df['Dog_Games']>10)&(df['Fav_Odds']>=1.7)&(df['Fav_Odds']<=1.8)) #1.7, 60%\n",
    "filtered4=((df['dog_percent']>0)&(df['fav_percent']<0.4)&(df['Dog_Games']>10)&(df['Fav_Odds']>=1.7)&(df['Fav_Odds']<=1.8)) #1.7, 55%\n",
    "filtered5=((df['dog_percent']>0)&(df['fav_percent']<0.5)&(df['Dog_Games']>10)&(df['Fav_Games']>10)&(df['Fav_Odds']>=1.7)&(df['Fav_Odds']<=1.8)) #1.7, 55%\n",
    "filtered6=((df['dog_percent']>0.3)&(df['fav_percent']<0.5)&(df['Dog_Games']>10)&(df['Fav_Games']>10)&(df['Fav_Odds']>=1.7)&(df['Fav_Odds']<=1.8)) #1.7, 56%\n",
    "filtered11=((df['dog_percent']>0.5)&(df['fav_percent']<0.6)&(df['Fav_Odds']>=1.5)&(df['Fav_Odds']<=1.6)) #mens hard 1.5, 1.8\n",
    "filtered31=((df['dog_percent']>0.5)&(df['fav_percent']<0.5)&(df['Fav_Odds']>=1.5)&(df['Fav_Odds']<=1.6)) #mens hard 1.5, 1.7, 1.8\n",
    "filtered41=((df['dog_percent']>0.5)&(df['fav_percent']<0.5)&(df['Fav_Odds']>=1.7)&(df['Fav_Odds']<=1.8))\n",
    "filtered61=((df['dog_percent']>0.5)&(df['fav_percent']<10)&(df['Fav_Odds']>=1.8)&(df['Fav_Odds']<=1.9)) #mens hard 58% odds 1.8    \n",
    "filtered01=((df['dog_percent']>0.5)&(df['fav_percent']<0.6)&(df['Fav_Odds']>=1.5)&(df['Fav_Odds']<=1.6)) #mens hard 1.5, 1.8\n",
    "filtered03=((df['dog_percent']>0.5)&(df['fav_percent']<0.5)&(df['Fav_Odds']>=1.5)&(df['Fav_Odds']<=1.6)) #mens hard 1.5, 1.7, 1.8\n",
    "filtered04=((df['dog_percent']>0.5)&(df['fav_percent']<0.5)&(df['Fav_Odds']>=1.7)&(df['Fav_Odds']<=1.8))\n",
    "filtered06=((df['dog_percent']>0.5)&(df['fav_percent']<10)&(df['Fav_Odds']>=1.8)&(df['Fav_Odds']<=1.9)) #mens hard 58% odds 1.8\n",
    "filtered=df[filtered1|filtered2|filtered3|filtered4|filtered5|filtered6|filtered11|filtered31|filtered41|filtered61|filtered01|filtered03|filtered04|filtered06]\n",
    "if len(filtered)>0:\n",
    "    print(len(filtered[filtered['Winner']!=filtered['Fav']])/len(filtered),len(filtered),f\"${filtered['Profit'].sum()}\")"
   ]
  }
 ],
 "metadata": {
  "kernelspec": {
   "display_name": "Python 3",
   "language": "python",
   "name": "python3"
  },
  "language_info": {
   "codemirror_mode": {
    "name": "ipython",
    "version": 3
   },
   "file_extension": ".py",
   "mimetype": "text/x-python",
   "name": "python",
   "nbconvert_exporter": "python",
   "pygments_lexer": "ipython3",
   "version": "3.13.2"
  }
 },
 "nbformat": 4,
 "nbformat_minor": 2
}
