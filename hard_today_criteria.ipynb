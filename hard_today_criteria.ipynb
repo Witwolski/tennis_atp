{
 "cells": [
  {
   "cell_type": "code",
   "execution_count": 4,
   "metadata": {},
   "outputs": [],
   "source": [
    "import pandas as pd\n",
    "from sqlalchemy import create_engine\n",
    "import pandas as pd\n",
    "import numpy as np\n",
    "import datetime\n",
    "devengine = create_engine(\"sqlite:///C:/Git/tennis_atp/database/bets_sqllite.db\")\n",
    "time_now = datetime.datetime.now()\n",
    "time_now_formatted = time_now.strftime(\"%Y-%m-%d\")\n",
    "hard_today=pd.read_pickle('.\\Hard_Today')"
   ]
  },
  {
   "cell_type": "code",
   "execution_count": 5,
   "metadata": {},
   "outputs": [
    {
     "data": {
      "text/html": [
       "<div>\n",
       "<style scoped>\n",
       "    .dataframe tbody tr th:only-of-type {\n",
       "        vertical-align: middle;\n",
       "    }\n",
       "\n",
       "    .dataframe tbody tr th {\n",
       "        vertical-align: top;\n",
       "    }\n",
       "\n",
       "    .dataframe thead th {\n",
       "        text-align: right;\n",
       "    }\n",
       "</style>\n",
       "<table border=\"1\" class=\"dataframe\">\n",
       "  <thead>\n",
       "    <tr style=\"text-align: right;\">\n",
       "      <th></th>\n",
       "      <th>Time</th>\n",
       "      <th>Fav</th>\n",
       "      <th>Fav_Odds</th>\n",
       "      <th>dog_percent</th>\n",
       "      <th>fav_percent</th>\n",
       "    </tr>\n",
       "  </thead>\n",
       "  <tbody>\n",
       "    <tr>\n",
       "      <th>0</th>\n",
       "      <td>02:15</td>\n",
       "      <td>Liam Draxl</td>\n",
       "      <td>1.86</td>\n",
       "      <td>0.800000</td>\n",
       "      <td>0.400000</td>\n",
       "    </tr>\n",
       "    <tr>\n",
       "      <th>1</th>\n",
       "      <td>06:30</td>\n",
       "      <td>Bernard Tomic</td>\n",
       "      <td>1.87</td>\n",
       "      <td>0.714286</td>\n",
       "      <td>0.454545</td>\n",
       "    </tr>\n",
       "  </tbody>\n",
       "</table>\n",
       "</div>"
      ],
      "text/plain": [
       "    Time            Fav  Fav_Odds  dog_percent  fav_percent\n",
       "0  02:15     Liam Draxl      1.86     0.800000     0.400000\n",
       "1  06:30  Bernard Tomic      1.87     0.714286     0.454545"
      ]
     },
     "execution_count": 5,
     "metadata": {},
     "output_type": "execute_result"
    }
   ],
   "source": [
    "hard_today[['Time','Fav','Fav_Odds','dog_percent','fav_percent']][((hard_today['fav_percent']<0.4)|(hard_today['fav_rank']>150))&(hard_today['Fav_Odds']>1.8)]"
   ]
  },
  {
   "cell_type": "code",
   "execution_count": 6,
   "metadata": {},
   "outputs": [
    {
     "data": {
      "text/html": [
       "<div>\n",
       "<style scoped>\n",
       "    .dataframe tbody tr th:only-of-type {\n",
       "        vertical-align: middle;\n",
       "    }\n",
       "\n",
       "    .dataframe tbody tr th {\n",
       "        vertical-align: top;\n",
       "    }\n",
       "\n",
       "    .dataframe thead th {\n",
       "        text-align: right;\n",
       "    }\n",
       "</style>\n",
       "<table border=\"1\" class=\"dataframe\">\n",
       "  <thead>\n",
       "    <tr style=\"text-align: right;\">\n",
       "      <th></th>\n",
       "      <th>Time</th>\n",
       "      <th>Fav</th>\n",
       "      <th>Fav_Odds</th>\n",
       "      <th>dog_percent</th>\n",
       "      <th>fav_percent</th>\n",
       "    </tr>\n",
       "  </thead>\n",
       "  <tbody>\n",
       "  </tbody>\n",
       "</table>\n",
       "</div>"
      ],
      "text/plain": [
       "Empty DataFrame\n",
       "Columns: [Time, Fav, Fav_Odds, dog_percent, fav_percent]\n",
       "Index: []"
      ]
     },
     "execution_count": 6,
     "metadata": {},
     "output_type": "execute_result"
    }
   ],
   "source": [
    "hard_today[['Time','Fav','Fav_Odds','dog_percent','fav_percent']][((hard_today['dog_rank']<50)|(hard_today['fav_percent']<0.6)|(hard_today['dog_percent']>0.4)|(hard_today['dog_rank']<100)|\n",
    "                                                            (hard_today['dog_percent']>0.5)|(hard_today['fav_percent']<1))&(hard_today['Fav_Odds']<1.2)&(hard_today['Fav_Odds']>1.1)]"
   ]
  }
 ],
 "metadata": {
  "kernelspec": {
   "display_name": "Python 3",
   "language": "python",
   "name": "python3"
  },
  "language_info": {
   "codemirror_mode": {
    "name": "ipython",
    "version": 3
   },
   "file_extension": ".py",
   "mimetype": "text/x-python",
   "name": "python",
   "nbconvert_exporter": "python",
   "pygments_lexer": "ipython3",
   "version": "3.9.5"
  },
  "orig_nbformat": 4
 },
 "nbformat": 4,
 "nbformat_minor": 2
}
