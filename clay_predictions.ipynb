{
 "cells": [
  {
   "cell_type": "code",
   "execution_count": 91,
   "metadata": {},
   "outputs": [],
   "source": [
    "import pandas as pd\n",
    "from sqlalchemy import create_engine\n",
    "import pandas as pd\n",
    "import numpy as np\n",
    "import datetime\n",
    "devengine = create_engine(\"sqlite:///C:/Git/tennis_atp/database/bets_sqllite.db\")\n",
    "time_now = datetime.datetime.now()\n",
    "time_now_formatted = time_now.strftime(\"%Y-%m-%d\")\n",
    "clay_today=pd.read_pickle('.\\Clay_Today')\n",
    "clay_today=clay_today[clay_today['Resulted']=='False']"
   ]
  },
  {
   "cell_type": "code",
   "execution_count": 92,
   "metadata": {},
   "outputs": [
    {
     "data": {
      "text/html": [
       "<div>\n",
       "<style scoped>\n",
       "    .dataframe tbody tr th:only-of-type {\n",
       "        vertical-align: middle;\n",
       "    }\n",
       "\n",
       "    .dataframe tbody tr th {\n",
       "        vertical-align: top;\n",
       "    }\n",
       "\n",
       "    .dataframe thead th {\n",
       "        text-align: right;\n",
       "    }\n",
       "</style>\n",
       "<table border=\"1\" class=\"dataframe\">\n",
       "  <thead>\n",
       "    <tr style=\"text-align: right;\">\n",
       "      <th></th>\n",
       "      <th>Date</th>\n",
       "      <th>Sex</th>\n",
       "      <th>Tournament</th>\n",
       "      <th>Player_1</th>\n",
       "      <th>Player_2</th>\n",
       "      <th>Player_1_Odds</th>\n",
       "      <th>Player_2_Odds</th>\n",
       "      <th>Surface</th>\n",
       "      <th>Player_1_Rank</th>\n",
       "      <th>Player_2_Rank</th>\n",
       "    </tr>\n",
       "  </thead>\n",
       "  <tbody>\n",
       "    <tr>\n",
       "      <th>0</th>\n",
       "      <td>2021-06-06</td>\n",
       "      <td>Mens</td>\n",
       "      <td>Nottingham challenger383</td>\n",
       "      <td>Igor Sijsling</td>\n",
       "      <td>Matteo Viola</td>\n",
       "      <td>1.64</td>\n",
       "      <td>2.13</td>\n",
       "      <td>grass</td>\n",
       "      <td>313.0</td>\n",
       "      <td>251.0</td>\n",
       "    </tr>\n",
       "    <tr>\n",
       "      <th>1</th>\n",
       "      <td>2021-06-06</td>\n",
       "      <td>Mens</td>\n",
       "      <td>Nottingham challenger383</td>\n",
       "      <td>Aleksandar Vukic</td>\n",
       "      <td>Max Purcell</td>\n",
       "      <td>1.66</td>\n",
       "      <td>2.09</td>\n",
       "      <td>grass</td>\n",
       "      <td>209.0</td>\n",
       "      <td>282.0</td>\n",
       "    </tr>\n",
       "    <tr>\n",
       "      <th>2</th>\n",
       "      <td>2021-06-06</td>\n",
       "      <td>Mens</td>\n",
       "      <td>Nottingham challenger383</td>\n",
       "      <td>Borna Gojo</td>\n",
       "      <td>Nathaniel Lammons</td>\n",
       "      <td>1.17</td>\n",
       "      <td>4.38</td>\n",
       "      <td>grass</td>\n",
       "      <td>233.0</td>\n",
       "      <td>1235.0</td>\n",
       "    </tr>\n",
       "    <tr>\n",
       "      <th>3</th>\n",
       "      <td>2021-06-06</td>\n",
       "      <td>Mens</td>\n",
       "      <td>Nottingham challenger383</td>\n",
       "      <td>Marius Copil</td>\n",
       "      <td>James Ward</td>\n",
       "      <td>1.72</td>\n",
       "      <td>2.00</td>\n",
       "      <td>grass</td>\n",
       "      <td>228.0</td>\n",
       "      <td>329.0</td>\n",
       "    </tr>\n",
       "    <tr>\n",
       "      <th>4</th>\n",
       "      <td>2021-06-06</td>\n",
       "      <td>Mens</td>\n",
       "      <td>Nottingham challenger383</td>\n",
       "      <td>Ramkumar Ramanathan</td>\n",
       "      <td>Anton Matusevich</td>\n",
       "      <td>1.46</td>\n",
       "      <td>2.54</td>\n",
       "      <td>grass</td>\n",
       "      <td>216.0</td>\n",
       "      <td>588.0</td>\n",
       "    </tr>\n",
       "    <tr>\n",
       "      <th>...</th>\n",
       "      <td>...</td>\n",
       "      <td>...</td>\n",
       "      <td>...</td>\n",
       "      <td>...</td>\n",
       "      <td>...</td>\n",
       "      <td>...</td>\n",
       "      <td>...</td>\n",
       "      <td>...</td>\n",
       "      <td>...</td>\n",
       "      <td>...</td>\n",
       "    </tr>\n",
       "    <tr>\n",
       "      <th>2140</th>\n",
       "      <td>2023-06-16</td>\n",
       "      <td>Womens</td>\n",
       "      <td>Nottingham0</td>\n",
       "      <td>Harriet Dart</td>\n",
       "      <td>Anhelina Kalinina</td>\n",
       "      <td>2.29</td>\n",
       "      <td>1.63</td>\n",
       "      <td>grass</td>\n",
       "      <td>143.0</td>\n",
       "      <td>25.0</td>\n",
       "    </tr>\n",
       "    <tr>\n",
       "      <th>2141</th>\n",
       "      <td>2023-06-16</td>\n",
       "      <td>Womens</td>\n",
       "      <td>Hertogenbosch9</td>\n",
       "      <td>Ekaterina Alexandrova</td>\n",
       "      <td>Emina Bektas</td>\n",
       "      <td>1.19</td>\n",
       "      <td>4.75</td>\n",
       "      <td>grass</td>\n",
       "      <td>26.0</td>\n",
       "      <td>186.0</td>\n",
       "    </tr>\n",
       "    <tr>\n",
       "      <th>2142</th>\n",
       "      <td>2023-06-16</td>\n",
       "      <td>Womens</td>\n",
       "      <td>Hertogenbosch9</td>\n",
       "      <td>Aliaksandra Sasnovich</td>\n",
       "      <td>Liudmila Samsonova</td>\n",
       "      <td>2.84</td>\n",
       "      <td>1.43</td>\n",
       "      <td>grass</td>\n",
       "      <td>71.0</td>\n",
       "      <td>15.0</td>\n",
       "    </tr>\n",
       "    <tr>\n",
       "      <th>2143</th>\n",
       "      <td>2023-06-16</td>\n",
       "      <td>Womens</td>\n",
       "      <td>Hertogenbosch9</td>\n",
       "      <td>Celine Naef</td>\n",
       "      <td>Caty Mcnally</td>\n",
       "      <td>3.79</td>\n",
       "      <td>1.27</td>\n",
       "      <td>grass</td>\n",
       "      <td>202.0</td>\n",
       "      <td>62.0</td>\n",
       "    </tr>\n",
       "    <tr>\n",
       "      <th>2144</th>\n",
       "      <td>2023-06-16</td>\n",
       "      <td>Womens</td>\n",
       "      <td>Hertogenbosch9</td>\n",
       "      <td>Viktoria Hruncakova</td>\n",
       "      <td>Bianca Andreescu</td>\n",
       "      <td>4.81</td>\n",
       "      <td>1.19</td>\n",
       "      <td>grass</td>\n",
       "      <td>144.0</td>\n",
       "      <td>37.0</td>\n",
       "    </tr>\n",
       "  </tbody>\n",
       "</table>\n",
       "<p>2145 rows × 10 columns</p>\n",
       "</div>"
      ],
      "text/plain": [
       "            Date     Sex                Tournament               Player_1  \\\n",
       "0     2021-06-06    Mens  Nottingham challenger383          Igor Sijsling   \n",
       "1     2021-06-06    Mens  Nottingham challenger383       Aleksandar Vukic   \n",
       "2     2021-06-06    Mens  Nottingham challenger383             Borna Gojo   \n",
       "3     2021-06-06    Mens  Nottingham challenger383           Marius Copil   \n",
       "4     2021-06-06    Mens  Nottingham challenger383    Ramkumar Ramanathan   \n",
       "...          ...     ...                       ...                    ...   \n",
       "2140  2023-06-16  Womens               Nottingham0           Harriet Dart   \n",
       "2141  2023-06-16  Womens            Hertogenbosch9  Ekaterina Alexandrova   \n",
       "2142  2023-06-16  Womens            Hertogenbosch9  Aliaksandra Sasnovich   \n",
       "2143  2023-06-16  Womens            Hertogenbosch9            Celine Naef   \n",
       "2144  2023-06-16  Womens            Hertogenbosch9    Viktoria Hruncakova   \n",
       "\n",
       "                Player_2  Player_1_Odds  Player_2_Odds Surface  Player_1_Rank  \\\n",
       "0           Matteo Viola           1.64           2.13   grass          313.0   \n",
       "1            Max Purcell           1.66           2.09   grass          209.0   \n",
       "2      Nathaniel Lammons           1.17           4.38   grass          233.0   \n",
       "3             James Ward           1.72           2.00   grass          228.0   \n",
       "4       Anton Matusevich           1.46           2.54   grass          216.0   \n",
       "...                  ...            ...            ...     ...            ...   \n",
       "2140   Anhelina Kalinina           2.29           1.63   grass          143.0   \n",
       "2141        Emina Bektas           1.19           4.75   grass           26.0   \n",
       "2142  Liudmila Samsonova           2.84           1.43   grass           71.0   \n",
       "2143        Caty Mcnally           3.79           1.27   grass          202.0   \n",
       "2144    Bianca Andreescu           4.81           1.19   grass          144.0   \n",
       "\n",
       "      Player_2_Rank  \n",
       "0             251.0  \n",
       "1             282.0  \n",
       "2            1235.0  \n",
       "3             329.0  \n",
       "4             588.0  \n",
       "...             ...  \n",
       "2140           25.0  \n",
       "2141          186.0  \n",
       "2142           15.0  \n",
       "2143           62.0  \n",
       "2144           37.0  \n",
       "\n",
       "[2145 rows x 10 columns]"
      ]
     },
     "execution_count": 92,
     "metadata": {},
     "output_type": "execute_result"
    }
   ],
   "source": [
    "pd.read_sql_query(\n",
    "        f\"Select DISTINCT * From AllMatches where surface like 'Grass'\",\n",
    "        con=devengine,\n",
    "    )"
   ]
  },
  {
   "cell_type": "code",
   "execution_count": 93,
   "metadata": {},
   "outputs": [],
   "source": [
    "filter1=clay_today[['Time','Fav','Fav_Odds','dog_percent','fav_percent']][((clay_today['dog_percent']<0.20)|(clay_today['fav_percent']>0.7)|(clay_today['dog_percent']>0.4)|(clay_today['fav_percent']>0.8)|\n",
    "                                                            (clay_today['dog_percent']>0.5))&(clay_today['Fav_Odds']<1.2)&(clay_today['Fav_Odds']>1.1)]"
   ]
  },
  {
   "cell_type": "code",
   "execution_count": 94,
   "metadata": {},
   "outputs": [],
   "source": [
    "filter2=clay_today[['Time','Fav','Fav_Odds','dog_percent','fav_percent']][((clay_today['dog_percent']>0.5)|(clay_today['fav_rank']<100)|(clay_today['dog_rank']<100)|(clay_today['dog_rank']<50)\n",
    "                                                            )&(clay_today['Fav_Odds']>1.8)]"
   ]
  },
  {
   "cell_type": "code",
   "execution_count": 95,
   "metadata": {},
   "outputs": [],
   "source": [
    "filter3=clay_today[['Time','Fav','Fav_Odds','dog_percent','fav_percent']][((clay_today['dog_percent']<0.2)|(clay_today['dog_percent']>0.7))&(clay_today['Fav_Odds']>1.7)&(clay_today['Fav_Odds']<1.8)]"
   ]
  },
  {
   "cell_type": "code",
   "execution_count": 96,
   "metadata": {},
   "outputs": [],
   "source": [
    "filter4=clay_today[['Time','Fav','Fav_Odds','dog_percent','fav_percent']][((clay_today['fav_percent']<0.2)|(clay_today['fav_percent']<0.3))&(clay_today['Fav_Odds']>1.6)&(clay_today['Fav_Odds']<1.7)]"
   ]
  },
  {
   "cell_type": "code",
   "execution_count": 97,
   "metadata": {},
   "outputs": [],
   "source": [
    "dog1=clay_today[['Time','Dog','Dog_Odds','dog_percent','fav_percent']][(clay_today['dog_percent']>0.7)&(clay_today['Fav_Odds']>1.6)&(clay_today['Fav_Odds']<1.7)]"
   ]
  },
  {
   "cell_type": "code",
   "execution_count": 98,
   "metadata": {},
   "outputs": [],
   "source": [
    "dog2=clay_today[['Time','Dog','Dog_Odds','dog_percent','fav_percent']][(clay_today['fav_percent']<0.3)&(clay_today['Fav_Odds']>1.8)]"
   ]
  },
  {
   "cell_type": "code",
   "execution_count": 99,
   "metadata": {},
   "outputs": [],
   "source": [
    "dog3=clay_today[['Time','Dog','Dog_Odds','dog_percent','fav_percent']][(clay_today['fav_percent']<0.3)&(clay_today['Fav_Odds']>=1.4)&(clay_today['Fav_Odds']<=1.5)]"
   ]
  },
  {
   "cell_type": "code",
   "execution_count": 100,
   "metadata": {},
   "outputs": [],
   "source": [
    "dog5=clay_today[['Time','Dog','Dog_Odds','dog_percent','fav_percent']][((clay_today['fav_percent']>0.5)|(clay_today['fav_percent']>0.6))&(clay_today['Fav_Odds']>=1.7)&(clay_today['Fav_Odds']<=1.8)]"
   ]
  },
  {
   "cell_type": "code",
   "execution_count": 101,
   "metadata": {},
   "outputs": [],
   "source": [
    "dog7=clay_today[['Time','Dog','Dog_Odds','dog_percent','fav_percent']][((clay_today['fav_rank']>100)|(clay_today['fav_percent']<0.3)|(clay_today['dog_rank']>50))&\n",
    "                                                                       (clay_today['Fav_Odds']>=1.8)&(clay_today['Fav_Odds']<=1.9)]"
   ]
  },
  {
   "cell_type": "code",
   "execution_count": 102,
   "metadata": {},
   "outputs": [],
   "source": [
    "filter5=clay_today[['Time','Fav','Fav_Odds','dog_percent','fav_percent']][((clay_today['dog_rank']>50)|(clay_today['fav_percent']>0.7)|(clay_today['dog_percent']>0.4)|(clay_today['fav_percent']>0.8)|\n",
    "                                                            (clay_today['dog_percent']>0.5)|(clay_today['dog_percent']<0.2))&(clay_today['Fav_Odds']<=1.2)&(clay_today['Fav_Odds']>=1.1)]"
   ]
  },
  {
   "cell_type": "code",
   "execution_count": 103,
   "metadata": {},
   "outputs": [],
   "source": [
    "filter6=clay_today[['Time','Fav','Fav_Odds','dog_percent','fav_percent']][((clay_today['fav_percent']<0.4)|(clay_today['fav_percent']<0.5))&(clay_today['Fav_Odds']>=1.2)&(clay_today['Fav_Odds']<=1.3)]"
   ]
  },
  {
   "cell_type": "code",
   "execution_count": 104,
   "metadata": {},
   "outputs": [
    {
     "data": {
      "text/html": [
       "<div>\n",
       "<style scoped>\n",
       "    .dataframe tbody tr th:only-of-type {\n",
       "        vertical-align: middle;\n",
       "    }\n",
       "\n",
       "    .dataframe tbody tr th {\n",
       "        vertical-align: top;\n",
       "    }\n",
       "\n",
       "    .dataframe thead th {\n",
       "        text-align: right;\n",
       "    }\n",
       "</style>\n",
       "<table border=\"1\" class=\"dataframe\">\n",
       "  <thead>\n",
       "    <tr style=\"text-align: right;\">\n",
       "      <th></th>\n",
       "      <th>Time</th>\n",
       "      <th>Fav</th>\n",
       "      <th>Fav_Odds</th>\n",
       "      <th>dog_percent</th>\n",
       "      <th>fav_percent</th>\n",
       "    </tr>\n",
       "  </thead>\n",
       "  <tbody>\n",
       "  </tbody>\n",
       "</table>\n",
       "</div>"
      ],
      "text/plain": [
       "Empty DataFrame\n",
       "Columns: [Time, Fav, Fav_Odds, dog_percent, fav_percent]\n",
       "Index: []"
      ]
     },
     "execution_count": 104,
     "metadata": {},
     "output_type": "execute_result"
    }
   ],
   "source": [
    "pd.concat([filter1,filter2,filter3,filter4,filter5,filter6]).sort_values(by='Time')"
   ]
  },
  {
   "cell_type": "code",
   "execution_count": 105,
   "metadata": {},
   "outputs": [
    {
     "data": {
      "text/html": [
       "<div>\n",
       "<style scoped>\n",
       "    .dataframe tbody tr th:only-of-type {\n",
       "        vertical-align: middle;\n",
       "    }\n",
       "\n",
       "    .dataframe tbody tr th {\n",
       "        vertical-align: top;\n",
       "    }\n",
       "\n",
       "    .dataframe thead th {\n",
       "        text-align: right;\n",
       "    }\n",
       "</style>\n",
       "<table border=\"1\" class=\"dataframe\">\n",
       "  <thead>\n",
       "    <tr style=\"text-align: right;\">\n",
       "      <th></th>\n",
       "      <th>Time</th>\n",
       "      <th>Dog</th>\n",
       "      <th>Dog_Odds</th>\n",
       "      <th>dog_percent</th>\n",
       "      <th>fav_percent</th>\n",
       "    </tr>\n",
       "  </thead>\n",
       "  <tbody>\n",
       "  </tbody>\n",
       "</table>\n",
       "</div>"
      ],
      "text/plain": [
       "Empty DataFrame\n",
       "Columns: [Time, Dog, Dog_Odds, dog_percent, fav_percent]\n",
       "Index: []"
      ]
     },
     "execution_count": 105,
     "metadata": {},
     "output_type": "execute_result"
    }
   ],
   "source": [
    "pd.concat([dog1,dog2,dog3,dog5,dog7]).sort_values(by='Time')"
   ]
  }
 ],
 "metadata": {
  "kernelspec": {
   "display_name": "Python 3",
   "language": "python",
   "name": "python3"
  },
  "language_info": {
   "codemirror_mode": {
    "name": "ipython",
    "version": 3
   },
   "file_extension": ".py",
   "mimetype": "text/x-python",
   "name": "python",
   "nbconvert_exporter": "python",
   "pygments_lexer": "ipython3",
   "version": "3.9.5"
  },
  "orig_nbformat": 4
 },
 "nbformat": 4,
 "nbformat_minor": 2
}
