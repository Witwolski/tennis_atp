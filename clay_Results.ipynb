{
 "cells": [
  {
   "cell_type": "code",
   "execution_count": 126,
   "metadata": {},
   "outputs": [],
   "source": [
    "import pandas as pd\n",
    "from sqlalchemy import create_engine\n",
    "import pandas as pd\n",
    "import numpy as np\n",
    "import datetime\n",
    "odds_filter=1.75\n",
    "devengine = create_engine(\"sqlite:///C:/Git/tennis_atp/database/bets_sqllite.db\")\n",
    "time_now = datetime.datetime.now()\n",
    "time_now_formatted = time_now.strftime(\"%Y-%m-%d\")\n",
    "data=pd.read_sql_query(\"Select distinct * from results_clay_1 where date > '2024-01-01'\",con=devengine)\n",
    "data[\"Fav_Odds\"] = data.Fav_Odds.astype(float)\n",
    "data[\"Dog_Odds\"] = data.Dog_Odds.astype(float)\n",
    "data['Fav_Win'] = data['Winner']==data['Fav']\n",
    "data=data[data['Fav_Odds']>odds_filter]"
   ]
  },
  {
   "cell_type": "code",
   "execution_count": 122,
   "metadata": {},
   "outputs": [],
   "source": [
    "test_data = data.copy()\n",
    "test_data1 = data.copy()\n",
    "test_data['Winner_Dog'] = test_data['Dog'] == test_data['Winner']\n",
    "test_data['Winner_EloDog'] = test_data['Elo_Fav'] != test_data['Winner']\n",
    "column_order = ['Winner_Dog', 'Winner_EloDog'] + [col for col in test_data if col not in ['Winner_Dog', 'Winner_EloDog']]\n",
    "test_data = test_data[column_order]\n",
    "test_data=test_data.drop(columns=['Winner_Odds'])\n",
    "test_data=test_data[[ 'fav_percent', 'dog_percent','fav_rank', 'dog_rank', 'Elo_Fav_Elo', 'Elo_Dog_Elo', 'Fav_Top100', 'Dog_Top100','Winner','Fav','Dog','Fav_Odds','Dog_Odds','Elo_Fav']]\n",
    "\n",
    "# Create a single set of random indices for all columns\n",
    "random_order = np.random.permutation(test_data.index)\n",
    "\n",
    "# Create new columns with randomized order for specific columns\n",
    "test_data['Player_1'] = test_data.apply(lambda row: np.random.choice([row['Fav'], row['Dog']]), axis=1)\n",
    "test_data['Player_2'] = test_data.apply(lambda x: x['Fav'] if x['Player_1']==x['Dog'] else x['Dog'],axis=1)\n",
    "test_data['Player_1_Odds'] = test_data.apply(lambda x: x['Fav_Odds'] if x['Player_1']!=x['Dog'] else x['Dog_Odds'],axis=1)\n",
    "test_data['Player_2_Odds'] = test_data.apply(lambda x: x['Fav_Odds'] if x['Player_1']==x['Dog'] else x['Dog_Odds'],axis=1)\n",
    "test_data['Player_1_Rank'] = test_data.apply(lambda x: x['fav_rank'] if x['Player_1']!=x['Dog'] else x['dog_rank'],axis=1)\n",
    "test_data['Player_2_Rank'] = test_data.apply(lambda x: x['fav_rank'] if x['Player_1']==x['Dog'] else x['dog_rank'],axis=1)\n",
    "test_data['Player_1_Top100'] = test_data.apply(lambda x: x['Fav_Top100'] if x['Player_1']!=x['Dog'] else x['Dog_Top100'],axis=1)\n",
    "test_data['Player_2_Top100'] = test_data.apply(lambda x: x['Fav_Top100'] if x['Player_1']==x['Dog'] else x['Dog_Top100'],axis=1)\n",
    "test_data['Player_1_percent'] = test_data.apply(lambda x: x['fav_percent'] if x['Player_1']!=x['Dog'] else x['dog_percent'],axis=1)\n",
    "test_data['Player_2_percent'] = test_data.apply(lambda x: x['fav_percent'] if x['Player_1']==x['Dog'] else x['dog_percent'],axis=1)\n",
    "test_data['FavEloFav']=test_data['Fav']==test_data['Elo_Fav']\n",
    "test_data['Fav_Elo']=test_data.apply(lambda x: x['Elo_Fav_Elo'] if (x['FavEloFav']==True) else x['Elo_Dog_Elo'],axis=1)\n",
    "test_data['Dog_Elo']=test_data.apply(lambda x: x['Elo_Fav_Elo'] if (x['FavEloFav']==False) else x['Elo_Dog_Elo'],axis=1)\n",
    "\n",
    "test_data['Player_1_Elo'] = test_data.apply(lambda x: x['Fav_Elo'] if x['Player_1']!=x['Dog'] else x['Dog_Elo'],axis=1)\n",
    "test_data['Player_2_Elo'] = test_data.apply(lambda x: x['Fav_Elo'] if x['Player_1']==x['Dog'] else x['Dog_Elo'],axis=1)\n",
    "test_data['Player_1_Win'] = test_data['Player_1']==test_data['Winner']\n",
    "#test_data['Player_2_Elo'] = test_data.apply(lambda x: x['Elo_Dog_Elo'] if ((x['Player_1']==x['Dog'])&(x['FavEloFav2']==True)) else x['Elo_Fav_Elo'],axis=1)\n",
    "# Filter columns with the word 'Player'\n",
    "player_columns = [col for col in test_data.columns if 'Player' in col]\n",
    "\n",
    "# Keep only the columns with the word 'Player'\n",
    "test_data = test_data[player_columns]\n",
    "test_data=test_data.drop(columns=['Player_1','Player_2','Player_1_Odds','Player_2_Odds'])"
   ]
  },
  {
   "cell_type": "code",
   "execution_count": 123,
   "metadata": {},
   "outputs": [],
   "source": [
    "import numpy as np\n",
    "\n",
    "# Assuming your DataFrame is named 'test_data'\n",
    "data['fav_percent_adj'] = np.ceil(data['fav_percent'] * 10) / 10\n",
    "data['dog_percent_adj'] = np.ceil(data['dog_percent'] * 10) / 10\n",
    "\n"
   ]
  },
  {
   "cell_type": "code",
   "execution_count": 124,
   "metadata": {},
   "outputs": [],
   "source": [
    "# Assuming your DataFrame is named 'test_data'\n",
    "result = data.groupby(['fav_percent_adj', 'dog_percent_adj'])['Fav_Win'].agg(['mean', 'count']).reset_index()\n",
    "\n",
    "result.rename(columns={'mean': 'Fav_Win_Percentage', 'count': 'Match_Count'}, inplace=True)\n",
    "\n",
    "\n",
    "result.sort_values(by='Fav_Win_Percentage').to_pickle('Fav_Win_Percentage_Clay')"
   ]
  },
  {
   "cell_type": "code",
   "execution_count": 132,
   "metadata": {},
   "outputs": [
    {
     "data": {
      "text/plain": [
       "(0.42857142857142855, 7)"
      ]
     },
     "execution_count": 132,
     "metadata": {},
     "output_type": "execute_result"
    }
   ],
   "source": [
    "hard_today=data\n",
    "Fav_Win_Percentage=result\n",
    "hard_today['fav_percent_adj'] = np.ceil(hard_today['fav_percent'] * 10) / 10\n",
    "hard_today['dog_percent_adj'] = np.ceil(hard_today['dog_percent'] * 10) / 10\n",
    "hard_today_win_percent=pd.merge(hard_today,Fav_Win_Percentage,left_on=['fav_percent_adj','dog_percent_adj'],right_on=['fav_percent_adj','dog_percent_adj'])\n",
    "#hard_today_win_percent=hard_today_win_percent[hard_today_win_percent['Resulted']!='Falxse']\n",
    "hard_today_win_percent=hard_today_win_percent[hard_today_win_percent['Sex']!='Womens']\n",
    "results=hard_today_win_percent[['Fav_Win_Percentage','Fav','Fav_Odds','fav_percent','dog_percent','Dog','Dog_Odds','Fav_Win']]#.sort_values(by=['Time'],ascending=True )\n",
    "\n",
    "results=results[results['Fav_Win_Percentage']<.4]\n",
    "len(results[results['Fav_Win']==True])/len(results),len(results)"
   ]
  }
 ],
 "metadata": {
  "kernelspec": {
   "display_name": "Python 3",
   "language": "python",
   "name": "python3"
  },
  "language_info": {
   "codemirror_mode": {
    "name": "ipython",
    "version": 3
   },
   "file_extension": ".py",
   "mimetype": "text/x-python",
   "name": "python",
   "nbconvert_exporter": "python",
   "pygments_lexer": "ipython3",
   "version": "3.9.13"
  },
  "orig_nbformat": 4
 },
 "nbformat": 4,
 "nbformat_minor": 2
}
