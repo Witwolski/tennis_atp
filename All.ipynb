{
 "cells": [
  {
   "cell_type": "code",
   "execution_count": 2,
   "metadata": {},
   "outputs": [],
   "source": [
    "from sqlalchemy import create_engine\n",
    "import pandas as pd\n",
    "import numpy as np\n",
    "devengine = create_engine(\"sqlite:///C:/Git/tennis_atp/database/bets_sqllite.db\")"
   ]
  },
  {
   "cell_type": "code",
   "execution_count": 10,
   "metadata": {},
   "outputs": [],
   "source": [
    "elo_data = pd.read_sql_query(\n",
    "    \"Select DISTINCT * From Elo_AllMatches_Daily_All\",\n",
    "    con=devengine,\n",
    ")"
   ]
  },
  {
   "cell_type": "code",
   "execution_count": 11,
   "metadata": {},
   "outputs": [
    {
     "name": "stdout",
     "output_type": "stream",
     "text": [
      "3.4 3.5 0.3055555555555556\n",
      "3850.0\n",
      "3.6 3.7 0.3466666666666667\n",
      "19925.0\n",
      "3.8 3.9 0.27586206896551724\n",
      "3425.0\n"
     ]
    }
   ],
   "source": [
    "for x in range(3,4):\n",
    "    for y in range(0,10):\n",
    "        lower=x+(y*0.1)\n",
    "        upper=x+((y+1)*0.1)\n",
    "\n",
    "        test1=elo_data[(elo_data['Elo_Dog_Odds'].ge(lower))&(elo_data['Elo_Dog_Odds'].le(upper))].copy()\n",
    "        percent=len(test1[test1['Winner']!=test1['Elo_Fav']])/len(test1)\n",
    "        STAKE=500\n",
    "        test1['Profit']=test1.apply(lambda x: -STAKE if x['Winner']==x['Elo_Fav'] else (STAKE * x['Elo_Dog_Odds'])-STAKE,axis=1)\n",
    "        if test1['Profit'].sum() >0 and len(test1) >20:\n",
    "            print(lower,upper,percent)\n",
    "            print(test1['Profit'].sum())\n"
   ]
  },
  {
   "cell_type": "code",
   "execution_count": 12,
   "metadata": {},
   "outputs": [],
   "source": [
    "for x in range(3,4):\n",
    "    for y in range(0,10):\n",
    "        lower=x+(y*0.1)\n",
    "        upper=x+((y+1)*0.1)\n",
    "\n",
    "        test1=elo_data[(elo_data['Elo_Fav_Odds'].ge(lower))&(elo_data['Elo_Fav_Odds'].le(upper))].copy()\n",
    "        percent=len(test1[test1['Winner']==test1['Elo_Fav']])/len(test1)\n",
    "        STAKE=500\n",
    "        test1['Profit']=test1.apply(lambda x: -STAKE if x['Winner']!=x['Elo_Fav'] else (STAKE * x['Elo_Fav_Odds'])-STAKE,axis=1)\n",
    "        if test1['Profit'].sum() >0 and len(test1) >20:\n",
    "            print(lower,upper,percent)\n",
    "            print(test1['Profit'].sum())\n"
   ]
  },
  {
   "cell_type": "code",
   "execution_count": 31,
   "metadata": {},
   "outputs": [],
   "source": [
    "elo_data_today = pd.read_sql_query(\n",
    "    \"Select * From Elo_AllMatches_Daily_All_Today --where date < '2022-09-01' and date > '2022-06-31' and (Surface like 'Hard' or Surface like '') --and Elo_Fav_Est_Odds < 1.8\",\n",
    "    con=devengine,\n",
    ")"
   ]
  },
  {
   "cell_type": "code",
   "execution_count": 32,
   "metadata": {},
   "outputs": [
    {
     "data": {
      "text/html": [
       "<div>\n",
       "<style scoped>\n",
       "    .dataframe tbody tr th:only-of-type {\n",
       "        vertical-align: middle;\n",
       "    }\n",
       "\n",
       "    .dataframe tbody tr th {\n",
       "        vertical-align: top;\n",
       "    }\n",
       "\n",
       "    .dataframe thead th {\n",
       "        text-align: right;\n",
       "    }\n",
       "</style>\n",
       "<table border=\"1\" class=\"dataframe\">\n",
       "  <thead>\n",
       "    <tr style=\"text-align: right;\">\n",
       "      <th></th>\n",
       "      <th>Surface</th>\n",
       "      <th>Date</th>\n",
       "      <th>Sex</th>\n",
       "      <th>Winner</th>\n",
       "      <th>Elo_Fav</th>\n",
       "      <th>Elo_Dog</th>\n",
       "      <th>Elo_Fav_Odds</th>\n",
       "      <th>Elo_Dog_Odds</th>\n",
       "      <th>Elo_Fav_Est_Odds</th>\n",
       "      <th>Elo_Dog_Est_Odds</th>\n",
       "      <th>Elo_Fav_Elo</th>\n",
       "      <th>Elo_Dog_Elo</th>\n",
       "      <th>Elo_Fav_Total</th>\n",
       "      <th>Elo_Dog_Total</th>\n",
       "    </tr>\n",
       "  </thead>\n",
       "  <tbody>\n",
       "    <tr>\n",
       "      <th>6</th>\n",
       "      <td>Hard</td>\n",
       "      <td>2022-09-17</td>\n",
       "      <td>Mens</td>\n",
       "      <td>Michael Mmoh</td>\n",
       "      <td>Yasutaka Uchiyama</td>\n",
       "      <td>Michael Mmoh</td>\n",
       "      <td>2.1</td>\n",
       "      <td>1.69</td>\n",
       "      <td>1.37949</td>\n",
       "      <td>3.635118</td>\n",
       "      <td>1716.577896</td>\n",
       "      <td>1548.25786</td>\n",
       "      <td>22</td>\n",
       "      <td>32</td>\n",
       "    </tr>\n",
       "  </tbody>\n",
       "</table>\n",
       "</div>"
      ],
      "text/plain": [
       "  Surface        Date   Sex        Winner            Elo_Fav       Elo_Dog  \\\n",
       "6    Hard  2022-09-17  Mens  Michael Mmoh  Yasutaka Uchiyama  Michael Mmoh   \n",
       "\n",
       "   Elo_Fav_Odds  Elo_Dog_Odds  Elo_Fav_Est_Odds  Elo_Dog_Est_Odds  \\\n",
       "6           2.1          1.69           1.37949          3.635118   \n",
       "\n",
       "   Elo_Fav_Elo  Elo_Dog_Elo  Elo_Fav_Total  Elo_Dog_Total  \n",
       "6  1716.577896   1548.25786             22             32  "
      ]
     },
     "execution_count": 32,
     "metadata": {},
     "output_type": "execute_result"
    }
   ],
   "source": [
    "elo_data_today[((elo_data_today['Elo_Fav_Odds'].ge(2))&(elo_data_today['Elo_Fav_Odds'].le(2.1)))]#|((elo_data_today['Elo_Fav_Odds'].ge(2.2))&(elo_data_today['Elo_Fav_Odds'].le(2.3)))]\n"
   ]
  },
  {
   "cell_type": "code",
   "execution_count": 33,
   "metadata": {},
   "outputs": [
    {
     "data": {
      "text/html": [
       "<div>\n",
       "<style scoped>\n",
       "    .dataframe tbody tr th:only-of-type {\n",
       "        vertical-align: middle;\n",
       "    }\n",
       "\n",
       "    .dataframe tbody tr th {\n",
       "        vertical-align: top;\n",
       "    }\n",
       "\n",
       "    .dataframe thead th {\n",
       "        text-align: right;\n",
       "    }\n",
       "</style>\n",
       "<table border=\"1\" class=\"dataframe\">\n",
       "  <thead>\n",
       "    <tr style=\"text-align: right;\">\n",
       "      <th></th>\n",
       "      <th>Surface</th>\n",
       "      <th>Date</th>\n",
       "      <th>Sex</th>\n",
       "      <th>Winner</th>\n",
       "      <th>Elo_Fav</th>\n",
       "      <th>Elo_Dog</th>\n",
       "      <th>Elo_Fav_Odds</th>\n",
       "      <th>Elo_Dog_Odds</th>\n",
       "      <th>Elo_Fav_Est_Odds</th>\n",
       "      <th>Elo_Dog_Est_Odds</th>\n",
       "      <th>Elo_Fav_Elo</th>\n",
       "      <th>Elo_Dog_Elo</th>\n",
       "      <th>Elo_Fav_Total</th>\n",
       "      <th>Elo_Dog_Total</th>\n",
       "    </tr>\n",
       "  </thead>\n",
       "  <tbody>\n",
       "  </tbody>\n",
       "</table>\n",
       "</div>"
      ],
      "text/plain": [
       "Empty DataFrame\n",
       "Columns: [Surface, Date, Sex, Winner, Elo_Fav, Elo_Dog, Elo_Fav_Odds, Elo_Dog_Odds, Elo_Fav_Est_Odds, Elo_Dog_Est_Odds, Elo_Fav_Elo, Elo_Dog_Elo, Elo_Fav_Total, Elo_Dog_Total]\n",
       "Index: []"
      ]
     },
     "execution_count": 33,
     "metadata": {},
     "output_type": "execute_result"
    }
   ],
   "source": [
    "elo_data_today[((elo_data_today['Elo_Dog_Odds'].ge(2.4))&(elo_data_today['Elo_Dog_Odds'].le(2.5)))]#|((elo_data_today['Elo_Fav_Odds'].ge(2.2))&(elo_data_today['Elo_Fav_Odds'].le(2.3)))]\n"
   ]
  }
 ],
 "metadata": {
  "kernelspec": {
   "display_name": "Python 3.9.13 64-bit",
   "language": "python",
   "name": "python3"
  },
  "language_info": {
   "codemirror_mode": {
    "name": "ipython",
    "version": 3
   },
   "file_extension": ".py",
   "mimetype": "text/x-python",
   "name": "python",
   "nbconvert_exporter": "python",
   "pygments_lexer": "ipython3",
   "version": "3.9.13"
  },
  "orig_nbformat": 4,
  "vscode": {
   "interpreter": {
    "hash": "6fff98fc3b3d81bd655c2cc48858186e4d9e2db7b515bf1c3221888f12a62f87"
   }
  }
 },
 "nbformat": 4,
 "nbformat_minor": 2
}
