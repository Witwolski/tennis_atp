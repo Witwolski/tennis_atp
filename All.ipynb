{
 "cells": [
  {
   "cell_type": "code",
   "execution_count": 1,
   "metadata": {},
   "outputs": [],
   "source": [
    "from sqlalchemy import create_engine\n",
    "import pandas as pd\n",
    "import numpy as np\n",
    "devengine = create_engine(\"sqlite:///C:/Git/tennis_atp/database/bets_sqllite.db\")"
   ]
  },
  {
   "cell_type": "code",
   "execution_count": 26,
   "metadata": {},
   "outputs": [],
   "source": [
    "elo_data = pd.read_sql_query(\n",
    "    \"Select DISTINCT * From Elo_AllMatches_Daily_All\",\n",
    "    con=devengine,\n",
    ")"
   ]
  },
  {
   "cell_type": "code",
   "execution_count": 27,
   "metadata": {},
   "outputs": [],
   "source": [
    "elo_data=elo_data[elo_data['Sex']=='Womens']"
   ]
  },
  {
   "cell_type": "code",
   "execution_count": 28,
   "metadata": {},
   "outputs": [
    {
     "name": "stdout",
     "output_type": "stream",
     "text": [
      "1.2 1.3 0.8\n",
      "50.0\n",
      "1.3 1.4 0.8723404255319149\n",
      "4245.0\n",
      "1.7000000000000002 1.8 0.6404494382022472\n",
      "5540.0\n",
      "2.4 2.5 0.42990654205607476\n",
      "2745.0\n",
      "2.8 2.9 0.36619718309859156\n",
      "1450.0\n",
      "3.0 3.1 0.359375\n",
      "3030.0\n",
      "3.1 3.2 0.36507936507936506\n",
      "4680.0\n",
      "3.4 3.5 0.3333333333333333\n",
      "3135.0\n",
      "3.5 3.6 0.29411764705882354\n",
      "680.0\n"
     ]
    }
   ],
   "source": [
    "for x in range(1,4):\n",
    "    for y in range(0,10):\n",
    "        lower=x+(y*0.1)\n",
    "        upper=x+((y+1)*0.1)\n",
    "\n",
    "        test1=elo_data[(elo_data['Elo_Dog_Odds'].ge(lower))&(elo_data['Elo_Dog_Odds'].le(upper))].copy()\n",
    "        percent=len(test1[test1['Winner']!=test1['Elo_Fav']])/len(test1)\n",
    "        STAKE=500\n",
    "        test1['Profit']=test1.apply(lambda x: -STAKE if x['Winner']==x['Elo_Fav'] else (STAKE * x['Elo_Dog_Odds'])-STAKE,axis=1)\n",
    "        if test1['Profit'].sum() >0 and len(test1) >20:\n",
    "            print(lower,upper,percent)\n",
    "            print(test1['Profit'].sum())\n"
   ]
  },
  {
   "cell_type": "code",
   "execution_count": 29,
   "metadata": {},
   "outputs": [
    {
     "name": "stdout",
     "output_type": "stream",
     "text": [
      "1.1 1.2 0.8835616438356164\n",
      "2490.0\n",
      "1.6 1.7000000000000002 0.6145833333333334\n",
      "980.0\n",
      "2.3 2.4 0.4375\n",
      "545.0\n"
     ]
    }
   ],
   "source": [
    "for x in range(1,4):\n",
    "    for y in range(0,10):\n",
    "        lower=x+(y*0.1)\n",
    "        upper=x+((y+1)*0.1)\n",
    "\n",
    "        test1=elo_data[(elo_data['Elo_Fav_Odds'].ge(lower))&(elo_data['Elo_Fav_Odds'].le(upper))].copy()\n",
    "        if len(test1) > 0:\n",
    "            percent=len(test1[test1['Winner']==test1['Elo_Fav']])/len(test1)\n",
    "            STAKE=500\n",
    "            test1['Profit']=test1.apply(lambda x: -STAKE if x['Winner']!=x['Elo_Fav'] else (STAKE * x['Elo_Fav_Odds'])-STAKE,axis=1)\n",
    "            if test1['Profit'].sum() >0 and len(test1) >20:\n",
    "                print(lower,upper,percent)\n",
    "                print(test1['Profit'].sum())\n"
   ]
  },
  {
   "cell_type": "code",
   "execution_count": 64,
   "metadata": {},
   "outputs": [],
   "source": [
    "elo_data_today = pd.read_sql_query(\n",
    "    \"Select * From Elo_AllMatches_Daily_All_Today --where date < '2022-09-01' and date > '2022-06-31' and (Surface like 'Hard' or Surface like '') --and Elo_Fav_Est_Odds < 1.8\",\n",
    "    con=devengine,\n",
    ")"
   ]
  },
  {
   "cell_type": "code",
   "execution_count": 65,
   "metadata": {},
   "outputs": [
    {
     "data": {
      "text/html": [
       "<div>\n",
       "<style scoped>\n",
       "    .dataframe tbody tr th:only-of-type {\n",
       "        vertical-align: middle;\n",
       "    }\n",
       "\n",
       "    .dataframe tbody tr th {\n",
       "        vertical-align: top;\n",
       "    }\n",
       "\n",
       "    .dataframe thead th {\n",
       "        text-align: right;\n",
       "    }\n",
       "</style>\n",
       "<table border=\"1\" class=\"dataframe\">\n",
       "  <thead>\n",
       "    <tr style=\"text-align: right;\">\n",
       "      <th></th>\n",
       "      <th>Surface</th>\n",
       "      <th>Date</th>\n",
       "      <th>Sex</th>\n",
       "      <th>Winner</th>\n",
       "      <th>Resulted</th>\n",
       "      <th>Time</th>\n",
       "      <th>Elo_Fav</th>\n",
       "      <th>Elo_Dog</th>\n",
       "      <th>Elo_Fav_Odds</th>\n",
       "      <th>Elo_Dog_Odds</th>\n",
       "      <th>Elo_Fav_Est_Odds</th>\n",
       "      <th>Elo_Dog_Est_Odds</th>\n",
       "      <th>Elo_Fav_Elo</th>\n",
       "      <th>Elo_Dog_Elo</th>\n",
       "      <th>Elo_Fav_Total</th>\n",
       "      <th>Elo_Dog_Total</th>\n",
       "    </tr>\n",
       "  </thead>\n",
       "  <tbody>\n",
       "    <tr>\n",
       "      <th>20</th>\n",
       "      <td>Hard</td>\n",
       "      <td>2022-09-18</td>\n",
       "      <td>Mens</td>\n",
       "      <td>Facundo Mena</td>\n",
       "      <td>False</td>\n",
       "      <td>09:00</td>\n",
       "      <td>Facundo Mena</td>\n",
       "      <td>Keegan Smith</td>\n",
       "      <td>2.09</td>\n",
       "      <td>1.68</td>\n",
       "      <td>1.422243</td>\n",
       "      <td>3.368307</td>\n",
       "      <td>1668.550615</td>\n",
       "      <td>1518.775433</td>\n",
       "      <td>20</td>\n",
       "      <td>11</td>\n",
       "    </tr>\n",
       "    <tr>\n",
       "      <th>31</th>\n",
       "      <td>Hard</td>\n",
       "      <td>2022-09-18</td>\n",
       "      <td>Womens</td>\n",
       "      <td>Chihiro Muramatsu</td>\n",
       "      <td>False</td>\n",
       "      <td>15:00</td>\n",
       "      <td>Chihiro Muramatsu</td>\n",
       "      <td>Rina Saigo</td>\n",
       "      <td>2.03</td>\n",
       "      <td>1.70</td>\n",
       "      <td>1.931995</td>\n",
       "      <td>2.072968</td>\n",
       "      <td>1553.952478</td>\n",
       "      <td>1541.717850</td>\n",
       "      <td>2</td>\n",
       "      <td>2</td>\n",
       "    </tr>\n",
       "  </tbody>\n",
       "</table>\n",
       "</div>"
      ],
      "text/plain": [
       "   Surface        Date     Sex             Winner Resulted   Time  \\\n",
       "20    Hard  2022-09-18    Mens       Facundo Mena    False  09:00   \n",
       "31    Hard  2022-09-18  Womens  Chihiro Muramatsu    False  15:00   \n",
       "\n",
       "              Elo_Fav       Elo_Dog  Elo_Fav_Odds  Elo_Dog_Odds  \\\n",
       "20       Facundo Mena  Keegan Smith          2.09          1.68   \n",
       "31  Chihiro Muramatsu    Rina Saigo          2.03          1.70   \n",
       "\n",
       "    Elo_Fav_Est_Odds  Elo_Dog_Est_Odds  Elo_Fav_Elo  Elo_Dog_Elo  \\\n",
       "20          1.422243          3.368307  1668.550615  1518.775433   \n",
       "31          1.931995          2.072968  1553.952478  1541.717850   \n",
       "\n",
       "    Elo_Fav_Total  Elo_Dog_Total  \n",
       "20             20             11  \n",
       "31              2              2  "
      ]
     },
     "execution_count": 65,
     "metadata": {},
     "output_type": "execute_result"
    }
   ],
   "source": [
    "elo_data_today[((elo_data_today['Elo_Fav_Odds'].ge(2))&(elo_data_today['Elo_Fav_Odds'].le(2.1)))]#|((elo_data_today['Elo_Fav_Odds'].ge(2.2))&(elo_data_today['Elo_Fav_Odds'].le(2.3)))]\n"
   ]
  },
  {
   "cell_type": "code",
   "execution_count": 66,
   "metadata": {},
   "outputs": [
    {
     "data": {
      "text/html": [
       "<div>\n",
       "<style scoped>\n",
       "    .dataframe tbody tr th:only-of-type {\n",
       "        vertical-align: middle;\n",
       "    }\n",
       "\n",
       "    .dataframe tbody tr th {\n",
       "        vertical-align: top;\n",
       "    }\n",
       "\n",
       "    .dataframe thead th {\n",
       "        text-align: right;\n",
       "    }\n",
       "</style>\n",
       "<table border=\"1\" class=\"dataframe\">\n",
       "  <thead>\n",
       "    <tr style=\"text-align: right;\">\n",
       "      <th></th>\n",
       "      <th>Surface</th>\n",
       "      <th>Date</th>\n",
       "      <th>Sex</th>\n",
       "      <th>Winner</th>\n",
       "      <th>Resulted</th>\n",
       "      <th>Time</th>\n",
       "      <th>Elo_Fav</th>\n",
       "      <th>Elo_Dog</th>\n",
       "      <th>Elo_Fav_Odds</th>\n",
       "      <th>Elo_Dog_Odds</th>\n",
       "      <th>Elo_Fav_Est_Odds</th>\n",
       "      <th>Elo_Dog_Est_Odds</th>\n",
       "      <th>Elo_Fav_Elo</th>\n",
       "      <th>Elo_Dog_Elo</th>\n",
       "      <th>Elo_Fav_Total</th>\n",
       "      <th>Elo_Dog_Total</th>\n",
       "    </tr>\n",
       "  </thead>\n",
       "  <tbody>\n",
       "    <tr>\n",
       "      <th>30</th>\n",
       "      <td>Hard</td>\n",
       "      <td>2022-09-18</td>\n",
       "      <td>Womens</td>\n",
       "      <td>Nadia Podoroska</td>\n",
       "      <td>True</td>\n",
       "      <td>23:40</td>\n",
       "      <td>Linda Fruhvirtova</td>\n",
       "      <td>Nadia Podoroska</td>\n",
       "      <td>1.57</td>\n",
       "      <td>2.41</td>\n",
       "      <td>1.784323</td>\n",
       "      <td>2.274984</td>\n",
       "      <td>1640.223164</td>\n",
       "      <td>1598.021253</td>\n",
       "      <td>10</td>\n",
       "      <td>10</td>\n",
       "    </tr>\n",
       "  </tbody>\n",
       "</table>\n",
       "</div>"
      ],
      "text/plain": [
       "   Surface        Date     Sex           Winner Resulted   Time  \\\n",
       "30    Hard  2022-09-18  Womens  Nadia Podoroska     True  23:40   \n",
       "\n",
       "              Elo_Fav          Elo_Dog  Elo_Fav_Odds  Elo_Dog_Odds  \\\n",
       "30  Linda Fruhvirtova  Nadia Podoroska          1.57          2.41   \n",
       "\n",
       "    Elo_Fav_Est_Odds  Elo_Dog_Est_Odds  Elo_Fav_Elo  Elo_Dog_Elo  \\\n",
       "30          1.784323          2.274984  1640.223164  1598.021253   \n",
       "\n",
       "    Elo_Fav_Total  Elo_Dog_Total  \n",
       "30             10             10  "
      ]
     },
     "execution_count": 66,
     "metadata": {},
     "output_type": "execute_result"
    }
   ],
   "source": [
    "elo_data_today[((elo_data_today['Elo_Dog_Odds'].ge(2.4))&(elo_data_today['Elo_Dog_Odds'].le(2.5)))]#|((elo_data_today['Elo_Fav_Odds'].ge(2.2))&(elo_data_today['Elo_Fav_Odds'].le(2.3)))]\n"
   ]
  }
 ],
 "metadata": {
  "kernelspec": {
   "display_name": "Python 3.9.13 64-bit",
   "language": "python",
   "name": "python3"
  },
  "language_info": {
   "codemirror_mode": {
    "name": "ipython",
    "version": 3
   },
   "file_extension": ".py",
   "mimetype": "text/x-python",
   "name": "python",
   "nbconvert_exporter": "python",
   "pygments_lexer": "ipython3",
   "version": "3.9.13"
  },
  "orig_nbformat": 4,
  "vscode": {
   "interpreter": {
    "hash": "6fff98fc3b3d81bd655c2cc48858186e4d9e2db7b515bf1c3221888f12a62f87"
   }
  }
 },
 "nbformat": 4,
 "nbformat_minor": 2
}
