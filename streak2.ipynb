{
 "cells": [
  {
   "cell_type": "code",
   "execution_count": 222,
   "metadata": {},
   "outputs": [],
   "source": [
    "from sqlalchemy import create_engine\n",
    "import pandas as pd\n",
    "import numpy as np\n",
    "import datetime\n",
    "devengine = create_engine(\"sqlite:///C:/Git/tennis_atp/database/bets_sqllite.db\")\n",
    "time_now = datetime.datetime.now()\n",
    "time_now_formatted = time_now.strftime(\"%Y-%m-%d\")"
   ]
  },
  {
   "cell_type": "code",
   "execution_count": 223,
   "metadata": {},
   "outputs": [],
   "source": [
    "elo_hard=pd.read_sql_query(\n",
    "    f\"Select DISTINCT * From Elo_AllMatches_Hard where Date > '2022-01-01' and Date not like '{time_now_formatted}' --and Fav_odds>1.2 and Fav_odds<1.4 \",\n",
    "    con=devengine,)\n",
    "winner_dataset=elo_hard[['Date','Winner','Winner_Odds']].copy()\n",
    "winner_dataset['Player']=winner_dataset['Winner']\n",
    "winner_dataset['Odds']=winner_dataset['Winner_Odds']\n",
    "winner_dataset['Win/Loss']='Win'\n",
    "loser_dataset=elo_hard[['Date','Loser','Loser_Odds']].copy()\n",
    "loser_dataset['Player']=loser_dataset['Loser']\n",
    "loser_dataset['Odds']=loser_dataset['Loser_Odds']\n",
    "loser_dataset['Win/Loss']='Loss'\n",
    "winner_dataset.drop(columns=['Winner','Winner_Odds'],inplace=True)\n",
    "loser_dataset.drop(columns=['Loser','Loser_Odds'],inplace=True)\n",
    "data_concat=pd.concat([winner_dataset,loser_dataset])\n",
    "data_concat=data_concat.sort_index()\n",
    "data_concat['Odds']=data_concat.Odds.astype(float)\n",
    "player1='Pavel Kotov'\n",
    "player2='Altug Celikbilek'\n",
    "player1=data_concat[data_concat['Player']==player1].copy()\n",
    "#player1['Streak'] = player1['Win/Loss'].groupby((player1['Win/Loss'] != player1['Win/Loss'].shift()).cumsum()).cumcount() + 1\n",
    "#player1['Streak']=player1.apply(lambda x: 'W'+str(x['Streak']) if x['Win/Loss']=='Win' else 'L'+str(x['Streak']),axis=1)\n",
    "#player1[player1['Odds']<1.4].tail(20)\n",
    "player2=data_concat[data_concat['Player']==player2].copy()\n",
    "#player2['Streak'] = player2['Win/Loss'].groupby((player2['Win/Loss'] != player2['Win/Loss'].shift()).cumsum()).cumcount() + 1\n",
    "#player2['Streak']=player2.apply(lambda x: 'W'+str(x['Streak']) if x['Win/Loss']=='Win' else 'L'+str(x['Streak']),axis=1)\n",
    "#player2[player2['Odds']>2.5].tail(20)\n",
    "player2=player2[player2['Odds']>2]\n",
    "len(player2[player2['Win/Loss']=='Win'])/len(player2)\n",
    "player1=player1[player1['Odds']<1.5]\n",
    "len(player1[player1['Win/Loss']=='Win'])/len(player1)\n",
    "print(len(player1),len(player2))"
   ]
  }
 ],
 "metadata": {
  "kernelspec": {
   "display_name": "Python 3.9.13 64-bit",
   "language": "python",
   "name": "python3"
  },
  "language_info": {
   "codemirror_mode": {
    "name": "ipython",
    "version": 3
   },
   "file_extension": ".py",
   "mimetype": "text/x-python",
   "name": "python",
   "nbconvert_exporter": "python",
   "pygments_lexer": "ipython3",
   "version": "3.9.13"
  },
  "orig_nbformat": 4,
  "vscode": {
   "interpreter": {
    "hash": "6fff98fc3b3d81bd655c2cc48858186e4d9e2db7b515bf1c3221888f12a62f87"
   }
  }
 },
 "nbformat": 4,
 "nbformat_minor": 2
}
