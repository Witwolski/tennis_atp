{
 "cells": [
  {
   "cell_type": "code",
   "execution_count": 1,
   "metadata": {},
   "outputs": [
    {
     "data": {
      "text/html": [
       "<div>\n",
       "<style scoped>\n",
       "    .dataframe tbody tr th:only-of-type {\n",
       "        vertical-align: middle;\n",
       "    }\n",
       "\n",
       "    .dataframe tbody tr th {\n",
       "        vertical-align: top;\n",
       "    }\n",
       "\n",
       "    .dataframe thead th {\n",
       "        text-align: right;\n",
       "    }\n",
       "</style>\n",
       "<table border=\"1\" class=\"dataframe\">\n",
       "  <thead>\n",
       "    <tr style=\"text-align: right;\">\n",
       "      <th></th>\n",
       "      <th>Time</th>\n",
       "      <th>Fav_Top100</th>\n",
       "      <th>Dog_Top100</th>\n",
       "      <th>Fav</th>\n",
       "      <th>fav_rank</th>\n",
       "      <th>dog_rank</th>\n",
       "      <th>Fav_Odds</th>\n",
       "      <th>fav_percent</th>\n",
       "      <th>Fav_Serve%</th>\n",
       "      <th>Fav_Return%</th>\n",
       "      <th>fav_last_five_win_perc</th>\n",
       "      <th>Dog</th>\n",
       "      <th>Dog_Odds</th>\n",
       "      <th>dog_percent</th>\n",
       "      <th>Dog_Serve%</th>\n",
       "      <th>Dog_Return%</th>\n",
       "      <th>dog_last_five_win_perc</th>\n",
       "    </tr>\n",
       "  </thead>\n",
       "  <tbody>\n",
       "  </tbody>\n",
       "</table>\n",
       "</div>"
      ],
      "text/plain": [
       "Empty DataFrame\n",
       "Columns: [Time, Fav_Top100, Dog_Top100, Fav, fav_rank, dog_rank, Fav_Odds, fav_percent, Fav_Serve%, Fav_Return%, fav_last_five_win_perc, Dog, Dog_Odds, dog_percent, Dog_Serve%, Dog_Return%, dog_last_five_win_perc]\n",
       "Index: []"
      ]
     },
     "execution_count": 1,
     "metadata": {},
     "output_type": "execute_result"
    }
   ],
   "source": [
    "import pandas as pd\n",
    "from sqlalchemy import create_engine\n",
    "import pandas as pd\n",
    "import numpy as np\n",
    "import datetime\n",
    "devengine = create_engine(\"sqlite:///C:/Git/tennis_atp/database/bets_sqllite.db\")\n",
    "time_now = datetime.datetime.now()\n",
    "time_now_formatted = time_now.strftime(\"%Y-%m-%d\")\n",
    "clay_today=pd.read_pickle('.\\Clay_Today')\n",
    "clay_today=clay_today[clay_today['Resulted']=='False']\n",
    "clay_today[['Time','Fav_Top100','Dog_Top100','Fav','fav_rank','dog_rank','Fav_Odds','fav_percent','Fav_Serve%','Fav_Return%','fav_last_five_win_perc','Dog','Dog_Odds','dog_percent','Dog_Serve%','Dog_Return%','dog_last_five_win_perc']]"
   ]
  }
 ],
 "metadata": {
  "kernelspec": {
   "display_name": "Python 3",
   "language": "python",
   "name": "python3"
  },
  "language_info": {
   "codemirror_mode": {
    "name": "ipython",
    "version": 3
   },
   "file_extension": ".py",
   "mimetype": "text/x-python",
   "name": "python",
   "nbconvert_exporter": "python",
   "pygments_lexer": "ipython3",
   "version": "3.9.5"
  },
  "orig_nbformat": 4
 },
 "nbformat": 4,
 "nbformat_minor": 2
}
