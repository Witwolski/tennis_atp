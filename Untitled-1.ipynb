{
 "cells": [
  {
   "cell_type": "code",
   "execution_count": 106,
   "metadata": {},
   "outputs": [],
   "source": [
    "from sqlalchemy import create_engine\n",
    "import pandas as pd\n",
    "import numpy as np\n",
    "devengine = create_engine(\"sqlite:///C:/Git/tennis_atp/database/bets_sqllite.db\")"
   ]
  },
  {
   "cell_type": "code",
   "execution_count": 107,
   "metadata": {},
   "outputs": [],
   "source": [
    "elo_data = pd.read_sql_query(\n",
    "    \"Select DISTINCT * From Elo_AllMatches_Daily_Hard_ThreeMonths where date < '2022-09-16' --and date > '2022-06-31' and (Surface like 'Hard' or Surface like '') --and Elo_Fav_Est_Odds < 1.8\",\n",
    "    con=devengine,\n",
    ")"
   ]
  },
  {
   "cell_type": "code",
   "execution_count": 108,
   "metadata": {},
   "outputs": [],
   "source": [
    "elo_data=elo_data[elo_data['Sex']=='Mens']"
   ]
  },
  {
   "cell_type": "code",
   "execution_count": 109,
   "metadata": {},
   "outputs": [
    {
     "name": "stdout",
     "output_type": "stream",
     "text": [
      "1.1 1.2 0.8795180722891566\n",
      "505.0\n",
      "1.3 1.4 0.7819548872180451\n",
      "3480.0\n",
      "1.4 1.5 0.704225352112676\n",
      "1490.0\n",
      "1.5 1.6 0.6792452830188679\n",
      "4110.0\n",
      "2.2 2.3 0.5376344086021505\n",
      "9720.0\n",
      "2.7 2.8 0.453125\n",
      "7915.0\n",
      "3.0 3.1 0.3333333333333333\n",
      "280.0\n",
      "3.1 3.2 0.3181818181818182\n",
      "130.0\n",
      "3.2 3.3 0.32558139534883723\n",
      "1220.0\n",
      "3.6 3.7 0.3181818181818182\n",
      "1850.0\n",
      "3.7 3.8 0.32\n",
      "2520.0\n"
     ]
    }
   ],
   "source": [
    "for x in range(1,4):\n",
    "    for y in range(0,10):\n",
    "        lower=x+(y*0.1)\n",
    "        upper=x+((y+1)*0.1)\n",
    "\n",
    "        test1=elo_data[(elo_data['Elo_Dog_Odds'].ge(lower))&(elo_data['Elo_Dog_Odds'].le(upper))].copy()\n",
    "        percent=len(test1[test1['Winner']!=test1['Elo_Fav']])/len(test1)\n",
    "        STAKE=500\n",
    "        test1['Profit']=test1.apply(lambda x: -STAKE if x['Winner']==x['Elo_Fav'] else (STAKE * x['Elo_Dog_Odds'])-STAKE,axis=1)\n",
    "        if test1['Profit'].sum() >0 and len(test1) >20:\n",
    "            print(lower,upper,percent)\n",
    "            print(test1['Profit'].sum())\n"
   ]
  },
  {
   "cell_type": "code",
   "execution_count": 110,
   "metadata": {},
   "outputs": [
    {
     "name": "stdout",
     "output_type": "stream",
     "text": [
      "2.0 2.1 0.5444444444444444\n",
      "5265.0\n",
      "2.1 2.2 0.4673913043478261\n",
      "175.0\n",
      "2.7 2.8 0.375\n",
      "540.0\n",
      "2.9 3.0 0.38461538461538464\n",
      "1800.0\n"
     ]
    }
   ],
   "source": [
    "for x in range(1,4):\n",
    "    for y in range(0,10):\n",
    "        lower=x+(y*0.1)\n",
    "        upper=x+((y+1)*0.1)\n",
    "\n",
    "        test1=elo_data[(elo_data['Elo_Fav_Odds'].ge(lower))&(elo_data['Elo_Fav_Odds'].le(upper))].copy()\n",
    "        percent=len(test1[test1['Winner']==test1['Elo_Fav']])/len(test1)\n",
    "        STAKE=500\n",
    "        test1['Profit']=test1.apply(lambda x: -STAKE if x['Winner']!=x['Elo_Fav'] else (STAKE * x['Elo_Fav_Odds'])-STAKE,axis=1)\n",
    "        if test1['Profit'].sum() >0 and len(test1) >20:\n",
    "            print(lower,upper,percent)\n",
    "            print(test1['Profit'].sum())\n"
   ]
  },
  {
   "cell_type": "code",
   "execution_count": 111,
   "metadata": {},
   "outputs": [],
   "source": [
    "elo_data_today = pd.read_sql_query(\n",
    "    \"Select * From Elo_AllMatches_Daily_Hard_Today --where date < '2022-09-01' and date > '2022-06-31' and (Surface like 'Hard' or Surface like '') --and Elo_Fav_Est_Odds < 1.8\",\n",
    "    con=devengine,\n",
    ")"
   ]
  },
  {
   "cell_type": "code",
   "execution_count": 112,
   "metadata": {},
   "outputs": [
    {
     "data": {
      "text/html": [
       "<div>\n",
       "<style scoped>\n",
       "    .dataframe tbody tr th:only-of-type {\n",
       "        vertical-align: middle;\n",
       "    }\n",
       "\n",
       "    .dataframe tbody tr th {\n",
       "        vertical-align: top;\n",
       "    }\n",
       "\n",
       "    .dataframe thead th {\n",
       "        text-align: right;\n",
       "    }\n",
       "</style>\n",
       "<table border=\"1\" class=\"dataframe\">\n",
       "  <thead>\n",
       "    <tr style=\"text-align: right;\">\n",
       "      <th></th>\n",
       "      <th>Surface</th>\n",
       "      <th>Date</th>\n",
       "      <th>Sex</th>\n",
       "      <th>Winner</th>\n",
       "      <th>Resulted</th>\n",
       "      <th>Time</th>\n",
       "      <th>Elo_Fav</th>\n",
       "      <th>Elo_Dog</th>\n",
       "      <th>Elo_Fav_Odds</th>\n",
       "      <th>Elo_Dog_Odds</th>\n",
       "      <th>Elo_Fav_Est_Odds</th>\n",
       "      <th>Elo_Dog_Est_Odds</th>\n",
       "      <th>Elo_Fav_Elo</th>\n",
       "      <th>Elo_Dog_Elo</th>\n",
       "      <th>Elo_Fav_Total</th>\n",
       "      <th>Elo_Dog_Total</th>\n",
       "    </tr>\n",
       "  </thead>\n",
       "  <tbody>\n",
       "    <tr>\n",
       "      <th>4</th>\n",
       "      <td>Hard</td>\n",
       "      <td>2022-09-18</td>\n",
       "      <td>Womens</td>\n",
       "      <td>Valentini Grammatikopoulou</td>\n",
       "      <td>False</td>\n",
       "      <td>13:00</td>\n",
       "      <td>Valentini Grammatikopoulou</td>\n",
       "      <td>Ankita Raina</td>\n",
       "      <td>1.41</td>\n",
       "      <td>2.78</td>\n",
       "      <td>1.146398</td>\n",
       "      <td>7.830699</td>\n",
       "      <td>1671.135555</td>\n",
       "      <td>1337.349507</td>\n",
       "      <td>23</td>\n",
       "      <td>22</td>\n",
       "    </tr>\n",
       "    <tr>\n",
       "      <th>7</th>\n",
       "      <td>Hard</td>\n",
       "      <td>2022-09-18</td>\n",
       "      <td>Womens</td>\n",
       "      <td>Danielle Lao</td>\n",
       "      <td>False</td>\n",
       "      <td>12:00</td>\n",
       "      <td>Danielle Lao</td>\n",
       "      <td>Ellen Perez</td>\n",
       "      <td>1.41</td>\n",
       "      <td>2.76</td>\n",
       "      <td>1.405589</td>\n",
       "      <td>3.465549</td>\n",
       "      <td>1543.782499</td>\n",
       "      <td>1387.017062</td>\n",
       "      <td>13</td>\n",
       "      <td>17</td>\n",
       "    </tr>\n",
       "  </tbody>\n",
       "</table>\n",
       "</div>"
      ],
      "text/plain": [
       "  Surface        Date     Sex                      Winner Resulted   Time  \\\n",
       "4    Hard  2022-09-18  Womens  Valentini Grammatikopoulou    False  13:00   \n",
       "7    Hard  2022-09-18  Womens                Danielle Lao    False  12:00   \n",
       "\n",
       "                      Elo_Fav       Elo_Dog  Elo_Fav_Odds  Elo_Dog_Odds  \\\n",
       "4  Valentini Grammatikopoulou  Ankita Raina          1.41          2.78   \n",
       "7                Danielle Lao   Ellen Perez          1.41          2.76   \n",
       "\n",
       "   Elo_Fav_Est_Odds  Elo_Dog_Est_Odds  Elo_Fav_Elo  Elo_Dog_Elo  \\\n",
       "4          1.146398          7.830699  1671.135555  1337.349507   \n",
       "7          1.405589          3.465549  1543.782499  1387.017062   \n",
       "\n",
       "   Elo_Fav_Total  Elo_Dog_Total  \n",
       "4             23             22  \n",
       "7             13             17  "
      ]
     },
     "execution_count": 112,
     "metadata": {},
     "output_type": "execute_result"
    }
   ],
   "source": [
    "elo_data_today[(elo_data_today['Elo_Dog_Odds'].ge(2.7))&(elo_data_today['Elo_Dog_Odds'].le(2.8))]\n"
   ]
  },
  {
   "cell_type": "code",
   "execution_count": 113,
   "metadata": {},
   "outputs": [
    {
     "data": {
      "text/html": [
       "<div>\n",
       "<style scoped>\n",
       "    .dataframe tbody tr th:only-of-type {\n",
       "        vertical-align: middle;\n",
       "    }\n",
       "\n",
       "    .dataframe tbody tr th {\n",
       "        vertical-align: top;\n",
       "    }\n",
       "\n",
       "    .dataframe thead th {\n",
       "        text-align: right;\n",
       "    }\n",
       "</style>\n",
       "<table border=\"1\" class=\"dataframe\">\n",
       "  <thead>\n",
       "    <tr style=\"text-align: right;\">\n",
       "      <th></th>\n",
       "      <th>Surface</th>\n",
       "      <th>Date</th>\n",
       "      <th>Sex</th>\n",
       "      <th>Winner</th>\n",
       "      <th>Resulted</th>\n",
       "      <th>Time</th>\n",
       "      <th>Elo_Fav</th>\n",
       "      <th>Elo_Dog</th>\n",
       "      <th>Elo_Fav_Odds</th>\n",
       "      <th>Elo_Dog_Odds</th>\n",
       "      <th>Elo_Fav_Est_Odds</th>\n",
       "      <th>Elo_Dog_Est_Odds</th>\n",
       "      <th>Elo_Fav_Elo</th>\n",
       "      <th>Elo_Dog_Elo</th>\n",
       "      <th>Elo_Fav_Total</th>\n",
       "      <th>Elo_Dog_Total</th>\n",
       "    </tr>\n",
       "  </thead>\n",
       "  <tbody>\n",
       "  </tbody>\n",
       "</table>\n",
       "</div>"
      ],
      "text/plain": [
       "Empty DataFrame\n",
       "Columns: [Surface, Date, Sex, Winner, Resulted, Time, Elo_Fav, Elo_Dog, Elo_Fav_Odds, Elo_Dog_Odds, Elo_Fav_Est_Odds, Elo_Dog_Est_Odds, Elo_Fav_Elo, Elo_Dog_Elo, Elo_Fav_Total, Elo_Dog_Total]\n",
       "Index: []"
      ]
     },
     "execution_count": 113,
     "metadata": {},
     "output_type": "execute_result"
    }
   ],
   "source": [
    "elo_data_today[((elo_data_today['Elo_Fav_Odds'].ge(1.9))&(elo_data_today['Elo_Fav_Odds'].le(2)))|((elo_data_today['Elo_Fav_Odds'].ge(2.2))&(elo_data_today['Elo_Fav_Odds'].le(2.3)))]\n"
   ]
  }
 ],
 "metadata": {
  "kernelspec": {
   "display_name": "Python 3.9.5 64-bit",
   "language": "python",
   "name": "python3"
  },
  "language_info": {
   "codemirror_mode": {
    "name": "ipython",
    "version": 3
   },
   "file_extension": ".py",
   "mimetype": "text/x-python",
   "name": "python",
   "nbconvert_exporter": "python",
   "pygments_lexer": "ipython3",
   "version": "3.9.5"
  },
  "orig_nbformat": 4,
  "vscode": {
   "interpreter": {
    "hash": "9e3bfd5707cea17bcbe380e30b983be31a9c4e73ed42697506103186bbe325e5"
   }
  }
 },
 "nbformat": 4,
 "nbformat_minor": 2
}
