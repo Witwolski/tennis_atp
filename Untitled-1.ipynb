{
 "cells": [
  {
   "cell_type": "code",
   "execution_count": 13,
   "metadata": {},
   "outputs": [],
   "source": [
    "from sqlalchemy import create_engine\n",
    "import pandas as pd\n",
    "import numpy as np\n",
    "devengine = create_engine(\"sqlite:///C:/Git/tennis_atp/database/bets_sqllite.db\")"
   ]
  },
  {
   "cell_type": "code",
   "execution_count": 79,
   "metadata": {},
   "outputs": [],
   "source": [
    "elo_data = pd.read_sql_query(\n",
    "    \"Select DISTINCT * From Elo_AllMatches_Daily_Hard_ThreeMonths where date < '2022-09-16' --and date > '2022-06-31' and (Surface like 'Hard' or Surface like '') --and Elo_Fav_Est_Odds < 1.8\",\n",
    "    con=devengine,\n",
    ")"
   ]
  },
  {
   "cell_type": "code",
   "execution_count": 82,
   "metadata": {},
   "outputs": [
    {
     "name": "stdout",
     "output_type": "stream",
     "text": [
      "3.0 3.1 0.37735849056603776\n",
      "3895.0\n",
      "3.1 3.2 0.3275862068965517\n",
      "985.0\n",
      "3.2 3.3 0.31666666666666665\n",
      "865.0\n",
      "3.6 3.7 0.29411764705882354\n",
      "1330.0\n",
      "3.7 3.8 0.34375\n",
      "4655.0\n"
     ]
    }
   ],
   "source": [
    "for x in range(3,4):\n",
    "    for y in range(0,10):\n",
    "        lower=x+(y*0.1)\n",
    "        upper=x+((y+1)*0.1)\n",
    "\n",
    "        test1=elo_data[(elo_data['Elo_Dog_Odds'].ge(lower))&(elo_data['Elo_Dog_Odds'].le(upper))].copy()\n",
    "        percent=len(test1[test1['Winner']!=test1['Elo_Fav']])/len(test1)\n",
    "        STAKE=500\n",
    "        test1['Profit']=test1.apply(lambda x: -STAKE if x['Winner']==x['Elo_Fav'] else (STAKE * x['Elo_Dog_Odds'])-STAKE,axis=1)\n",
    "        if test1['Profit'].sum() >0 and len(test1) >20:\n",
    "            print(lower,upper,percent)\n",
    "            print(test1['Profit'].sum())\n"
   ]
  },
  {
   "cell_type": "code",
   "execution_count": 78,
   "metadata": {},
   "outputs": [],
   "source": [
    "for x in range(3,4):\n",
    "    for y in range(0,10):\n",
    "        lower=x+(y*0.1)\n",
    "        upper=x+((y+1)*0.1)\n",
    "\n",
    "        test1=elo_data[(elo_data['Elo_Fav_Odds'].ge(lower))&(elo_data['Elo_Fav_Odds'].le(upper))].copy()\n",
    "        percent=len(test1[test1['Winner']==test1['Elo_Fav']])/len(test1)\n",
    "        STAKE=500\n",
    "        test1['Profit']=test1.apply(lambda x: -STAKE if x['Winner']!=x['Elo_Fav'] else (STAKE * x['Elo_Fav_Odds'])-STAKE,axis=1)\n",
    "        if test1['Profit'].sum() >0 and len(test1) >20:\n",
    "            print(lower,upper,percent)\n",
    "            print(test1['Profit'].sum())\n"
   ]
  },
  {
   "cell_type": "code",
   "execution_count": 68,
   "metadata": {},
   "outputs": [],
   "source": [
    "elo_data_today = pd.read_sql_query(\n",
    "    \"Select * From Elo_AllMatches_Daily_Hard_Today --where date < '2022-09-01' and date > '2022-06-31' and (Surface like 'Hard' or Surface like '') --and Elo_Fav_Est_Odds < 1.8\",\n",
    "    con=devengine,\n",
    ")"
   ]
  },
  {
   "cell_type": "code",
   "execution_count": 66,
   "metadata": {},
   "outputs": [
    {
     "data": {
      "text/html": [
       "<div>\n",
       "<style scoped>\n",
       "    .dataframe tbody tr th:only-of-type {\n",
       "        vertical-align: middle;\n",
       "    }\n",
       "\n",
       "    .dataframe tbody tr th {\n",
       "        vertical-align: top;\n",
       "    }\n",
       "\n",
       "    .dataframe thead th {\n",
       "        text-align: right;\n",
       "    }\n",
       "</style>\n",
       "<table border=\"1\" class=\"dataframe\">\n",
       "  <thead>\n",
       "    <tr style=\"text-align: right;\">\n",
       "      <th></th>\n",
       "      <th>Surface</th>\n",
       "      <th>Date</th>\n",
       "      <th>Sex</th>\n",
       "      <th>Winner</th>\n",
       "      <th>Elo_Fav</th>\n",
       "      <th>Elo_Dog</th>\n",
       "      <th>Elo_Fav_Odds</th>\n",
       "      <th>Elo_Dog_Odds</th>\n",
       "      <th>Elo_Fav_Est_Odds</th>\n",
       "      <th>Elo_Dog_Est_Odds</th>\n",
       "      <th>Elo_Fav_Elo</th>\n",
       "      <th>Elo_Dog_Elo</th>\n",
       "      <th>Elo_Fav_Total</th>\n",
       "      <th>Elo_Dog_Total</th>\n",
       "    </tr>\n",
       "  </thead>\n",
       "  <tbody>\n",
       "    <tr>\n",
       "      <th>9</th>\n",
       "      <td>Hard</td>\n",
       "      <td>2022-09-16</td>\n",
       "      <td>Mens</td>\n",
       "      <td>Gregoire Barrere</td>\n",
       "      <td>Gregoire Barrere</td>\n",
       "      <td>Evan Furness</td>\n",
       "      <td>1.41</td>\n",
       "      <td>2.77</td>\n",
       "      <td>1.60496</td>\n",
       "      <td>2.653001</td>\n",
       "      <td>1648.751207</td>\n",
       "      <td>1561.441968</td>\n",
       "      <td>19</td>\n",
       "      <td>11</td>\n",
       "    </tr>\n",
       "  </tbody>\n",
       "</table>\n",
       "</div>"
      ],
      "text/plain": [
       "  Surface        Date   Sex            Winner           Elo_Fav       Elo_Dog  \\\n",
       "9    Hard  2022-09-16  Mens  Gregoire Barrere  Gregoire Barrere  Evan Furness   \n",
       "\n",
       "   Elo_Fav_Odds  Elo_Dog_Odds  Elo_Fav_Est_Odds  Elo_Dog_Est_Odds  \\\n",
       "9          1.41          2.77           1.60496          2.653001   \n",
       "\n",
       "   Elo_Fav_Elo  Elo_Dog_Elo  Elo_Fav_Total  Elo_Dog_Total  \n",
       "9  1648.751207  1561.441968             19             11  "
      ]
     },
     "execution_count": 66,
     "metadata": {},
     "output_type": "execute_result"
    }
   ],
   "source": [
    "elo_data_today[(elo_data_today['Elo_Dog_Odds'].ge(2.7))&(elo_data_today['Elo_Dog_Odds'].le(2.8))]\n"
   ]
  },
  {
   "cell_type": "code",
   "execution_count": 69,
   "metadata": {},
   "outputs": [
    {
     "data": {
      "text/html": [
       "<div>\n",
       "<style scoped>\n",
       "    .dataframe tbody tr th:only-of-type {\n",
       "        vertical-align: middle;\n",
       "    }\n",
       "\n",
       "    .dataframe tbody tr th {\n",
       "        vertical-align: top;\n",
       "    }\n",
       "\n",
       "    .dataframe thead th {\n",
       "        text-align: right;\n",
       "    }\n",
       "</style>\n",
       "<table border=\"1\" class=\"dataframe\">\n",
       "  <thead>\n",
       "    <tr style=\"text-align: right;\">\n",
       "      <th></th>\n",
       "      <th>Surface</th>\n",
       "      <th>Date</th>\n",
       "      <th>Sex</th>\n",
       "      <th>Winner</th>\n",
       "      <th>Elo_Fav</th>\n",
       "      <th>Elo_Dog</th>\n",
       "      <th>Elo_Fav_Odds</th>\n",
       "      <th>Elo_Dog_Odds</th>\n",
       "      <th>Elo_Fav_Est_Odds</th>\n",
       "      <th>Elo_Dog_Est_Odds</th>\n",
       "      <th>Elo_Fav_Elo</th>\n",
       "      <th>Elo_Dog_Elo</th>\n",
       "      <th>Elo_Fav_Total</th>\n",
       "      <th>Elo_Dog_Total</th>\n",
       "    </tr>\n",
       "  </thead>\n",
       "  <tbody>\n",
       "    <tr>\n",
       "      <th>4</th>\n",
       "      <td>Hard</td>\n",
       "      <td>2022-09-16</td>\n",
       "      <td>Mens</td>\n",
       "      <td>Lukas Rosol</td>\n",
       "      <td>Lukas Rosol</td>\n",
       "      <td>Laurent Lokoli</td>\n",
       "      <td>2.00</td>\n",
       "      <td>1.76</td>\n",
       "      <td>1.808623</td>\n",
       "      <td>2.236670</td>\n",
       "      <td>1629.150089</td>\n",
       "      <td>1592.248547</td>\n",
       "      <td>7</td>\n",
       "      <td>15</td>\n",
       "    </tr>\n",
       "    <tr>\n",
       "      <th>7</th>\n",
       "      <td>Hard</td>\n",
       "      <td>2022-09-16</td>\n",
       "      <td>Mens</td>\n",
       "      <td>Jordan Thompson</td>\n",
       "      <td>Juncheng Shang</td>\n",
       "      <td>Jordan Thompson</td>\n",
       "      <td>2.22</td>\n",
       "      <td>1.61</td>\n",
       "      <td>1.248447</td>\n",
       "      <td>5.024997</td>\n",
       "      <td>1855.824623</td>\n",
       "      <td>1613.918399</td>\n",
       "      <td>19</td>\n",
       "      <td>16</td>\n",
       "    </tr>\n",
       "  </tbody>\n",
       "</table>\n",
       "</div>"
      ],
      "text/plain": [
       "  Surface        Date   Sex           Winner         Elo_Fav          Elo_Dog  \\\n",
       "4    Hard  2022-09-16  Mens      Lukas Rosol     Lukas Rosol   Laurent Lokoli   \n",
       "7    Hard  2022-09-16  Mens  Jordan Thompson  Juncheng Shang  Jordan Thompson   \n",
       "\n",
       "   Elo_Fav_Odds  Elo_Dog_Odds  Elo_Fav_Est_Odds  Elo_Dog_Est_Odds  \\\n",
       "4          2.00          1.76          1.808623          2.236670   \n",
       "7          2.22          1.61          1.248447          5.024997   \n",
       "\n",
       "   Elo_Fav_Elo  Elo_Dog_Elo  Elo_Fav_Total  Elo_Dog_Total  \n",
       "4  1629.150089  1592.248547              7             15  \n",
       "7  1855.824623  1613.918399             19             16  "
      ]
     },
     "execution_count": 69,
     "metadata": {},
     "output_type": "execute_result"
    }
   ],
   "source": [
    "elo_data_today[((elo_data_today['Elo_Fav_Odds'].ge(1.9))&(elo_data_today['Elo_Fav_Odds'].le(2)))|((elo_data_today['Elo_Fav_Odds'].ge(2.2))&(elo_data_today['Elo_Fav_Odds'].le(2.3)))]\n"
   ]
  }
 ],
 "metadata": {
  "kernelspec": {
   "display_name": "Python 3.9.13 64-bit",
   "language": "python",
   "name": "python3"
  },
  "language_info": {
   "codemirror_mode": {
    "name": "ipython",
    "version": 3
   },
   "file_extension": ".py",
   "mimetype": "text/x-python",
   "name": "python",
   "nbconvert_exporter": "python",
   "pygments_lexer": "ipython3",
   "version": "3.9.13"
  },
  "orig_nbformat": 4,
  "vscode": {
   "interpreter": {
    "hash": "6fff98fc3b3d81bd655c2cc48858186e4d9e2db7b515bf1c3221888f12a62f87"
   }
  }
 },
 "nbformat": 4,
 "nbformat_minor": 2
}
