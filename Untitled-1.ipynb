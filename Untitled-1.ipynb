{
 "cells": [
  {
   "cell_type": "code",
   "execution_count": 51,
   "metadata": {},
   "outputs": [],
   "source": [
    "from sqlalchemy import create_engine\n",
    "import pandas as pd\n",
    "import numpy as np\n",
    "import datetime\n",
    "devengine = create_engine(\"sqlite:///C:/Git/tennis_atp/database/bets_sqllite.db\")\n",
    "time_now = datetime.datetime.now()\n",
    "time_now_formatted = time_now.strftime(\"%Y-%m-%d\")"
   ]
  },
  {
   "cell_type": "code",
   "execution_count": 52,
   "metadata": {},
   "outputs": [],
   "source": [
    "elo_hard=pd.read_sql_query(\n",
    "    f\"Select DISTINCT * From Elo_AllMatches_Hard where Date > '2021-01-01' and Date not like '{time_now_formatted}'\",\n",
    "    con=devengine,)\n",
    "\n",
    "elo_clay=pd.read_sql_query(\n",
    "    f\"Select DISTINCT * From Elo_AllMatches_Clay where Date not like '{time_now_formatted}'\",\n",
    "    con=devengine,)\n"
   ]
  },
  {
   "cell_type": "markdown",
   "metadata": {},
   "source": []
  },
  {
   "cell_type": "code",
   "execution_count": 53,
   "metadata": {},
   "outputs": [],
   "source": [
    "elo_data_hard =pd.read_sql_query(\n",
    "    f\"Select DISTINCT * From Elo_AllMatches_Hard where Date like '{time_now_formatted}' and resulted like 'False' --and Elo_Fav_Odds>1.19 --and Winner_Rank BETWEEN 1 AND 200 --and Winner_Rank<1000\",\n",
    "    con=devengine,)\n",
    "\n",
    "\n",
    "elo_data_clay =pd.read_sql_query(\n",
    "    f\"Select DISTINCT * From Elo_AllMatches_Clay where Date like '{time_now_formatted}' --and Elo_Fav_Odds>1.19\",\n",
    "    con=devengine,)"
   ]
  },
  {
   "cell_type": "code",
   "execution_count": 54,
   "metadata": {},
   "outputs": [],
   "source": [
    "def get_player_record(player,opponent_rank,history,time,opponent,rank):\n",
    "    player_history_top50=pd.DataFrame()\n",
    "    player_history_top100=pd.DataFrame()\n",
    "    player_history=pd.DataFrame()\n",
    "    if opponent_rank<50:\n",
    "        player_history_top50=history[(((history['Fav']==player)&(history['Dog_Rank']<50))|((history['Dog']==player)&(history['Fav_Rank']<50)))]\n",
    "        #if player_history_top50.empty==False and (len(player_history_top50[player_history_top50['Winner']==player])/len(player_history_top50))  > 0.5:\n",
    "            \n",
    "            #print(time,player,\"Top50\",len(player_history_top50))\n",
    "            #print(len(player_history_top50[player_history_top50['Winner']==player])/len(player_history_top50))        \n",
    "    if opponent_rank<100:\n",
    "        player_history_top100=history[(((history['Fav']==player)&(history['Dog_Rank']<100))|((history['Dog']==player)&(history['Fav_Rank']<100)))]\n",
    "        #if player_history_top100.empty==False and (len(player_history_top100[player_history_top100['Winner']==player])/len(player_history_top100))   > 0.5:     \n",
    "        #    print(time,player,\"Top100\",len(player_history_top100))\n",
    "        #    print(len(player_history_top100[player_history_top100['Winner']==player])/len(player_history_top100))   \n",
    "            \n",
    "    else:\n",
    "        opponent_rank_low=opponent_rank-50\n",
    "        opponent_rank_high=opponent_rank+50\n",
    "        player_history=history[((history['Fav']==player)&((history['Dog_Rank']>opponent_rank_low)&(history['Dog_Rank']<opponent_rank_high)))|\n",
    "        ((history['Dog']==player)&((history['Fav_Rank']>opponent_rank_low)&(history['Fav_Rank']<opponent_rank_high)))]\n",
    "        #if player_history.empty==False:\n",
    "        #    if (len(player_history[player_history['Winner']==player])/len(player_history)) > 0.5 and len(player_history) >5:\n",
    "        #        print(time,player,opponent_rank_low,opponent_rank_high,len(player_history))\n",
    "        #        print(len(player_history[player_history['Winner']==player])/len(player_history))       \n",
    "    \n",
    "    return player_history,player_history_top100,player_history\n",
    "\n",
    "\n"
   ]
  },
  {
   "cell_type": "code",
   "execution_count": 55,
   "metadata": {},
   "outputs": [],
   "source": [
    "def get_player_record(player, opponent_rank, history, range_low,range_high,auto):\n",
    "    if auto:\n",
    "        opponent_rank_low = opponent_rank - range_low\n",
    "        opponent_rank_high = opponent_rank + range_high\n",
    "    else:\n",
    "        opponent_rank_low = range_low\n",
    "        opponent_rank_high = range_high\n",
    "\n",
    "    player_history = history[\n",
    "        (\n",
    "            (history[\"Fav\"] == player)\n",
    "            & (\n",
    "                (history[\"Dog_Rank\"] > opponent_rank_low)\n",
    "                & (history[\"Dog_Rank\"] < opponent_rank_high)\n",
    "            )\n",
    "        )\n",
    "        | (\n",
    "            (history[\"Dog\"] == player)\n",
    "            & (\n",
    "                (history[\"Fav_Rank\"] > opponent_rank_low)\n",
    "                & (history[\"Fav_Rank\"] < opponent_rank_high)\n",
    "            )\n",
    "        )\n",
    "    ]\n",
    "    if player_history.empty == False:\n",
    "        result = float(\n",
    "            len(player_history[player_history[\"Winner\"] == player])\n",
    "            / len(player_history)\n",
    "        )\n",
    "        return result, len(player_history)\n",
    "    else:\n",
    "        return 0, 0\n"
   ]
  },
  {
   "cell_type": "code",
   "execution_count": 56,
   "metadata": {},
   "outputs": [
    {
     "name": "stdout",
     "output_type": "stream",
     "text": [
      "01:50 Nuno Borges 1.34 Jozef Kovalik 3.07\n",
      "60% (10 Games) 20% (5 Games)\n",
      "02:00 Ulises Blanch 1.66 Donald Young 2.10\n",
      "64% (11 Games) 17% (6 Games)\n",
      "03:30 Shuai Zhang 1.32 Nao Hibino 3.26\n",
      "80% (10 Games) 20% (5 Games)\n",
      "04:00 Dominic Stricker 1.71 Tim Van Rijthoven 2.04\n",
      "50% (10 Games) 23% (13 Games)\n",
      "07:00 Christopher Eubanks 1.26 Nicolas Alvarez Varona 3.62\n",
      "67% (12 Games) 17% (6 Games)\n",
      "10:00 Christopher Oconnell 1.21 Ramkumar Ramanathan 4.06\n",
      "50% (10 Games) 38% (8 Games)\n",
      "10:00 Hoang Ly Nam 1.13 Tatsuma Ito 5.30\n",
      "67% (9 Games) 17% (6 Games)\n",
      "11:30 Omar Jasika 1.53 Tristan Schoolkate 2.39\n",
      "80% (10 Games) 17% (6 Games)\n",
      "13:00 Rio Noguchi 1.33 Philip Sekulic 3.14\n",
      "80% (10 Games) 20% (5 Games)\n",
      "16:00 Hiroki Moriya 1.58 Filip Cristian Jianu 2.27\n",
      "50% (10 Games) 17% (6 Games)\n",
      "18:00 Borna Coric 1.50 Corentin Moutet 2.58\n",
      "60% (15 Games) 36% (11 Games)\n",
      "18:00 Pablo Carreno Busta 1.24 Albert Ramos Vinolas 4.08\n",
      "62% (26 Games) 33% (9 Games)\n",
      "18:00 Daniel Evans 1.89 Brandon Nakashima 1.91\n",
      "57% (40 Games) 30% (23 Games)\n",
      "18:00 Hubert Hurkacz 1.26 Adrian Mannarino 3.86\n",
      "61% (38 Games) 36% (22 Games)\n",
      "19:00 Zhizhen Zhang 1.61 Giulio Zeppieri 2.22\n",
      "55% (11 Games) 0% (5 Games)\n"
     ]
    }
   ],
   "source": [
    "\n",
    "for _,row in elo_data_hard.sort_values(by='Time').iterrows():\n",
    "    low_limit=50\n",
    "    high_limit=50\n",
    "\n",
    "    percent,games=get_player_record(row.Fav,row.Dog_Rank,elo_hard,low_limit,high_limit,True)\n",
    "    count=0\n",
    "    while games <10 and count<200:\n",
    "        count=count+1\n",
    "        low_limit=low_limit+10\n",
    "        high_limit=high_limit+10\n",
    "        percent,games=get_player_record(row.Fav,row.Dog_Rank,elo_hard,low_limit,high_limit,True)\n",
    "\n",
    "    low_limit=50\n",
    "    high_limit=50\n",
    "    percent2,games2=get_player_record(row.Dog,row.Fav_Rank,elo_hard,low_limit,high_limit,True)\n",
    "    count=0\n",
    "    while games2 <5 and count<200:\n",
    "        count=count+1\n",
    "        low_limit=low_limit+10\n",
    "        high_limit=high_limit+10\n",
    "        percent2,games2=get_player_record(row.Dog,row.Fav_Rank,elo_hard,low_limit,high_limit,True)       \n",
    "        \n",
    "\n",
    "    if  ((percent >=0.5  and percent2 < 0.4)) and games>4 and games2>4:\n",
    "    #if  (percent2 < 5)| (percent < 5):\n",
    "\n",
    "        print(row.Time,row.Fav,row.Fav_Odds,row.Dog,row.Dog_Odds)\n",
    "        print(\"{:.0%}\".format(percent),f\"({games} Games)\",\"{:.0%}\".format(percent2),f\"({games2} Games)\")\n",
    "\n",
    "        \n"
   ]
  }
 ],
 "metadata": {
  "kernelspec": {
   "display_name": "Python 3.9.5 64-bit",
   "language": "python",
   "name": "python3"
  },
  "language_info": {
   "codemirror_mode": {
    "name": "ipython",
    "version": 3
   },
   "file_extension": ".py",
   "mimetype": "text/x-python",
   "name": "python",
   "nbconvert_exporter": "python",
   "pygments_lexer": "ipython3",
   "version": "3.9.5"
  },
  "orig_nbformat": 4,
  "vscode": {
   "interpreter": {
    "hash": "9e3bfd5707cea17bcbe380e30b983be31a9c4e73ed42697506103186bbe325e5"
   }
  }
 },
 "nbformat": 4,
 "nbformat_minor": 2
}
